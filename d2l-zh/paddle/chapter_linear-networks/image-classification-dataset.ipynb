{
 "cells": [
  {
   "cell_type": "markdown",
   "id": "d18b627d",
   "metadata": {
    "origin_pos": 0
   },
   "source": [
    "# 图像分类数据集\n",
    ":label:`sec_fashion_mnist`\n",
    "\n",
    "(**MNIST数据集**) :cite:`LeCun.Bottou.Bengio.ea.1998`\n",
    "(**是图像分类中广泛使用的数据集之一，但作为基准数据集过于简单。\n",
    "我们将使用类似但更复杂的Fashion-MNIST数据集**) :cite:`Xiao.Rasul.Vollgraf.2017`。\n"
   ]
  },
  {
   "cell_type": "code",
   "execution_count": 1,
   "id": "606b27a3",
   "metadata": {
    "execution": {
     "iopub.execute_input": "2023-08-18T09:15:10.221031Z",
     "iopub.status.busy": "2023-08-18T09:15:10.220295Z",
     "iopub.status.idle": "2023-08-18T09:15:12.252347Z",
     "shell.execute_reply": "2023-08-18T09:15:12.251029Z"
    },
    "origin_pos": 4,
    "tab": [
     "paddle"
    ]
   },
   "source": [
    "%matplotlib inline\n",
    "import warnings\n",
    "from d2l import paddle as d2l\n",
    "\n",
    "warnings.filterwarnings(\"ignore\")\n",
    "import sys\n",
    "import paddle\n",
    "from paddle.vision import transforms\n",
    "\n",
    "d2l.use_svg_display()"
   ],
   "outputs": []
  },
  {
   "cell_type": "markdown",
   "id": "0cb33d5f",
   "metadata": {
    "origin_pos": 5
   },
   "source": [
    "## 读取数据集\n",
    "\n",
    "我们可以[**通过框架中的内置函数将Fashion-MNIST数据集下载并读取到内存中**]。\n"
   ]
  },
  {
   "cell_type": "code",
   "execution_count": 2,
   "id": "c8909c01",
   "metadata": {
    "execution": {
     "iopub.execute_input": "2023-08-18T09:15:12.257330Z",
     "iopub.status.busy": "2023-08-18T09:15:12.256274Z",
     "iopub.status.idle": "2023-08-18T09:15:16.553742Z",
     "shell.execute_reply": "2023-08-18T09:15:16.552586Z"
    },
    "origin_pos": 9,
    "tab": [
     "paddle"
    ]
   },
   "source": [
    "trans = transforms.ToTensor()\n",
    "mnist_train = paddle.vision.datasets.FashionMNIST(mode=\"train\",\n",
    "                                                  transform=trans)\n",
    "mnist_test = paddle.vision.datasets.FashionMNIST(mode=\"test\", transform=trans)"
   ],
   "outputs": []
  },
  {
   "cell_type": "markdown",
   "id": "e112b697",
   "metadata": {
    "origin_pos": 10
   },
   "source": [
    "Fashion-MNIST由10个类别的图像组成，\n",
    "每个类别由*训练数据集*（train dataset）中的6000张图像\n",
    "和*测试数据集*（test dataset）中的1000张图像组成。\n",
    "因此，训练集和测试集分别包含60000和10000张图像。\n",
    "测试数据集不会用于训练，只用于评估模型性能。\n"
   ]
  },
  {
   "cell_type": "code",
   "execution_count": 3,
   "id": "4bf42191",
   "metadata": {
    "execution": {
     "iopub.execute_input": "2023-08-18T09:15:16.558283Z",
     "iopub.status.busy": "2023-08-18T09:15:16.557472Z",
     "iopub.status.idle": "2023-08-18T09:15:16.565020Z",
     "shell.execute_reply": "2023-08-18T09:15:16.564011Z"
    },
    "origin_pos": 11,
    "tab": [
     "paddle"
    ]
   },
   "source": [
    "len(mnist_train), len(mnist_test)"
   ],
   "outputs": []
  },
  {
   "cell_type": "markdown",
   "id": "afccc304",
   "metadata": {
    "origin_pos": 13
   },
   "source": [
    "每个输入图像的高度和宽度均为28像素。\n",
    "数据集由灰度图像组成，其通道数为1。\n",
    "为了简洁起见，本书将高度$h$像素、宽度$w$像素图像的形状记为$h \\times w$或（$h$,$w$）。\n"
   ]
  },
  {
   "cell_type": "code",
   "execution_count": 4,
   "id": "30238e72",
   "metadata": {
    "execution": {
     "iopub.execute_input": "2023-08-18T09:15:16.569064Z",
     "iopub.status.busy": "2023-08-18T09:15:16.568285Z",
     "iopub.status.idle": "2023-08-18T09:15:16.759511Z",
     "shell.execute_reply": "2023-08-18T09:15:16.758617Z"
    },
    "origin_pos": 14,
    "tab": [
     "paddle"
    ]
   },
   "source": [
    "mnist_train[0][0].shape"
   ],
   "outputs": []
  },
  {
   "cell_type": "markdown",
   "id": "8f7ef2ab",
   "metadata": {
    "origin_pos": 15
   },
   "source": [
    "[~~两个可视化数据集的函数~~]\n",
    "\n",
    "Fashion-MNIST中包含的10个类别，分别为t-shirt（T恤）、trouser（裤子）、pullover（套衫）、dress（连衣裙）、coat（外套）、sandal（凉鞋）、shirt（衬衫）、sneaker（运动鞋）、bag（包）和ankle boot（短靴）。\n",
    "以下函数用于在数字标签索引及其文本名称之间进行转换。\n"
   ]
  },
  {
   "cell_type": "code",
   "execution_count": 5,
   "id": "02f0335f",
   "metadata": {
    "execution": {
     "iopub.execute_input": "2023-08-18T09:15:16.764141Z",
     "iopub.status.busy": "2023-08-18T09:15:16.763562Z",
     "iopub.status.idle": "2023-08-18T09:15:16.768536Z",
     "shell.execute_reply": "2023-08-18T09:15:16.767717Z"
    },
    "origin_pos": 16,
    "tab": [
     "paddle"
    ]
   },
   "source": [
    "def get_fashion_mnist_labels(labels):  #@save\n",
    "    \"\"\"返回Fashion-MNIST数据集的文本标签\"\"\"\n",
    "    text_labels = ['t-shirt', 'trouser', 'pullover', 'dress', 'coat',\n",
    "                   'sandal', 'shirt', 'sneaker', 'bag', 'ankle boot']\n",
    "    return [text_labels[int(i)] for i in labels]"
   ],
   "outputs": []
  },
  {
   "cell_type": "markdown",
   "id": "e9acab3b",
   "metadata": {
    "origin_pos": 17
   },
   "source": [
    "我们现在可以创建一个函数来可视化这些样本。\n"
   ]
  },
  {
   "cell_type": "code",
   "execution_count": 6,
   "id": "89830c8e",
   "metadata": {
    "execution": {
     "iopub.execute_input": "2023-08-18T09:15:16.772929Z",
     "iopub.status.busy": "2023-08-18T09:15:16.772400Z",
     "iopub.status.idle": "2023-08-18T09:15:16.780761Z",
     "shell.execute_reply": "2023-08-18T09:15:16.779941Z"
    },
    "origin_pos": 20,
    "tab": [
     "paddle"
    ]
   },
   "source": [
    "#@save\n",
    "def show_images(imgs, num_rows, num_cols, titles=None, scale=1.5):\n",
    "    \"\"\"绘制图像列表\"\"\"\n",
    "    figsize = (num_cols * scale, num_rows * scale)\n",
    "    _, axes = d2l.plt.subplots(num_rows, num_cols, figsize=figsize)\n",
    "    axes = axes.flatten()\n",
    "    for i, (ax, img) in enumerate(zip(axes, imgs)):\n",
    "        if paddle.is_tensor(img):\n",
    "            # 图片张量\n",
    "            ax.imshow(img.numpy())\n",
    "        else:\n",
    "            # PIL图片\n",
    "            ax.imshow(img)\n",
    "        ax.axes.get_xaxis().set_visible(False)\n",
    "        ax.axes.get_yaxis().set_visible(False)\n",
    "        if titles:\n",
    "            ax.set_title(titles[i])\n",
    "    return axes"
   ],
   "outputs": []
  },
  {
   "cell_type": "markdown",
   "id": "b00b1bfb",
   "metadata": {
    "origin_pos": 21
   },
   "source": [
    "以下是训练数据集中前[**几个样本的图像及其相应的标签**]。\n"
   ]
  },
  {
   "cell_type": "code",
   "execution_count": 7,
   "id": "fc021322",
   "metadata": {
    "execution": {
     "iopub.execute_input": "2023-08-18T09:15:16.785121Z",
     "iopub.status.busy": "2023-08-18T09:15:16.784481Z",
     "iopub.status.idle": "2023-08-18T09:15:17.510133Z",
     "shell.execute_reply": "2023-08-18T09:15:17.509291Z"
    },
    "origin_pos": 25,
    "tab": [
     "paddle"
    ]
   },
   "source": [
    "X, y = next(iter(paddle.io.DataLoader(mnist_train, batch_size=18)))\n",
    "show_images(X.reshape([18, 28, 28]), 2, 9, titles=get_fashion_mnist_labels(y));"
   ],
   "outputs": []
  },
  {
   "cell_type": "markdown",
   "id": "b6eab66a",
   "metadata": {
    "origin_pos": 26
   },
   "source": [
    "## 读取小批量\n",
    "\n",
    "为了使我们在读取训练集和测试集时更容易，我们使用内置的数据迭代器，而不是从零开始创建。\n",
    "回顾一下，在每次迭代中，数据加载器每次都会[**读取一小批量数据，大小为`batch_size`**]。\n",
    "通过内置数据迭代器，我们可以随机打乱了所有样本，从而无偏见地读取小批量。\n"
   ]
  },
  {
   "cell_type": "code",
   "execution_count": 8,
   "id": "cbcb03a8",
   "metadata": {
    "execution": {
     "iopub.execute_input": "2023-08-18T09:15:17.517219Z",
     "iopub.status.busy": "2023-08-18T09:15:17.516630Z",
     "iopub.status.idle": "2023-08-18T09:15:17.521382Z",
     "shell.execute_reply": "2023-08-18T09:15:17.520581Z"
    },
    "origin_pos": 30,
    "tab": [
     "paddle"
    ]
   },
   "source": [
    "batch_size = 256\n",
    "\n",
    "def get_dataloader_workers():  #@save\n",
    "    \"\"\"使用4个进程来读取数据\"\"\"\n",
    "    return 4\n",
    "\n",
    "train_iter = paddle.io.DataLoader(dataset=mnist_train,\n",
    "                                  batch_size=batch_size,\n",
    "                                  shuffle=True,\n",
    "                                  return_list=True,\n",
    "                                  num_workers=get_dataloader_workers())"
   ],
   "outputs": []
  },
  {
   "cell_type": "markdown",
   "id": "8d6ce99a",
   "metadata": {
    "origin_pos": 31
   },
   "source": [
    "我们看一下读取训练数据所需的时间。\n"
   ]
  },
  {
   "cell_type": "code",
   "execution_count": 9,
   "id": "78c8d9be",
   "metadata": {
    "execution": {
     "iopub.execute_input": "2023-08-18T09:15:17.524892Z",
     "iopub.status.busy": "2023-08-18T09:15:17.524254Z",
     "iopub.status.idle": "2023-08-18T09:15:23.176722Z",
     "shell.execute_reply": "2023-08-18T09:15:23.175725Z"
    },
    "origin_pos": 32,
    "tab": [
     "paddle"
    ]
   },
   "source": [
    "timer = d2l.Timer()\n",
    "for X, y in train_iter:\n",
    "    continue\n",
    "f'{timer.stop():.2f} sec'"
   ],
   "outputs": []
  },
  {
   "cell_type": "markdown",
   "id": "2ca37a34",
   "metadata": {
    "origin_pos": 33
   },
   "source": [
    "## 整合所有组件\n",
    "\n",
    "现在我们[**定义`load_data_fashion_mnist`函数**]，用于获取和读取Fashion-MNIST数据集。\n",
    "这个函数返回训练集和验证集的数据迭代器。\n",
    "此外，这个函数还接受一个可选参数`resize`，用来将图像大小调整为另一种形状。\n"
   ]
  },
  {
   "cell_type": "code",
   "execution_count": 10,
   "id": "c226d97f",
   "metadata": {
    "execution": {
     "iopub.execute_input": "2023-08-18T09:15:23.180578Z",
     "iopub.status.busy": "2023-08-18T09:15:23.179957Z",
     "iopub.status.idle": "2023-08-18T09:15:23.186458Z",
     "shell.execute_reply": "2023-08-18T09:15:23.185627Z"
    },
    "origin_pos": 37,
    "tab": [
     "paddle"
    ]
   },
   "source": [
    "#@save\n",
    "def load_data_fashion_mnist(batch_size, resize=None):\n",
    "    \"\"\"下载Fashion-MNIST数据集，然后将其加载到内存中\"\"\"\n",
    "    trans = [transforms.ToTensor()]\n",
    "    if resize:\n",
    "        trans.insert(0, transforms.Resize(resize))\n",
    "    trans = transforms.Compose(trans)\n",
    "    mnist_train = paddle.vision.datasets.FashionMNIST(mode=\"train\",\n",
    "                                                      transform=trans)\n",
    "    mnist_test = paddle.vision.datasets.FashionMNIST(mode=\"test\",\n",
    "                                                     transform=trans)\n",
    "    return (paddle.io.DataLoader(dataset=mnist_train,\n",
    "                                 batch_size=batch_size,\n",
    "                                 shuffle=True,\n",
    "                                 return_list=True,\n",
    "                                 num_workers=get_dataloader_workers()),\n",
    "            paddle.io.DataLoader(dataset=mnist_test,\n",
    "                                 batch_size=batch_size,\n",
    "                                 return_list=True,\n",
    "                                 shuffle=True,\n",
    "                                 num_workers=get_dataloader_workers()))"
   ],
   "outputs": []
  },
  {
   "cell_type": "markdown",
   "id": "f141474b",
   "metadata": {
    "origin_pos": 38
   },
   "source": [
    "下面，我们通过指定`resize`参数来测试`load_data_fashion_mnist`函数的图像大小调整功能。\n"
   ]
  },
  {
   "cell_type": "code",
   "execution_count": 11,
   "id": "a867c302",
   "metadata": {
    "execution": {
     "iopub.execute_input": "2023-08-18T09:15:23.189798Z",
     "iopub.status.busy": "2023-08-18T09:15:23.189262Z",
     "iopub.status.idle": "2023-08-18T09:15:27.512637Z",
     "shell.execute_reply": "2023-08-18T09:15:27.511479Z"
    },
    "origin_pos": 39,
    "tab": [
     "paddle"
    ]
   },
   "source": [
    "train_iter, test_iter = load_data_fashion_mnist(32, resize=64)\n",
    "for X, y in train_iter:\n",
    "    print(X.shape, X.dtype, y.shape, y.dtype)\n",
    "    break"
   ],
   "outputs": []
  },
  {
   "cell_type": "markdown",
   "id": "fc72d4db",
   "metadata": {
    "origin_pos": 40
   },
   "source": [
    "我们现在已经准备好使用Fashion-MNIST数据集，便于下面的章节调用来评估各种分类算法。\n",
    "\n",
    "## 小结\n",
    "\n",
    "* Fashion-MNIST是一个服装分类数据集，由10个类别的图像组成。我们将在后续章节中使用此数据集来评估各种分类算法。\n",
    "* 我们将高度$h$像素，宽度$w$像素图像的形状记为$h \\times w$或（$h$,$w$）。\n",
    "* 数据迭代器是获得更高性能的关键组件。依靠实现良好的数据迭代器，利用高性能计算来避免减慢训练过程。\n",
    "\n",
    "## 练习\n",
    "\n",
    "1. 减少`batch_size`（如减少到1）是否会影响读取性能？\n",
    "1. 数据迭代器的性能非常重要。当前的实现足够快吗？探索各种选择来改进它。\n",
    "1. 查阅框架的在线API文档。还有哪些其他数据集可用？\n"
   ]
  },
  {
   "cell_type": "markdown",
   "id": "a10c003f",
   "metadata": {
    "origin_pos": 44,
    "tab": [
     "paddle"
    ]
   },
   "source": [
    "[Discussions](https://discuss.d2l.ai/t/11692)\n"
   ]
  }
 ],
 "metadata": {
  "language_info": {
   "name": "python"
  },
  "required_libs": []
 },
 "nbformat": 4,
 "nbformat_minor": 5
}
