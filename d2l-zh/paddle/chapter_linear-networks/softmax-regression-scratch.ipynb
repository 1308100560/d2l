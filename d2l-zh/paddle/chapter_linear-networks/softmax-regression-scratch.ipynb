{
 "cells": [
  {
   "cell_type": "markdown",
   "id": "efacf22c",
   "metadata": {
    "origin_pos": 0
   },
   "source": [
    "# softmax回归的从零开始实现\n",
    ":label:`sec_softmax_scratch`\n",
    "\n",
    "(**就像我们从零开始实现线性回归一样，**)\n",
    "我们认为softmax回归也是重要的基础，因此(**应该知道实现softmax回归的细节**)。\n",
    "本节我们将使用刚刚在 :numref:`sec_fashion_mnist`中引入的Fashion-MNIST数据集，\n",
    "并设置数据迭代器的批量大小为256。\n"
   ]
  },
  {
   "cell_type": "code",
   "execution_count": 1,
   "id": "831238da",
   "metadata": {
    "execution": {
     "iopub.execute_input": "2023-08-18T09:18:26.097521Z",
     "iopub.status.busy": "2023-08-18T09:18:26.096902Z",
     "iopub.status.idle": "2023-08-18T09:18:28.096560Z",
     "shell.execute_reply": "2023-08-18T09:18:28.095501Z"
    },
    "origin_pos": 4,
    "tab": [
     "paddle"
    ]
   },
   "source": [
    "import warnings\n",
    "from d2l import paddle as d2l\n",
    "\n",
    "warnings.filterwarnings(\"ignore\")\n",
    "import paddle\n",
    "from IPython import display"
   ],
   "outputs": []
  },
  {
   "cell_type": "code",
   "execution_count": 2,
   "id": "8064ae10",
   "metadata": {
    "execution": {
     "iopub.execute_input": "2023-08-18T09:18:28.101051Z",
     "iopub.status.busy": "2023-08-18T09:18:28.100203Z",
     "iopub.status.idle": "2023-08-18T09:18:32.340277Z",
     "shell.execute_reply": "2023-08-18T09:18:32.339360Z"
    },
    "origin_pos": 5,
    "tab": [
     "paddle"
    ]
   },
   "source": [
    "batch_size = 256\n",
    "train_iter, test_iter = d2l.load_data_fashion_mnist(batch_size)"
   ],
   "outputs": []
  },
  {
   "cell_type": "markdown",
   "id": "3f7cefcd",
   "metadata": {
    "origin_pos": 6
   },
   "source": [
    "## 初始化模型参数\n",
    "\n",
    "和之前线性回归的例子一样，这里的每个样本都将用固定长度的向量表示。\n",
    "原始数据集中的每个样本都是$28 \\times 28$的图像。\n",
    "本节[**将展平每个图像，把它们看作长度为784的向量。**]\n",
    "在后面的章节中，我们将讨论能够利用图像空间结构的特征，\n",
    "但现在我们暂时只把每个像素位置看作一个特征。\n",
    "\n",
    "回想一下，在softmax回归中，我们的输出与类别一样多。\n",
    "(**因为我们的数据集有10个类别，所以网络输出维度为10**)。\n",
    "因此，权重将构成一个$784 \\times 10$的矩阵，\n",
    "偏置将构成一个$1 \\times 10$的行向量。\n",
    "与线性回归一样，我们将使用正态分布初始化我们的权重`W`，偏置初始化为0。\n"
   ]
  },
  {
   "cell_type": "code",
   "execution_count": 3,
   "id": "f6e4026a",
   "metadata": {
    "execution": {
     "iopub.execute_input": "2023-08-18T09:18:32.344160Z",
     "iopub.status.busy": "2023-08-18T09:18:32.343579Z",
     "iopub.status.idle": "2023-08-18T09:18:32.530965Z",
     "shell.execute_reply": "2023-08-18T09:18:32.530060Z"
    },
    "origin_pos": 10,
    "tab": [
     "paddle"
    ]
   },
   "source": [
    "num_inputs = 784\n",
    "num_outputs = 10\n",
    "\n",
    "W = paddle.normal(0, 0.01, shape=(num_inputs, num_outputs))\n",
    "b = paddle.zeros(shape=(num_outputs,))\n",
    "W.stop_gradient=False\n",
    "b.stop_gradient=False"
   ],
   "outputs": []
  },
  {
   "cell_type": "markdown",
   "id": "44cdb360",
   "metadata": {
    "origin_pos": 11
   },
   "source": [
    "## 定义softmax操作\n",
    "\n",
    "在实现softmax回归模型之前，我们简要回顾一下`sum`运算符如何沿着张量中的特定维度工作。\n",
    "如 :numref:`subseq_lin-alg-reduction`和\n",
    " :numref:`subseq_lin-alg-non-reduction`所述，\n",
    " [**给定一个矩阵`X`，我们可以对所有元素求和**]（默认情况下）。\n",
    " 也可以只求同一个轴上的元素，即同一列（轴0）或同一行（轴1）。\n",
    " 如果`X`是一个形状为`(2, 3)`的张量，我们对列进行求和，\n",
    " 则结果将是一个具有形状`(3,)`的向量。\n",
    " 当调用`sum`运算符时，我们可以指定保持在原始张量的轴数，而不折叠求和的维度。\n",
    " 这将产生一个具有形状`(1, 3)`的二维张量。\n"
   ]
  },
  {
   "cell_type": "code",
   "execution_count": 4,
   "id": "3a54d570",
   "metadata": {
    "execution": {
     "iopub.execute_input": "2023-08-18T09:18:32.534925Z",
     "iopub.status.busy": "2023-08-18T09:18:32.534355Z",
     "iopub.status.idle": "2023-08-18T09:18:32.542625Z",
     "shell.execute_reply": "2023-08-18T09:18:32.541845Z"
    },
    "origin_pos": 12,
    "tab": [
     "paddle"
    ]
   },
   "source": [
    "X = paddle.to_tensor([[1.0, 2.0, 3.0], [4.0, 5.0, 6.0]])\n",
    "X.sum(0, keepdim=True), X.sum(1, keepdim=True)"
   ],
   "outputs": []
  },
  {
   "cell_type": "markdown",
   "id": "ed8ca0c8",
   "metadata": {
    "origin_pos": 14
   },
   "source": [
    "回想一下，[**实现softmax**]由三个步骤组成：\n",
    "\n",
    "1. 对每个项求幂（使用`exp`）；\n",
    "1. 对每一行求和（小批量中每个样本是一行），得到每个样本的规范化常数；\n",
    "1. 将每一行除以其规范化常数，确保结果的和为1。\n",
    "\n",
    "在查看代码之前，我们回顾一下这个表达式：\n",
    "\n",
    "(**\n",
    "$$\n",
    "\\mathrm{softmax}(\\mathbf{X})_{ij} = \\frac{\\exp(\\mathbf{X}_{ij})}{\\sum_k \\exp(\\mathbf{X}_{ik})}.\n",
    "$$\n",
    "**)\n",
    "\n",
    "分母或规范化常数，有时也称为*配分函数*（其对数称为对数-配分函数）。\n",
    "该名称来自[统计物理学](https://en.wikipedia.org/wiki/Partition_function_(statistical_mechanics))中一个模拟粒子群分布的方程。\n"
   ]
  },
  {
   "cell_type": "code",
   "execution_count": 5,
   "id": "5013b00b",
   "metadata": {
    "execution": {
     "iopub.execute_input": "2023-08-18T09:18:32.546036Z",
     "iopub.status.busy": "2023-08-18T09:18:32.545508Z",
     "iopub.status.idle": "2023-08-18T09:18:32.549638Z",
     "shell.execute_reply": "2023-08-18T09:18:32.548863Z"
    },
    "origin_pos": 16,
    "tab": [
     "paddle"
    ]
   },
   "source": [
    "def softmax(X):\n",
    "    X_exp = paddle.exp(X)\n",
    "    partition = X_exp.sum(1, keepdim=True)\n",
    "    return X_exp / partition  # 这里应用了广播机制"
   ],
   "outputs": []
  },
  {
   "cell_type": "markdown",
   "id": "5225c8e7",
   "metadata": {
    "origin_pos": 17
   },
   "source": [
    "正如上述代码，对于任何随机输入，[**我们将每个元素变成一个非负数。\n",
    "此外，依据概率原理，每行总和为1**]。\n"
   ]
  },
  {
   "cell_type": "code",
   "execution_count": 6,
   "id": "974f5d41",
   "metadata": {
    "execution": {
     "iopub.execute_input": "2023-08-18T09:18:32.553057Z",
     "iopub.status.busy": "2023-08-18T09:18:32.552380Z",
     "iopub.status.idle": "2023-08-18T09:18:32.558987Z",
     "shell.execute_reply": "2023-08-18T09:18:32.558173Z"
    },
    "origin_pos": 18,
    "tab": [
     "paddle"
    ]
   },
   "source": [
    "X = paddle.normal(0, 1, (2, 5))\n",
    "X_prob = softmax(X)\n",
    "X_prob, X_prob.sum(1)"
   ],
   "outputs": []
  },
  {
   "cell_type": "markdown",
   "id": "a1108b3b",
   "metadata": {
    "origin_pos": 20
   },
   "source": [
    "注意，虽然这在数学上看起来是正确的，但我们在代码实现中有点草率。\n",
    "矩阵中的非常大或非常小的元素可能造成数值上溢或下溢，但我们没有采取措施来防止这点。\n",
    "\n",
    "## 定义模型\n",
    "\n",
    "定义softmax操作后，我们可以[**实现softmax回归模型**]。\n",
    "下面的代码定义了输入如何通过网络映射到输出。\n",
    "注意，将数据传递到模型之前，我们使用`reshape`函数将每张原始图像展平为向量。\n"
   ]
  },
  {
   "cell_type": "code",
   "execution_count": 7,
   "id": "df30c39d",
   "metadata": {
    "execution": {
     "iopub.execute_input": "2023-08-18T09:18:32.562375Z",
     "iopub.status.busy": "2023-08-18T09:18:32.561836Z",
     "iopub.status.idle": "2023-08-18T09:18:32.565890Z",
     "shell.execute_reply": "2023-08-18T09:18:32.565113Z"
    },
    "origin_pos": 21,
    "tab": [
     "paddle"
    ]
   },
   "source": [
    "def net(X):\n",
    "    return softmax(paddle.matmul(X.reshape((-1, W.shape[0])), W) + b)"
   ],
   "outputs": []
  },
  {
   "cell_type": "markdown",
   "id": "5787a76f",
   "metadata": {
    "origin_pos": 22
   },
   "source": [
    "## 定义损失函数\n",
    "\n",
    "接下来，我们实现 :numref:`sec_softmax`中引入的交叉熵损失函数。\n",
    "这可能是深度学习中最常见的损失函数，因为目前分类问题的数量远远超过回归问题的数量。\n",
    "\n",
    "回顾一下，交叉熵采用真实标签的预测概率的负对数似然。\n",
    "这里我们不使用Python的for循环迭代预测（这往往是低效的），\n",
    "而是通过一个运算符选择所有元素。\n",
    "下面，我们[**创建一个数据样本`y_hat`，其中包含2个样本在3个类别的预测概率，\n",
    "以及它们对应的标签`y`。**]\n",
    "有了`y`，我们知道在第一个样本中，第一类是正确的预测；\n",
    "而在第二个样本中，第三类是正确的预测。\n",
    "然后(**使用`y`作为`y_hat`中概率的索引**)，\n",
    "我们选择第一个样本中第一个类的概率和第二个样本中第三个类的概率。\n"
   ]
  },
  {
   "cell_type": "code",
   "execution_count": 8,
   "id": "de58e300",
   "metadata": {
    "execution": {
     "iopub.execute_input": "2023-08-18T09:18:32.569280Z",
     "iopub.status.busy": "2023-08-18T09:18:32.568671Z",
     "iopub.status.idle": "2023-08-18T09:18:32.575520Z",
     "shell.execute_reply": "2023-08-18T09:18:32.574724Z"
    },
    "origin_pos": 23,
    "tab": [
     "paddle"
    ]
   },
   "source": [
    "y = paddle.to_tensor([0, 2])\n",
    "y_hat = paddle.to_tensor([[0.1, 0.3, 0.6], [0.3, 0.2, 0.5]])\n",
    "y_hat[[0, 1], y]"
   ],
   "outputs": []
  },
  {
   "cell_type": "markdown",
   "id": "616113a3",
   "metadata": {
    "origin_pos": 25
   },
   "source": [
    "现在我们只需一行代码就可以[**实现交叉熵损失函数**]。\n"
   ]
  },
  {
   "cell_type": "code",
   "execution_count": 9,
   "id": "dc1397bc",
   "metadata": {
    "execution": {
     "iopub.execute_input": "2023-08-18T09:18:32.579033Z",
     "iopub.status.busy": "2023-08-18T09:18:32.578426Z",
     "iopub.status.idle": "2023-08-18T09:18:32.585193Z",
     "shell.execute_reply": "2023-08-18T09:18:32.584397Z"
    },
    "origin_pos": 28,
    "tab": [
     "paddle"
    ]
   },
   "source": [
    "def cross_entropy(y_hat, y):\n",
    "    return - paddle.log(y_hat[[i for i in range(len(y_hat))], y.squeeze()])\n",
    "\n",
    "cross_entropy(y_hat, y)"
   ],
   "outputs": []
  },
  {
   "cell_type": "markdown",
   "id": "407a4e3b",
   "metadata": {
    "origin_pos": 29
   },
   "source": [
    "## 分类精度\n",
    "\n",
    "给定预测概率分布`y_hat`，当我们必须输出硬预测（hard prediction）时，\n",
    "我们通常选择预测概率最高的类。\n",
    "许多应用都要求我们做出选择。如Gmail必须将电子邮件分类为“Primary（主要邮件）”、\n",
    "“Social（社交邮件）”“Updates（更新邮件）”或“Forums（论坛邮件）”。\n",
    "Gmail做分类时可能在内部估计概率，但最终它必须在类中选择一个。\n",
    "\n",
    "当预测与标签分类`y`一致时，即是正确的。\n",
    "分类精度即正确预测数量与总预测数量之比。\n",
    "虽然直接优化精度可能很困难（因为精度的计算不可导），\n",
    "但精度通常是我们最关心的性能衡量标准，我们在训练分类器时几乎总会关注它。\n",
    "\n",
    "为了计算精度，我们执行以下操作。\n",
    "首先，如果`y_hat`是矩阵，那么假定第二个维度存储每个类的预测分数。\n",
    "我们使用`argmax`获得每行中最大元素的索引来获得预测类别。\n",
    "然后我们[**将预测类别与真实`y`元素进行比较**]。\n",
    "由于等式运算符“`==`”对数据类型很敏感，\n",
    "因此我们将`y_hat`的数据类型转换为与`y`的数据类型一致。\n",
    "结果是一个包含0（错）和1（对）的张量。\n",
    "最后，我们求和会得到正确预测的数量。\n"
   ]
  },
  {
   "cell_type": "code",
   "execution_count": 10,
   "id": "c0efb580",
   "metadata": {
    "execution": {
     "iopub.execute_input": "2023-08-18T09:18:32.588532Z",
     "iopub.status.busy": "2023-08-18T09:18:32.588016Z",
     "iopub.status.idle": "2023-08-18T09:18:32.595648Z",
     "shell.execute_reply": "2023-08-18T09:18:32.594775Z"
    },
    "origin_pos": 30,
    "tab": [
     "paddle"
    ]
   },
   "source": [
    "def accuracy(y_hat, y):  #@save\n",
    "    \"\"\"计算预测正确的数量\"\"\"\n",
    "    if len(y_hat.shape) > 1 and y_hat.shape[1] > 1:\n",
    "        y_hat = y_hat.argmax(axis=1)\n",
    "    cmp = y_hat.astype(y.dtype) == y\n",
    "    return float(cmp.astype(y.dtype).sum())"
   ],
   "outputs": []
  },
  {
   "cell_type": "code",
   "execution_count": 11,
   "id": "00e50591",
   "metadata": {
    "execution": {
     "iopub.execute_input": "2023-08-18T09:18:32.599219Z",
     "iopub.status.busy": "2023-08-18T09:18:32.598554Z",
     "iopub.status.idle": "2023-08-18T09:18:32.603866Z",
     "shell.execute_reply": "2023-08-18T09:18:32.603014Z"
    },
    "origin_pos": 31,
    "tab": [
     "paddle"
    ]
   },
   "source": [
    "#@save\n",
    "def accuracy(y_hat, y):\n",
    "    \"\"\"计算预测正确的数量\"\"\"\n",
    "    if len(y_hat.shape) > 1 and y_hat.shape[1] > 1:\n",
    "        y_hat = y_hat.argmax(axis=1)\n",
    "    if len(y_hat.shape) < len(y.shape):\n",
    "        cmp = y_hat.astype(y.dtype) == y.squeeze()\n",
    "    else:\n",
    "        cmp = y_hat.astype(y.dtype) == y\n",
    "    return float(cmp.astype(y.dtype).sum())"
   ],
   "outputs": []
  },
  {
   "cell_type": "markdown",
   "id": "fecb04aa",
   "metadata": {
    "origin_pos": 32
   },
   "source": [
    "我们将继续使用之前定义的变量`y_hat`和`y`分别作为预测的概率分布和标签。\n",
    "可以看到，第一个样本的预测类别是2（该行的最大元素为0.6，索引为2），这与实际标签0不一致。\n",
    "第二个样本的预测类别是2（该行的最大元素为0.5，索引为2），这与实际标签2一致。\n",
    "因此，这两个样本的分类精度率为0.5。\n"
   ]
  },
  {
   "cell_type": "code",
   "execution_count": 12,
   "id": "f387a967",
   "metadata": {
    "execution": {
     "iopub.execute_input": "2023-08-18T09:18:32.607225Z",
     "iopub.status.busy": "2023-08-18T09:18:32.606655Z",
     "iopub.status.idle": "2023-08-18T09:18:32.612339Z",
     "shell.execute_reply": "2023-08-18T09:18:32.611539Z"
    },
    "origin_pos": 33,
    "tab": [
     "paddle"
    ]
   },
   "source": [
    "accuracy(y_hat, y) / len(y)"
   ],
   "outputs": []
  },
  {
   "cell_type": "markdown",
   "id": "6f1ab028",
   "metadata": {
    "origin_pos": 34
   },
   "source": [
    "同样，对于任意数据迭代器`data_iter`可访问的数据集，\n",
    "[**我们可以评估在任意模型`net`的精度**]。\n"
   ]
  },
  {
   "cell_type": "code",
   "execution_count": 13,
   "id": "f6da5b00",
   "metadata": {
    "execution": {
     "iopub.execute_input": "2023-08-18T09:18:32.615808Z",
     "iopub.status.busy": "2023-08-18T09:18:32.615143Z",
     "iopub.status.idle": "2023-08-18T09:18:32.620141Z",
     "shell.execute_reply": "2023-08-18T09:18:32.619349Z"
    },
    "origin_pos": 37,
    "tab": [
     "paddle"
    ]
   },
   "source": [
    "#@save\n",
    "def evaluate_accuracy(net, data_iter):\n",
    "    \"\"\"计算在指定数据集上模型的精度\"\"\"\n",
    "    if isinstance(net, paddle.nn.Layer):\n",
    "        net.eval()  # 将模型设置为评估模式\n",
    "    metric = Accumulator(2)  # 正确预测数、预测总数\n",
    "    with paddle.no_grad():\n",
    "        for X, y in data_iter:\n",
    "            metric.add(accuracy(net(X), y), y.numel())\n",
    "    return metric[0] / metric[1]"
   ],
   "outputs": []
  },
  {
   "cell_type": "markdown",
   "id": "3dd04bae",
   "metadata": {
    "origin_pos": 38
   },
   "source": [
    "这里定义一个实用程序类`Accumulator`，用于对多个变量进行累加。\n",
    "在上面的`evaluate_accuracy`函数中，\n",
    "我们在(**`Accumulator`实例中创建了2个变量，\n",
    "分别用于存储正确预测的数量和预测的总数量**)。\n",
    "当我们遍历数据集时，两者都将随着时间的推移而累加。\n"
   ]
  },
  {
   "cell_type": "code",
   "execution_count": 14,
   "id": "951199f0",
   "metadata": {
    "execution": {
     "iopub.execute_input": "2023-08-18T09:18:32.623353Z",
     "iopub.status.busy": "2023-08-18T09:18:32.622918Z",
     "iopub.status.idle": "2023-08-18T09:18:32.628066Z",
     "shell.execute_reply": "2023-08-18T09:18:32.627275Z"
    },
    "origin_pos": 39,
    "tab": [
     "paddle"
    ]
   },
   "source": [
    "class Accumulator:  #@save\n",
    "    \"\"\"在n个变量上累加\"\"\"\n",
    "    def __init__(self, n):\n",
    "        self.data = [0.0] * n\n",
    "\n",
    "    def add(self, *args):\n",
    "        self.data = [a + float(b) for a, b in zip(self.data, args)]\n",
    "\n",
    "    def reset(self):\n",
    "        self.data = [0.0] * len(self.data)\n",
    "\n",
    "    def __getitem__(self, idx):\n",
    "        return self.data[idx]"
   ],
   "outputs": []
  },
  {
   "cell_type": "markdown",
   "id": "a0bc169a",
   "metadata": {
    "origin_pos": 40
   },
   "source": [
    "由于我们使用随机权重初始化`net`模型，\n",
    "因此该模型的精度应接近于随机猜测。\n",
    "例如在有10个类别情况下的精度为0.1。\n"
   ]
  },
  {
   "cell_type": "code",
   "execution_count": 15,
   "id": "83511842",
   "metadata": {
    "execution": {
     "iopub.execute_input": "2023-08-18T09:18:32.631563Z",
     "iopub.status.busy": "2023-08-18T09:18:32.630833Z",
     "iopub.status.idle": "2023-08-18T09:18:33.762818Z",
     "shell.execute_reply": "2023-08-18T09:18:33.761887Z"
    },
    "origin_pos": 41,
    "tab": [
     "paddle"
    ]
   },
   "source": [
    "evaluate_accuracy(net, test_iter)"
   ],
   "outputs": []
  },
  {
   "cell_type": "markdown",
   "id": "56140e24",
   "metadata": {
    "origin_pos": 42
   },
   "source": [
    "## 训练\n",
    "\n",
    "在我们看过 :numref:`sec_linear_scratch`中的线性回归实现，\n",
    "[**softmax回归的训练**]过程代码应该看起来非常眼熟。\n",
    "在这里，我们重构训练过程的实现以使其可重复使用。\n",
    "首先，我们定义一个函数来训练一个迭代周期。\n",
    "请注意，`updater`是更新模型参数的常用函数，它接受批量大小作为参数。\n",
    "它可以是`d2l.sgd`函数，也可以是框架的内置优化函数。\n"
   ]
  },
  {
   "cell_type": "code",
   "execution_count": 16,
   "id": "521a6775",
   "metadata": {
    "execution": {
     "iopub.execute_input": "2023-08-18T09:18:33.766726Z",
     "iopub.status.busy": "2023-08-18T09:18:33.766137Z",
     "iopub.status.idle": "2023-08-18T09:18:33.772903Z",
     "shell.execute_reply": "2023-08-18T09:18:33.772064Z"
    },
    "origin_pos": 46,
    "tab": [
     "paddle"
    ]
   },
   "source": [
    "#@save\n",
    "def train_epoch_ch3(net, train_iter, loss, updater):\n",
    "    \"\"\"训练模型一个迭代周期（定义见第3章）\"\"\"\n",
    "    # 将模型设置为训练模式\n",
    "    if isinstance(net, paddle.nn.Layer):\n",
    "        net.train()\n",
    "    # 训练损失总和、训练准确度总和、样本数\n",
    "    metric = Accumulator(3)\n",
    "\n",
    "    for X, y in train_iter:\n",
    "        # 计算梯度并更新参数\n",
    "        y_hat = net(X)\n",
    "        l = loss(y_hat, y)\n",
    "        if isinstance(updater, paddle.optimizer.Optimizer):\n",
    "            # 使用PaddlePaddle内置的优化器和损失函数\n",
    "            updater.clear_grad()\n",
    "            l.mean().backward()\n",
    "            updater.step()\n",
    "        else:\n",
    "            # 使用定制的优化器和损失函数\n",
    "            l.sum().backward()\n",
    "            updater(X.shape[0])\n",
    "        metric.add(float(l.sum()), accuracy(y_hat, y), y.numel())\n",
    "    return metric[0] / metric[2], metric[1] / metric[2]"
   ],
   "outputs": []
  },
  {
   "cell_type": "markdown",
   "id": "1d54debb",
   "metadata": {
    "origin_pos": 47
   },
   "source": [
    "在展示训练函数的实现之前，我们[**定义一个在动画中绘制数据的实用程序类**]`Animator`，\n",
    "它能够简化本书其余部分的代码。\n"
   ]
  },
  {
   "cell_type": "code",
   "execution_count": 17,
   "id": "a57345af",
   "metadata": {
    "execution": {
     "iopub.execute_input": "2023-08-18T09:18:33.776410Z",
     "iopub.status.busy": "2023-08-18T09:18:33.775776Z",
     "iopub.status.idle": "2023-08-18T09:18:33.785557Z",
     "shell.execute_reply": "2023-08-18T09:18:33.784708Z"
    },
    "origin_pos": 48,
    "tab": [
     "paddle"
    ]
   },
   "source": [
    "class Animator:  #@save\n",
    "    \"\"\"在动画中绘制数据\"\"\"\n",
    "    def __init__(self, xlabel=None, ylabel=None, legend=None, xlim=None,\n",
    "                 ylim=None, xscale='linear', yscale='linear',\n",
    "                 fmts=('-', 'm--', 'g-.', 'r:'), nrows=1, ncols=1,\n",
    "                 figsize=(3.5, 2.5)):\n",
    "        # 增量地绘制多条线\n",
    "        if legend is None:\n",
    "            legend = []\n",
    "        d2l.use_svg_display()\n",
    "        self.fig, self.axes = d2l.plt.subplots(nrows, ncols, figsize=figsize)\n",
    "        if nrows * ncols == 1:\n",
    "            self.axes = [self.axes, ]\n",
    "        # 使用lambda函数捕获参数\n",
    "        self.config_axes = lambda: d2l.set_axes(\n",
    "            self.axes[0], xlabel, ylabel, xlim, ylim, xscale, yscale, legend)\n",
    "        self.X, self.Y, self.fmts = None, None, fmts\n",
    "\n",
    "    def add(self, x, y):\n",
    "        # 向图表中添加多个数据点\n",
    "        if not hasattr(y, \"__len__\"):\n",
    "            y = [y]\n",
    "        n = len(y)\n",
    "        if not hasattr(x, \"__len__\"):\n",
    "            x = [x] * n\n",
    "        if not self.X:\n",
    "            self.X = [[] for _ in range(n)]\n",
    "        if not self.Y:\n",
    "            self.Y = [[] for _ in range(n)]\n",
    "        for i, (a, b) in enumerate(zip(x, y)):\n",
    "            if a is not None and b is not None:\n",
    "                self.X[i].append(a)\n",
    "                self.Y[i].append(b)\n",
    "        self.axes[0].cla()\n",
    "        for x, y, fmt in zip(self.X, self.Y, self.fmts):\n",
    "            self.axes[0].plot(x, y, fmt)\n",
    "        self.config_axes()\n",
    "        display.display(self.fig)\n",
    "        display.clear_output(wait=True)"
   ],
   "outputs": []
  },
  {
   "cell_type": "markdown",
   "id": "c2092293",
   "metadata": {
    "origin_pos": 49
   },
   "source": [
    "接下来我们实现一个[**训练函数**]，\n",
    "它会在`train_iter`访问到的训练数据集上训练一个模型`net`。\n",
    "该训练函数将会运行多个迭代周期（由`num_epochs`指定）。\n",
    "在每个迭代周期结束时，利用`test_iter`访问到的测试数据集对模型进行评估。\n",
    "我们将利用`Animator`类来可视化训练进度。\n"
   ]
  },
  {
   "cell_type": "code",
   "execution_count": 18,
   "id": "ebc94b2d",
   "metadata": {
    "execution": {
     "iopub.execute_input": "2023-08-18T09:18:33.788890Z",
     "iopub.status.busy": "2023-08-18T09:18:33.788402Z",
     "iopub.status.idle": "2023-08-18T09:18:33.793962Z",
     "shell.execute_reply": "2023-08-18T09:18:33.793175Z"
    },
    "origin_pos": 50,
    "tab": [
     "paddle"
    ]
   },
   "source": [
    "def train_ch3(net, train_iter, test_iter, loss, num_epochs, updater):  #@save\n",
    "    \"\"\"训练模型（定义见第3章）\"\"\"\n",
    "    animator = Animator(xlabel='epoch', xlim=[1, num_epochs], ylim=[0.3, 0.9],\n",
    "                        legend=['train loss', 'train acc', 'test acc'])\n",
    "    for epoch in range(num_epochs):\n",
    "        train_metrics = train_epoch_ch3(net, train_iter, loss, updater)\n",
    "        test_acc = evaluate_accuracy(net, test_iter)\n",
    "        animator.add(epoch + 1, train_metrics + (test_acc,))\n",
    "    train_loss, train_acc = train_metrics\n",
    "    assert train_loss < 0.5, train_loss\n",
    "    assert train_acc <= 1 and train_acc > 0.7, train_acc\n",
    "    assert test_acc <= 1 and test_acc > 0.7, test_acc"
   ],
   "outputs": []
  },
  {
   "cell_type": "markdown",
   "id": "4f9fe528",
   "metadata": {
    "origin_pos": 51
   },
   "source": [
    "作为一个从零开始的实现，我们使用 :numref:`sec_linear_scratch`中定义的\n",
    "[**小批量随机梯度下降来优化模型的损失函数**]，设置学习率为0.1。\n"
   ]
  },
  {
   "cell_type": "code",
   "execution_count": 19,
   "id": "448b956f",
   "metadata": {
    "execution": {
     "iopub.execute_input": "2023-08-18T09:18:33.797282Z",
     "iopub.status.busy": "2023-08-18T09:18:33.796783Z",
     "iopub.status.idle": "2023-08-18T09:18:33.800773Z",
     "shell.execute_reply": "2023-08-18T09:18:33.799924Z"
    },
    "origin_pos": 52,
    "tab": [
     "paddle"
    ]
   },
   "source": [
    "lr = 0.1\n",
    "\n",
    "def updater(batch_size):\n",
    "    return d2l.sgd([W, b], lr, batch_size)"
   ],
   "outputs": []
  },
  {
   "cell_type": "markdown",
   "id": "34ac8dad",
   "metadata": {
    "origin_pos": 54
   },
   "source": [
    "现在，我们[**训练模型10个迭代周期**]。\n",
    "请注意，迭代周期（`num_epochs`）和学习率（`lr`）都是可调节的超参数。\n",
    "通过更改它们的值，我们可以提高模型的分类精度。\n"
   ]
  },
  {
   "cell_type": "code",
   "execution_count": 20,
   "id": "98f7fc60",
   "metadata": {
    "execution": {
     "iopub.execute_input": "2023-08-18T09:18:33.804121Z",
     "iopub.status.busy": "2023-08-18T09:18:33.803629Z",
     "iopub.status.idle": "2023-08-18T09:19:46.938935Z",
     "shell.execute_reply": "2023-08-18T09:19:46.937255Z"
    },
    "origin_pos": 55,
    "tab": [
     "paddle"
    ]
   },
   "source": [
    "num_epochs = 10\n",
    "train_ch3(net, train_iter, test_iter, cross_entropy, num_epochs, updater)"
   ],
   "outputs": []
  },
  {
   "cell_type": "markdown",
   "id": "fcb18f94",
   "metadata": {
    "origin_pos": 56
   },
   "source": [
    "## 预测\n",
    "\n",
    "现在训练已经完成，我们的模型已经准备好[**对图像进行分类预测**]。\n",
    "给定一系列图像，我们将比较它们的实际标签（文本输出的第一行）和模型预测（文本输出的第二行）。\n"
   ]
  },
  {
   "cell_type": "code",
   "execution_count": 21,
   "id": "60484928",
   "metadata": {
    "execution": {
     "iopub.execute_input": "2023-08-18T09:19:46.944048Z",
     "iopub.status.busy": "2023-08-18T09:19:46.942976Z",
     "iopub.status.idle": "2023-08-18T09:19:47.447108Z",
     "shell.execute_reply": "2023-08-18T09:19:47.444237Z"
    },
    "origin_pos": 57,
    "tab": [
     "paddle"
    ]
   },
   "source": [
    "def predict_ch3(net, test_iter, n=6):  #@save\n",
    "    \"\"\"预测标签（定义见第3章）\"\"\"\n",
    "    for X, y in test_iter:\n",
    "        break\n",
    "    trues = d2l.get_fashion_mnist_labels(y)\n",
    "    preds = d2l.get_fashion_mnist_labels(net(X).argmax(axis=1))\n",
    "    titles = [true +'\\n' + pred for true, pred in zip(trues, preds)]\n",
    "    d2l.show_images(\n",
    "        X[0:n].reshape((n, 28, 28)), 1, n, titles=titles[0:n])\n",
    "\n",
    "predict_ch3(net, test_iter)"
   ],
   "outputs": []
  },
  {
   "cell_type": "markdown",
   "id": "e94ee6cc",
   "metadata": {
    "origin_pos": 58
   },
   "source": [
    "## 小结\n",
    "\n",
    "* 借助softmax回归，我们可以训练多分类的模型。\n",
    "* 训练softmax回归循环模型与训练线性回归模型非常相似：先读取数据，再定义模型和损失函数，然后使用优化算法训练模型。大多数常见的深度学习模型都有类似的训练过程。\n",
    "\n",
    "## 练习\n",
    "\n",
    "1. 本节直接实现了基于数学定义softmax运算的`softmax`函数。这可能会导致什么问题？提示：尝试计算$\\exp(50)$的大小。\n",
    "1. 本节中的函数`cross_entropy`是根据交叉熵损失函数的定义实现的。它可能有什么问题？提示：考虑对数的定义域。\n",
    "1. 请想一个解决方案来解决上述两个问题。\n",
    "1. 返回概率最大的分类标签总是最优解吗？例如，医疗诊断场景下可以这样做吗？\n",
    "1. 假设我们使用softmax回归来预测下一个单词，可选取的单词数目过多可能会带来哪些问题?\n"
   ]
  },
  {
   "cell_type": "markdown",
   "id": "e76e07fa",
   "metadata": {
    "origin_pos": 62,
    "tab": [
     "paddle"
    ]
   },
   "source": [
    "[Discussions](https://discuss.d2l.ai/t/11760)\n"
   ]
  }
 ],
 "metadata": {
  "language_info": {
   "name": "python"
  },
  "required_libs": []
 },
 "nbformat": 4,
 "nbformat_minor": 5
}
