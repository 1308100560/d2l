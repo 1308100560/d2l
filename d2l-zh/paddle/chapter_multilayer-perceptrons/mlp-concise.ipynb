{
 "cells": [
  {
   "cell_type": "markdown",
   "id": "3d035943",
   "metadata": {
    "origin_pos": 0
   },
   "source": [
    "# 多层感知机的简洁实现\n",
    ":label:`sec_mlp_concise`\n",
    "\n",
    "本节将介绍(**通过高级API更简洁地实现多层感知机**)。\n"
   ]
  },
  {
   "cell_type": "code",
   "execution_count": 1,
   "id": "0fa095a0",
   "metadata": {
    "execution": {
     "iopub.execute_input": "2023-08-18T09:11:46.307728Z",
     "iopub.status.busy": "2023-08-18T09:11:46.307153Z",
     "iopub.status.idle": "2023-08-18T09:11:48.338548Z",
     "shell.execute_reply": "2023-08-18T09:11:48.337416Z"
    },
    "origin_pos": 4,
    "tab": [
     "paddle"
    ]
   },
   "source": [
    "import warnings\n",
    "from d2l import paddle as d2l\n",
    "\n",
    "warnings.filterwarnings(\"ignore\")\n",
    "import paddle\n",
    "from paddle import nn"
   ],
   "outputs": []
  },
  {
   "cell_type": "markdown",
   "id": "fad3e486",
   "metadata": {
    "origin_pos": 5
   },
   "source": [
    "## 模型\n",
    "\n",
    "与softmax回归的简洁实现（ :numref:`sec_softmax_concise`）相比，\n",
    "唯一的区别是我们添加了2个全连接层（之前我们只添加了1个全连接层）。\n",
    "第一层是[**隐藏层**]，它(**包含256个隐藏单元，并使用了ReLU激活函数**)。\n",
    "第二层是输出层。\n"
   ]
  },
  {
   "cell_type": "code",
   "execution_count": 2,
   "id": "050ab93a",
   "metadata": {
    "execution": {
     "iopub.execute_input": "2023-08-18T09:11:48.344204Z",
     "iopub.status.busy": "2023-08-18T09:11:48.343353Z",
     "iopub.status.idle": "2023-08-18T09:11:48.539700Z",
     "shell.execute_reply": "2023-08-18T09:11:48.538798Z"
    },
    "origin_pos": 9,
    "tab": [
     "paddle"
    ]
   },
   "source": [
    "net = nn.Sequential(nn.Flatten(),\n",
    "                    nn.Linear(784, 256),\n",
    "                    nn.ReLU(),\n",
    "                    nn.Linear(256, 10))\n",
    "\n",
    "\n",
    "for layer in net:\n",
    "    if type(layer) == nn.Linear:\n",
    "        weight_attr = paddle.framework.ParamAttr(initializer=paddle.nn.initializer.Normal(mean=0.0, std=0.01))\n",
    "        layer.weight_attr = weight_attr"
   ],
   "outputs": []
  },
  {
   "cell_type": "markdown",
   "id": "f52b9e71",
   "metadata": {
    "origin_pos": 10
   },
   "source": [
    "[**训练过程**]的实现与我们实现softmax回归时完全相同，\n",
    "这种模块化设计使我们能够将与模型架构有关的内容独立出来。\n"
   ]
  },
  {
   "cell_type": "code",
   "execution_count": 3,
   "id": "b13ef4d8",
   "metadata": {
    "execution": {
     "iopub.execute_input": "2023-08-18T09:11:48.543739Z",
     "iopub.status.busy": "2023-08-18T09:11:48.543124Z",
     "iopub.status.idle": "2023-08-18T09:11:48.547833Z",
     "shell.execute_reply": "2023-08-18T09:11:48.547031Z"
    },
    "origin_pos": 14,
    "tab": [
     "paddle"
    ]
   },
   "source": [
    "batch_size, lr, num_epochs = 256, 0.1, 10\n",
    "loss = nn.CrossEntropyLoss(reduction='none')\n",
    "trainer = paddle.optimizer.SGD(parameters=net.parameters(), learning_rate=lr)"
   ],
   "outputs": []
  },
  {
   "cell_type": "code",
   "execution_count": 4,
   "id": "0f561ac5",
   "metadata": {
    "execution": {
     "iopub.execute_input": "2023-08-18T09:11:48.551544Z",
     "iopub.status.busy": "2023-08-18T09:11:48.550653Z",
     "iopub.status.idle": "2023-08-18T09:13:05.456558Z",
     "shell.execute_reply": "2023-08-18T09:13:05.455576Z"
    },
    "origin_pos": 15,
    "tab": [
     "paddle"
    ]
   },
   "source": [
    "train_iter, test_iter = d2l.load_data_fashion_mnist(batch_size)\n",
    "d2l.train_ch3(net, train_iter, test_iter, loss, num_epochs, trainer)"
   ],
   "outputs": []
  },
  {
   "cell_type": "markdown",
   "id": "d54ea63a",
   "metadata": {
    "origin_pos": 16
   },
   "source": [
    "## 小结\n",
    "\n",
    "* 我们可以使用高级API更简洁地实现多层感知机。\n",
    "* 对于相同的分类问题，多层感知机的实现与softmax回归的实现相同，只是多层感知机的实现里增加了带有激活函数的隐藏层。\n",
    "\n",
    "## 练习\n",
    "\n",
    "1. 尝试添加不同数量的隐藏层（也可以修改学习率），怎么样设置效果最好？\n",
    "1. 尝试不同的激活函数，哪个效果最好？\n",
    "1. 尝试不同的方案来初始化权重，什么方法效果最好？\n"
   ]
  },
  {
   "cell_type": "markdown",
   "id": "6942cf96",
   "metadata": {
    "origin_pos": 20,
    "tab": [
     "paddle"
    ]
   },
   "source": [
    "[Discussions](https://discuss.d2l.ai/t/11770)\n"
   ]
  }
 ],
 "metadata": {
  "language_info": {
   "name": "python"
  },
  "required_libs": []
 },
 "nbformat": 4,
 "nbformat_minor": 5
}
