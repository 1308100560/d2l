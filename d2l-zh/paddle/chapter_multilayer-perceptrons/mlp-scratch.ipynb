{
 "cells": [
  {
   "cell_type": "markdown",
   "id": "ebecd173",
   "metadata": {
    "origin_pos": 0
   },
   "source": [
    "# 多层感知机的从零开始实现\n",
    ":label:`sec_mlp_scratch`\n",
    "\n",
    "我们已经在 :numref:`sec_mlp`中描述了多层感知机（MLP），\n",
    "现在让我们尝试自己实现一个多层感知机。\n",
    "为了与之前softmax回归（ :numref:`sec_softmax_scratch` ）\n",
    "获得的结果进行比较，\n",
    "我们将继续使用Fashion-MNIST图像分类数据集\n",
    "（ :numref:`sec_fashion_mnist`）。\n"
   ]
  },
  {
   "cell_type": "code",
   "execution_count": 1,
   "id": "2de62278",
   "metadata": {
    "execution": {
     "iopub.execute_input": "2023-08-18T09:13:12.525601Z",
     "iopub.status.busy": "2023-08-18T09:13:12.525086Z",
     "iopub.status.idle": "2023-08-18T09:13:14.845841Z",
     "shell.execute_reply": "2023-08-18T09:13:14.844758Z"
    },
    "origin_pos": 4,
    "tab": [
     "paddle"
    ]
   },
   "source": [
    "import warnings\n",
    "from d2l import paddle as d2l\n",
    "\n",
    "warnings.filterwarnings(\"ignore\")\n",
    "import paddle\n",
    "from paddle import nn"
   ],
   "outputs": []
  },
  {
   "cell_type": "code",
   "execution_count": 2,
   "id": "98ac4949",
   "metadata": {
    "execution": {
     "iopub.execute_input": "2023-08-18T09:13:14.850224Z",
     "iopub.status.busy": "2023-08-18T09:13:14.849507Z",
     "iopub.status.idle": "2023-08-18T09:13:19.296153Z",
     "shell.execute_reply": "2023-08-18T09:13:19.295242Z"
    },
    "origin_pos": 5,
    "tab": [
     "paddle"
    ]
   },
   "source": [
    "batch_size = 256\n",
    "train_iter, test_iter = d2l.load_data_fashion_mnist(batch_size)"
   ],
   "outputs": []
  },
  {
   "cell_type": "markdown",
   "id": "21f752ad",
   "metadata": {
    "origin_pos": 6
   },
   "source": [
    "## 初始化模型参数\n",
    "\n",
    "回想一下，Fashion-MNIST中的每个图像由\n",
    "$28 \\times 28 = 784$个灰度像素值组成。\n",
    "所有图像共分为10个类别。\n",
    "忽略像素之间的空间结构，\n",
    "我们可以将每个图像视为具有784个输入特征\n",
    "和10个类的简单分类数据集。\n",
    "首先，我们将[**实现一个具有单隐藏层的多层感知机，\n",
    "它包含256个隐藏单元**]。\n",
    "注意，我们可以将这两个变量都视为超参数。\n",
    "通常，我们选择2的若干次幂作为层的宽度。\n",
    "因为内存在硬件中的分配和寻址方式，这么做往往可以在计算上更高效。\n",
    "\n",
    "我们用几个张量来表示我们的参数。\n",
    "注意，对于每一层我们都要记录一个权重矩阵和一个偏置向量。\n",
    "跟以前一样，我们要为损失关于这些参数的梯度分配内存。\n"
   ]
  },
  {
   "cell_type": "code",
   "execution_count": 3,
   "id": "6eb91a0b",
   "metadata": {
    "execution": {
     "iopub.execute_input": "2023-08-18T09:13:19.300225Z",
     "iopub.status.busy": "2023-08-18T09:13:19.299662Z",
     "iopub.status.idle": "2023-08-18T09:13:19.495916Z",
     "shell.execute_reply": "2023-08-18T09:13:19.494924Z"
    },
    "origin_pos": 10,
    "tab": [
     "paddle"
    ]
   },
   "source": [
    "num_inputs, num_outputs, num_hiddens = 784, 10, 256\n",
    "\n",
    "W1 = paddle.randn([num_inputs, num_hiddens]) * 0.01\n",
    "W1.stop_gradient = False\n",
    "b1 = paddle.zeros([num_hiddens])\n",
    "b1.stop_gradient = False\n",
    "W2 = paddle.randn([num_hiddens, num_outputs]) * 0.01\n",
    "W2.stop_gradient = False\n",
    "b2 = paddle.zeros([num_outputs])\n",
    "b2.stop_gradient = False\n",
    "\n",
    "params = [W1, b1, W2, b2]"
   ],
   "outputs": []
  },
  {
   "cell_type": "markdown",
   "id": "f2724f8d",
   "metadata": {
    "origin_pos": 11
   },
   "source": [
    "## 激活函数\n",
    "\n",
    "为了确保我们对模型的细节了如指掌，\n",
    "我们将[**实现ReLU激活函数**]，\n",
    "而不是直接调用内置的`relu`函数。\n"
   ]
  },
  {
   "cell_type": "code",
   "execution_count": 4,
   "id": "4f3a4cb9",
   "metadata": {
    "execution": {
     "iopub.execute_input": "2023-08-18T09:13:19.499529Z",
     "iopub.status.busy": "2023-08-18T09:13:19.499249Z",
     "iopub.status.idle": "2023-08-18T09:13:19.503764Z",
     "shell.execute_reply": "2023-08-18T09:13:19.502885Z"
    },
    "origin_pos": 15,
    "tab": [
     "paddle"
    ]
   },
   "source": [
    "def relu(X):\n",
    "    a = paddle.zeros_like(X)\n",
    "    return paddle.maximum(X, a)"
   ],
   "outputs": []
  },
  {
   "cell_type": "markdown",
   "id": "f307db89",
   "metadata": {
    "origin_pos": 16
   },
   "source": [
    "## 模型\n",
    "\n",
    "因为我们忽略了空间结构，\n",
    "所以我们使用`reshape`将每个二维图像转换为一个长度为`num_inputs`的向量。\n",
    "只需几行代码就可以(**实现我们的模型**)。\n"
   ]
  },
  {
   "cell_type": "code",
   "execution_count": 5,
   "id": "691252ba",
   "metadata": {
    "execution": {
     "iopub.execute_input": "2023-08-18T09:13:19.506829Z",
     "iopub.status.busy": "2023-08-18T09:13:19.506558Z",
     "iopub.status.idle": "2023-08-18T09:13:19.510977Z",
     "shell.execute_reply": "2023-08-18T09:13:19.510175Z"
    },
    "origin_pos": 20,
    "tab": [
     "paddle"
    ]
   },
   "source": [
    "def net(X):\n",
    "    X = X.reshape((-1, num_inputs))\n",
    "    H = relu(X@W1 + b1)  # 这里“@”代表矩阵乘法\n",
    "    return (H@W2 + b2)"
   ],
   "outputs": []
  },
  {
   "cell_type": "markdown",
   "id": "05853588",
   "metadata": {
    "origin_pos": 21
   },
   "source": [
    "## 损失函数\n",
    "\n",
    "由于我们已经从零实现过softmax函数（ :numref:`sec_softmax_scratch`），\n",
    "因此在这里我们直接使用高级API中的内置函数来计算softmax和交叉熵损失。\n",
    "回想一下我们之前在 :numref:`subsec_softmax-implementation-revisited`中\n",
    "对这些复杂问题的讨论。\n",
    "我们鼓励感兴趣的读者查看损失函数的源代码，以加深对实现细节的了解。\n"
   ]
  },
  {
   "cell_type": "code",
   "execution_count": 6,
   "id": "d198c131",
   "metadata": {
    "execution": {
     "iopub.execute_input": "2023-08-18T09:13:19.513946Z",
     "iopub.status.busy": "2023-08-18T09:13:19.513675Z",
     "iopub.status.idle": "2023-08-18T09:13:19.517911Z",
     "shell.execute_reply": "2023-08-18T09:13:19.517124Z"
    },
    "origin_pos": 23,
    "tab": [
     "paddle"
    ]
   },
   "source": [
    "loss = nn.CrossEntropyLoss(reduction='none')"
   ],
   "outputs": []
  },
  {
   "cell_type": "markdown",
   "id": "444d016d",
   "metadata": {
    "origin_pos": 25
   },
   "source": [
    "## 训练\n",
    "\n",
    "幸运的是，[**多层感知机的训练过程与softmax回归的训练过程完全相同**]。\n",
    "可以直接调用`d2l`包的`train_ch3`函数（参见 :numref:`sec_softmax_scratch` ），\n",
    "将迭代周期数设置为10，并将学习率设置为0.1.\n"
   ]
  },
  {
   "cell_type": "code",
   "execution_count": 7,
   "id": "d8791540",
   "metadata": {
    "execution": {
     "iopub.execute_input": "2023-08-18T09:13:19.521024Z",
     "iopub.status.busy": "2023-08-18T09:13:19.520751Z",
     "iopub.status.idle": "2023-08-18T09:14:33.796643Z",
     "shell.execute_reply": "2023-08-18T09:14:33.795696Z"
    },
    "origin_pos": 29,
    "tab": [
     "paddle"
    ]
   },
   "source": [
    "num_epochs, lr = 10, 0.1\n",
    "updater = paddle.optimizer.SGD(learning_rate=lr, parameters=params)\n",
    "d2l.train_ch3(net, train_iter, test_iter, loss, num_epochs, updater)"
   ],
   "outputs": []
  },
  {
   "cell_type": "markdown",
   "id": "7a6bd99b",
   "metadata": {
    "origin_pos": 30
   },
   "source": [
    "为了对学习到的模型进行评估，我们将[**在一些测试数据上应用这个模型**]。\n"
   ]
  },
  {
   "cell_type": "code",
   "execution_count": 8,
   "id": "382f26fe",
   "metadata": {
    "execution": {
     "iopub.execute_input": "2023-08-18T09:14:33.800500Z",
     "iopub.status.busy": "2023-08-18T09:14:33.799890Z",
     "iopub.status.idle": "2023-08-18T09:14:34.355532Z",
     "shell.execute_reply": "2023-08-18T09:14:34.354465Z"
    },
    "origin_pos": 31,
    "tab": [
     "paddle"
    ]
   },
   "source": [
    "d2l.predict_ch3(net, test_iter)"
   ],
   "outputs": []
  },
  {
   "cell_type": "markdown",
   "id": "713ed8a0",
   "metadata": {
    "origin_pos": 32
   },
   "source": [
    "## 小结\n",
    "\n",
    "* 手动实现一个简单的多层感知机是很容易的。然而如果有大量的层，从零开始实现多层感知机会变得很麻烦（例如，要命名和记录模型的参数）。\n",
    "\n",
    "## 练习\n",
    "\n",
    "1. 在所有其他参数保持不变的情况下，更改超参数`num_hiddens`的值，并查看此超参数的变化对结果有何影响。确定此超参数的最佳值。\n",
    "1. 尝试添加更多的隐藏层，并查看它对结果有何影响。\n",
    "1. 改变学习速率会如何影响结果？保持模型架构和其他超参数（包括轮数）不变，学习率设置为多少会带来最好的结果？\n",
    "1. 通过对所有超参数（学习率、轮数、隐藏层数、每层的隐藏单元数）进行联合优化，可以得到的最佳结果是什么？\n",
    "1. 描述为什么涉及多个超参数更具挑战性。\n",
    "1. 如果想要构建多个超参数的搜索方法，请想出一个聪明的策略。\n"
   ]
  },
  {
   "cell_type": "markdown",
   "id": "812193b8",
   "metadata": {
    "origin_pos": 36,
    "tab": [
     "paddle"
    ]
   },
   "source": [
    "[Discussions](https://discuss.d2l.ai/t/11769)\n"
   ]
  }
 ],
 "metadata": {
  "language_info": {
   "name": "python"
  },
  "required_libs": []
 },
 "nbformat": 4,
 "nbformat_minor": 5
}
