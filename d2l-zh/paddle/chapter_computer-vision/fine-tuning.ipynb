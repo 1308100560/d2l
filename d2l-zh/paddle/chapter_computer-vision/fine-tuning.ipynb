{
 "cells": [
  {
   "cell_type": "markdown",
   "id": "1f321a47",
   "metadata": {
    "origin_pos": 0
   },
   "source": [
    "# 微调\n",
    ":label:`sec_fine_tuning`\n",
    "\n",
    "前面的一些章节介绍了如何在只有6万张图像的Fashion-MNIST训练数据集上训练模型。\n",
    "我们还描述了学术界当下使用最广泛的大规模图像数据集ImageNet，它有超过1000万的图像和1000类的物体。\n",
    "然而，我们平常接触到的数据集的规模通常在这两者之间。\n",
    "\n",
    "假如我们想识别图片中不同类型的椅子，然后向用户推荐购买链接。\n",
    "一种可能的方法是首先识别100把普通椅子，为每把椅子拍摄1000张不同角度的图像，然后在收集的图像数据集上训练一个分类模型。\n",
    "尽管这个椅子数据集可能大于Fashion-MNIST数据集，但实例数量仍然不到ImageNet中的十分之一。\n",
    "适合ImageNet的复杂模型可能会在这个椅子数据集上过拟合。\n",
    "此外，由于训练样本数量有限，训练模型的准确性可能无法满足实际要求。\n",
    "\n",
    "为了解决上述问题，一个显而易见的解决方案是收集更多的数据。\n",
    "但是，收集和标记数据可能需要大量的时间和金钱。\n",
    "例如，为了收集ImageNet数据集，研究人员花费了数百万美元的研究资金。\n",
    "尽管目前的数据收集成本已大幅降低，但这一成本仍不能忽视。\n",
    "\n",
    "另一种解决方案是应用*迁移学习*（transfer learning）将从*源数据集*学到的知识迁移到*目标数据集*。\n",
    "例如，尽管ImageNet数据集中的大多数图像与椅子无关，但在此数据集上训练的模型可能会提取更通用的图像特征，这有助于识别边缘、纹理、形状和对象组合。\n",
    "这些类似的特征也可能有效地识别椅子。\n",
    "\n",
    "## 步骤\n",
    "\n",
    "本节将介绍迁移学习中的常见技巧:*微调*（fine-tuning）。如 :numref:`fig_finetune`所示，微调包括以下四个步骤。\n",
    "\n",
    "1. 在源数据集（例如ImageNet数据集）上预训练神经网络模型，即*源模型*。\n",
    "1. 创建一个新的神经网络模型，即*目标模型*。这将复制源模型上的所有模型设计及其参数（输出层除外）。我们假定这些模型参数包含从源数据集中学到的知识，这些知识也将适用于目标数据集。我们还假设源模型的输出层与源数据集的标签密切相关；因此不在目标模型中使用该层。\n",
    "1. 向目标模型添加输出层，其输出数是目标数据集中的类别数。然后随机初始化该层的模型参数。\n",
    "1. 在目标数据集（如椅子数据集）上训练目标模型。输出层将从头开始进行训练，而所有其他层的参数将根据源模型的参数进行微调。\n",
    "\n",
    "![微调。](../img/finetune.svg)\n",
    ":label:`fig_finetune`\n",
    "\n",
    "当目标数据集比源数据集小得多时，微调有助于提高模型的泛化能力。\n",
    "\n",
    "## 热狗识别\n",
    "\n",
    "让我们通过具体案例演示微调：热狗识别。\n",
    "我们将在一个小型数据集上微调ResNet模型。该模型已在ImageNet数据集上进行了预训练。\n",
    "这个小型数据集包含数千张包含热狗和不包含热狗的图像，我们将使用微调模型来识别图像中是否包含热狗。\n"
   ]
  },
  {
   "cell_type": "code",
   "execution_count": 1,
   "id": "cc269176",
   "metadata": {
    "execution": {
     "iopub.execute_input": "2023-08-18T09:25:21.244370Z",
     "iopub.status.busy": "2023-08-18T09:25:21.243760Z",
     "iopub.status.idle": "2023-08-18T09:25:24.732067Z",
     "shell.execute_reply": "2023-08-18T09:25:24.730669Z"
    },
    "origin_pos": 3,
    "tab": [
     "paddle"
    ]
   },
   "source": [
    "%matplotlib inline\n",
    "import warnings\n",
    "from d2l import paddle as d2l\n",
    "\n",
    "warnings.filterwarnings(\"ignore\")\n",
    "import os\n",
    "import paddle\n",
    "import paddle.vision as paddlevision\n",
    "from paddle import nn"
   ],
   "outputs": []
  },
  {
   "cell_type": "markdown",
   "id": "3898cc8c",
   "metadata": {
    "origin_pos": 4
   },
   "source": [
    "### 获取数据集\n",
    "\n",
    "我们使用的[**热狗数据集来源于网络**]。\n",
    "该数据集包含1400张热狗的“正类”图像，以及包含尽可能多的其他食物的“负类”图像。\n",
    "含着两个类别的1000张图片用于训练，其余的则用于测试。\n",
    "\n",
    "解压下载的数据集，我们获得了两个文件夹`hotdog/train`和`hotdog/test`。\n",
    "这两个文件夹都有`hotdog`（有热狗）和`not-hotdog`（无热狗）两个子文件夹，\n",
    "子文件夹内都包含相应类的图像。\n"
   ]
  },
  {
   "cell_type": "code",
   "execution_count": 2,
   "id": "29185a3b",
   "metadata": {
    "execution": {
     "iopub.execute_input": "2023-08-18T09:25:24.737269Z",
     "iopub.status.busy": "2023-08-18T09:25:24.736247Z",
     "iopub.status.idle": "2023-08-18T09:25:35.586953Z",
     "shell.execute_reply": "2023-08-18T09:25:35.586070Z"
    },
    "origin_pos": 5,
    "tab": [
     "paddle"
    ]
   },
   "source": [
    "#@save\n",
    "d2l.DATA_HUB['hotdog'] = (d2l.DATA_URL + 'hotdog.zip',\n",
    "                         'fba480ffa8aa7e0febbb511d181409f899b9baa5')\n",
    "\n",
    "data_dir = d2l.download_extract('hotdog')"
   ],
   "outputs": []
  },
  {
   "cell_type": "markdown",
   "id": "e479e909",
   "metadata": {
    "origin_pos": 6
   },
   "source": [
    "我们创建两个实例来分别读取训练和测试数据集中的所有图像文件。\n"
   ]
  },
  {
   "cell_type": "code",
   "execution_count": 3,
   "id": "17e51f26",
   "metadata": {
    "execution": {
     "iopub.execute_input": "2023-08-18T09:25:35.591252Z",
     "iopub.status.busy": "2023-08-18T09:25:35.590618Z",
     "iopub.status.idle": "2023-08-18T09:25:35.605788Z",
     "shell.execute_reply": "2023-08-18T09:25:35.604965Z"
    },
    "origin_pos": 9,
    "tab": [
     "paddle"
    ]
   },
   "source": [
    "train_imgs = paddlevision.datasets.DatasetFolder(os.path.join(data_dir, 'train'))\n",
    "test_imgs = paddlevision.datasets.DatasetFolder(os.path.join(data_dir, 'test'))"
   ],
   "outputs": []
  },
  {
   "cell_type": "markdown",
   "id": "dd616bcc",
   "metadata": {
    "origin_pos": 10
   },
   "source": [
    "下面显示了前8个正类样本图片和最后8张负类样本图片。正如所看到的，[**图像的大小和纵横比各有不同**]。\n"
   ]
  },
  {
   "cell_type": "code",
   "execution_count": 4,
   "id": "25eb3b0d",
   "metadata": {
    "execution": {
     "iopub.execute_input": "2023-08-18T09:25:35.609135Z",
     "iopub.status.busy": "2023-08-18T09:25:35.608594Z",
     "iopub.status.idle": "2023-08-18T09:25:36.281067Z",
     "shell.execute_reply": "2023-08-18T09:25:36.279961Z"
    },
    "origin_pos": 11,
    "tab": [
     "paddle"
    ]
   },
   "source": [
    "hotdogs = [train_imgs[i][0] for i in range(8)]\n",
    "not_hotdogs = [train_imgs[-i - 1][0] for i in range(8)]\n",
    "d2l.show_images(hotdogs + not_hotdogs, 2, 8, scale=1.4);"
   ],
   "outputs": []
  },
  {
   "cell_type": "markdown",
   "id": "e106b17d",
   "metadata": {
    "origin_pos": 12
   },
   "source": [
    "在训练期间，我们首先从图像中裁切随机大小和随机长宽比的区域，然后将该区域缩放为$224 \\times 224$输入图像。\n",
    "在测试过程中，我们将图像的高度和宽度都缩放到256像素，然后裁剪中央$224 \\times 224$区域作为输入。\n",
    "此外，对于RGB（红、绿和蓝）颜色通道，我们分别*标准化*每个通道。\n",
    "具体而言，该通道的每个值减去该通道的平均值，然后将结果除以该通道的标准差。\n",
    "\n",
    "[~~数据增广~~]\n"
   ]
  },
  {
   "cell_type": "code",
   "execution_count": 5,
   "id": "43931c97",
   "metadata": {
    "execution": {
     "iopub.execute_input": "2023-08-18T09:25:36.286702Z",
     "iopub.status.busy": "2023-08-18T09:25:36.285978Z",
     "iopub.status.idle": "2023-08-18T09:25:36.293477Z",
     "shell.execute_reply": "2023-08-18T09:25:36.292504Z"
    },
    "origin_pos": 15,
    "tab": [
     "paddle"
    ]
   },
   "source": [
    "# 使用RGB通道的均值和标准差，以标准化每个通道\n",
    "normalize = paddle.vision.transforms.Normalize(\n",
    "    [0.485, 0.456, 0.406], [0.229, 0.224, 0.225])\n",
    "\n",
    "train_augs = paddlevision.transforms.Compose([\n",
    "    paddlevision.transforms.RandomResizedCrop(224),\n",
    "    paddlevision.transforms.RandomHorizontalFlip(),\n",
    "    paddlevision.transforms.ToTensor(),\n",
    "    normalize])\n",
    "\n",
    "test_augs = paddlevision.transforms.Compose([\n",
    "    paddlevision.transforms.Resize(256),\n",
    "    paddlevision.transforms.CenterCrop(224),\n",
    "    paddlevision.transforms.ToTensor(),\n",
    "    normalize])"
   ],
   "outputs": []
  },
  {
   "cell_type": "markdown",
   "id": "6ae1b10d",
   "metadata": {
    "origin_pos": 16
   },
   "source": [
    "### [**定义和初始化模型**]\n",
    "\n",
    "我们使用在ImageNet数据集上预训练的ResNet-18作为源模型。\n",
    "在这里，我们指定`pretrained=True`以自动下载预训练的模型参数。\n",
    "如果首次使用此模型，则需要连接互联网才能下载。\n"
   ]
  },
  {
   "cell_type": "code",
   "execution_count": 6,
   "id": "260c67de",
   "metadata": {
    "execution": {
     "iopub.execute_input": "2023-08-18T09:25:36.297640Z",
     "iopub.status.busy": "2023-08-18T09:25:36.296686Z",
     "iopub.status.idle": "2023-08-18T09:25:37.959039Z",
     "shell.execute_reply": "2023-08-18T09:25:37.958165Z"
    },
    "origin_pos": 19,
    "tab": [
     "paddle"
    ]
   },
   "source": [
    "pretrained_net = paddlevision.models.resnet18(pretrained=True)"
   ],
   "outputs": []
  },
  {
   "cell_type": "markdown",
   "id": "714e42be",
   "metadata": {
    "origin_pos": 22,
    "tab": [
     "paddle"
    ]
   },
   "source": [
    "预训练的源模型实例包含许多特征层和一个输出层`fc`。\n",
    "此划分的主要目的是促进对除输出层以外所有层的模型参数进行微调。\n",
    "下面给出了源模型的成员变量`fc`。\n"
   ]
  },
  {
   "cell_type": "code",
   "execution_count": 7,
   "id": "efef3bd0",
   "metadata": {
    "execution": {
     "iopub.execute_input": "2023-08-18T09:25:37.963024Z",
     "iopub.status.busy": "2023-08-18T09:25:37.962453Z",
     "iopub.status.idle": "2023-08-18T09:25:37.967863Z",
     "shell.execute_reply": "2023-08-18T09:25:37.967048Z"
    },
    "origin_pos": 24,
    "tab": [
     "paddle"
    ]
   },
   "source": [
    "pretrained_net.fc"
   ],
   "outputs": []
  },
  {
   "cell_type": "markdown",
   "id": "6a9d26ae",
   "metadata": {
    "origin_pos": 25
   },
   "source": [
    "在ResNet的全局平均汇聚层后，全连接层转换为ImageNet数据集的1000个类输出。\n",
    "之后，我们构建一个新的神经网络作为目标模型。\n",
    "它的定义方式与预训练源模型的定义方式相同，只是最终层中的输出数量被设置为目标数据集中的类数（而不是1000个）。\n",
    "\n",
    "在下面的代码中，目标模型`finetune_net`中成员变量`features`的参数被初始化为源模型相应层的模型参数。\n",
    "由于模型参数是在ImageNet数据集上预训练的，并且足够好，因此通常只需要较小的学习率即可微调这些参数。\n",
    "\n",
    "成员变量`output`的参数是随机初始化的，通常需要更高的学习率才能从头开始训练。\n",
    "假设`Trainer`实例中的学习率为$\\eta$，我们将成员变量`output`中参数的学习率设置为$10\\eta$。\n"
   ]
  },
  {
   "cell_type": "code",
   "execution_count": 8,
   "id": "580e899d",
   "metadata": {
    "execution": {
     "iopub.execute_input": "2023-08-18T09:25:37.971345Z",
     "iopub.status.busy": "2023-08-18T09:25:37.970734Z",
     "iopub.status.idle": "2023-08-18T09:25:38.537250Z",
     "shell.execute_reply": "2023-08-18T09:25:38.536351Z"
    },
    "origin_pos": 28,
    "tab": [
     "paddle"
    ]
   },
   "source": [
    "finetune_net = paddlevision.models.resnet18(pretrained=True)\n",
    "finetune_net.fc = nn.Linear(pretrained_net.fc.state_dict()['weight'].shape[0], 2)\n",
    "nn.initializer.XavierUniform(pretrained_net.fc.state_dict()['weight']);"
   ],
   "outputs": []
  },
  {
   "cell_type": "markdown",
   "id": "100c8069",
   "metadata": {
    "origin_pos": 29
   },
   "source": [
    "### [**微调模型**]\n",
    "\n",
    "首先，我们定义了一个训练函数`train_fine_tuning`，该函数使用微调，因此可以多次调用。\n"
   ]
  },
  {
   "cell_type": "code",
   "execution_count": 9,
   "id": "f2c8be20",
   "metadata": {
    "execution": {
     "iopub.execute_input": "2023-08-18T09:25:38.541283Z",
     "iopub.status.busy": "2023-08-18T09:25:38.540713Z",
     "iopub.status.idle": "2023-08-18T09:25:38.548117Z",
     "shell.execute_reply": "2023-08-18T09:25:38.547301Z"
    },
    "origin_pos": 32,
    "tab": [
     "paddle"
    ]
   },
   "source": [
    "# 如果param_group=True，输出层中的模型参数将使用十倍的学习率\n",
    "def train_fine_tuning(net, learning_rate, batch_size=128, num_epochs=5,\n",
    "                      param_group=True):\n",
    "    train_iter = paddle.io.DataLoader(paddle.vision.datasets.DatasetFolder(\n",
    "        os.path.join(data_dir, 'train'), transform=train_augs),\n",
    "        batch_size=batch_size, shuffle=True)\n",
    "    test_iter = paddle.io.DataLoader(paddle.vision.datasets.DatasetFolder(\n",
    "        os.path.join(data_dir, 'test'), transform=test_augs),\n",
    "        batch_size=batch_size)\n",
    "    devices = d2l.try_all_gpus()\n",
    "    loss = nn.CrossEntropyLoss(reduction=\"none\")\n",
    "    if param_group:\n",
    "        params_1x = [param for name, param in net.named_parameters()\n",
    "             if name not in [\"fc.weight\", \"fc.bias\"]]\n",
    "        trainer = paddle.optimizer.SGD(learning_rate=learning_rate, parameters=[{'params': params_1x},\n",
    "                                   {'params': net.fc.parameters(),\n",
    "                                    'learning_rate': learning_rate * 10}],\n",
    "                                    weight_decay=0.001)\n",
    "    else:\n",
    "        trainer = paddle.optimizer.SGD(learning_rate=learning_rate, parameters=net.parameters(),\n",
    "                                  weight_decay=0.001)\n",
    "    d2l.train_ch13(net, train_iter, test_iter, loss, trainer, num_epochs, devices)"
   ],
   "outputs": []
  },
  {
   "cell_type": "markdown",
   "id": "53282906",
   "metadata": {
    "origin_pos": 33
   },
   "source": [
    "我们[**使用较小的学习率**]，通过*微调*预训练获得的模型参数。\n"
   ]
  },
  {
   "cell_type": "code",
   "execution_count": 10,
   "id": "120e5757",
   "metadata": {
    "execution": {
     "iopub.execute_input": "2023-08-18T09:25:38.551651Z",
     "iopub.status.busy": "2023-08-18T09:25:38.550957Z",
     "iopub.status.idle": "2023-08-18T09:26:54.600797Z",
     "shell.execute_reply": "2023-08-18T09:26:54.599982Z"
    },
    "origin_pos": 35,
    "tab": [
     "paddle"
    ]
   },
   "source": [
    "train_fine_tuning(finetune_net, 5e-5)"
   ],
   "outputs": []
  },
  {
   "cell_type": "markdown",
   "id": "a0594c29",
   "metadata": {
    "origin_pos": 36
   },
   "source": [
    "[**为了进行比较，**]我们定义了一个相同的模型，但是将其(**所有模型参数初始化为随机值**)。\n",
    "由于整个模型需要从头开始训练，因此我们需要使用更大的学习率。\n"
   ]
  },
  {
   "cell_type": "code",
   "execution_count": 11,
   "id": "5a368762",
   "metadata": {
    "execution": {
     "iopub.execute_input": "2023-08-18T09:26:54.604371Z",
     "iopub.status.busy": "2023-08-18T09:26:54.603773Z",
     "iopub.status.idle": "2023-08-18T09:28:09.277047Z",
     "shell.execute_reply": "2023-08-18T09:28:09.276226Z"
    },
    "origin_pos": 39,
    "tab": [
     "paddle"
    ]
   },
   "source": [
    "scratch_net = paddlevision.models.resnet18()\n",
    "scratch_net.fc = nn.Linear(pretrained_net.fc.state_dict()['weight'].shape[0], 2)\n",
    "train_fine_tuning(scratch_net, 5e-4, param_group=False)"
   ],
   "outputs": []
  },
  {
   "cell_type": "markdown",
   "id": "6386b6db",
   "metadata": {
    "origin_pos": 40
   },
   "source": [
    "意料之中，微调模型往往表现更好，因为它的初始参数值更有效。\n",
    "\n",
    "## 小结\n",
    "\n",
    "* 迁移学习将从源数据集中学到的知识*迁移*到目标数据集，微调是迁移学习的常见技巧。\n",
    "* 除输出层外，目标模型从源模型中复制所有模型设计及其参数，并根据目标数据集对这些参数进行微调。但是，目标模型的输出层需要从头开始训练。\n",
    "* 通常，微调参数使用较小的学习率，而从头开始训练输出层可以使用更大的学习率。\n",
    "\n",
    "## 练习\n",
    "\n",
    "1. 继续提高`finetune_net`的学习率，模型的准确性如何变化？\n",
    "2. 在比较实验中进一步调整`finetune_net`和`scratch_net`的超参数。它们的准确性还有不同吗？\n",
    "3. 将输出层`finetune_net`之前的参数设置为源模型的参数，在训练期间不要更新它们。模型的准确性如何变化？提示：可以使用以下代码。\n"
   ]
  },
  {
   "cell_type": "code",
   "execution_count": 12,
   "id": "c26aa671",
   "metadata": {
    "execution": {
     "iopub.execute_input": "2023-08-18T09:28:09.280724Z",
     "iopub.status.busy": "2023-08-18T09:28:09.280153Z",
     "iopub.status.idle": "2023-08-18T09:28:09.284572Z",
     "shell.execute_reply": "2023-08-18T09:28:09.283716Z"
    },
    "origin_pos": 43,
    "tab": [
     "paddle"
    ]
   },
   "source": [
    "for param in finetune_net.parameters():\n",
    "    param.stop_gradient = True"
   ],
   "outputs": []
  },
  {
   "cell_type": "markdown",
   "id": "ef5ac6ab",
   "metadata": {
    "origin_pos": 44
   },
   "source": [
    "4. 事实上，`ImageNet`数据集中有一个“热狗”类别。我们可以通过以下代码获取其输出层中的相应权重参数，但是我们怎样才能利用这个权重参数？\n"
   ]
  },
  {
   "cell_type": "code",
   "execution_count": 13,
   "id": "cf461b1d",
   "metadata": {
    "execution": {
     "iopub.execute_input": "2023-08-18T09:28:09.288028Z",
     "iopub.status.busy": "2023-08-18T09:28:09.287481Z",
     "iopub.status.idle": "2023-08-18T09:28:09.299874Z",
     "shell.execute_reply": "2023-08-18T09:28:09.299058Z"
    },
    "origin_pos": 47,
    "tab": [
     "paddle"
    ]
   },
   "source": [
    "weight = pretrained_net.fc.weight\n",
    "hotdog_w = paddle.split(weight.T, 1000, axis=0)[713]\n",
    "hotdog_w.shape"
   ],
   "outputs": []
  },
  {
   "cell_type": "markdown",
   "id": "529ab5d8",
   "metadata": {
    "origin_pos": 50,
    "tab": [
     "paddle"
    ]
   },
   "source": [
    "[Discussions](https://discuss.d2l.ai/t/11802)\n"
   ]
  }
 ],
 "metadata": {
  "language_info": {
   "name": "python"
  },
  "required_libs": []
 },
 "nbformat": 4,
 "nbformat_minor": 5
}
