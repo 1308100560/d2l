{
 "cells": [
  {
   "cell_type": "markdown",
   "id": "0d0efc4d",
   "metadata": {
    "origin_pos": 0
   },
   "source": [
    "# 实战 Kaggle 比赛：图像分类 (CIFAR-10)\n",
    ":label:`sec_kaggle_cifar10`\n",
    "\n",
    "之前几节中，我们一直在使用深度学习框架的高级API直接获取张量格式的图像数据集。\n",
    "但是在实践中，图像数据集通常以图像文件的形式出现。\n",
    "本节将从原始图像文件开始，然后逐步组织、读取并将它们转换为张量格式。\n",
    "\n",
    "我们在 :numref:`sec_image_augmentation`中对CIFAR-10数据集做了一个实验。CIFAR-10是计算机视觉领域中的一个重要的数据集。\n",
    "本节将运用我们在前几节中学到的知识来参加CIFAR-10图像分类问题的Kaggle竞赛，(**比赛的网址是https://www.kaggle.com/c/cifar-10**)。\n",
    "\n",
    " :numref:`fig_kaggle_cifar10`显示了竞赛网站页面上的信息。\n",
    "为了能提交结果，首先需要注册一个Kaggle账户。\n",
    "\n",
    "![CIFAR-10 图像分类竞赛页面上的信息。竞赛用的数据集可通过点击“Data”选项卡获取。](../img/kaggle-cifar10.png)\n",
    ":width:`600px`\n",
    ":label:`fig_kaggle_cifar10`\n",
    "\n",
    "首先，导入竞赛所需的包和模块。\n"
   ]
  },
  {
   "cell_type": "code",
   "execution_count": 1,
   "id": "c8c44be4",
   "metadata": {
    "execution": {
     "iopub.execute_input": "2023-08-18T09:06:03.059857Z",
     "iopub.status.busy": "2023-08-18T09:06:03.059243Z",
     "iopub.status.idle": "2023-08-18T09:06:09.097761Z",
     "shell.execute_reply": "2023-08-18T09:06:09.096619Z"
    },
    "origin_pos": 3,
    "tab": [
     "paddle"
    ]
   },
   "source": [
    "import warnings\n",
    "from d2l import paddle as d2l\n",
    "\n",
    "warnings.filterwarnings(\"ignore\")\n",
    "import collections\n",
    "import math\n",
    "import os\n",
    "import shutil\n",
    "import paddle\n",
    "import paddle.vision as paddlevision\n",
    "import pandas as pd\n",
    "from paddle import nn"
   ],
   "outputs": []
  },
  {
   "cell_type": "markdown",
   "id": "bcd72ad8",
   "metadata": {
    "origin_pos": 4
   },
   "source": [
    "## 获取并组织数据集\n",
    "\n",
    "比赛数据集分为训练集和测试集，其中训练集包含50000张、测试集包含300000张图像。\n",
    "在测试集中，10000张图像将被用于评估，而剩下的290000张图像将不会被进行评估，包含它们只是为了防止手动标记测试集并提交标记结果。\n",
    "两个数据集中的图像都是png格式，高度和宽度均为32像素并有三个颜色通道（RGB）。\n",
    "这些图片共涵盖10个类别：飞机、汽车、鸟类、猫、鹿、狗、青蛙、马、船和卡车。\n",
    " :numref:`fig_kaggle_cifar10`的左上角显示了数据集中飞机、汽车和鸟类的一些图像。\n",
    "\n",
    "### 下载数据集\n",
    "\n",
    "登录Kaggle后，我们可以点击 :numref:`fig_kaggle_cifar10`中显示的CIFAR-10图像分类竞赛网页上的“Data”选项卡，然后单击“Download All”按钮下载数据集。\n",
    "在`../data`中解压下载的文件并在其中解压缩`train.7z`和`test.7z`后，在以下路径中可以找到整个数据集：\n",
    "\n",
    "* `../data/cifar-10/train/[1-50000].png`\n",
    "* `../data/cifar-10/test/[1-300000].png`\n",
    "* `../data/cifar-10/trainLabels.csv`\n",
    "* `../data/cifar-10/sampleSubmission.csv`\n",
    "\n",
    "`train`和`test`文件夹分别包含训练和测试图像，`trainLabels.csv`含有训练图像的标签，\n",
    "`sample_submission.csv`是提交文件的范例。\n",
    "\n",
    "为了便于入门，[**我们提供包含前1000个训练图像和5个随机测试图像的数据集的小规模样本**]。\n",
    "要使用Kaggle竞赛的完整数据集，需要将以下`demo`变量设置为`False`。\n"
   ]
  },
  {
   "cell_type": "code",
   "execution_count": 2,
   "id": "6b4aad83",
   "metadata": {
    "execution": {
     "iopub.execute_input": "2023-08-18T09:06:09.102559Z",
     "iopub.status.busy": "2023-08-18T09:06:09.101603Z",
     "iopub.status.idle": "2023-08-18T09:06:09.553483Z",
     "shell.execute_reply": "2023-08-18T09:06:09.552575Z"
    },
    "origin_pos": 5,
    "tab": [
     "paddle"
    ]
   },
   "source": [
    "#@save\n",
    "d2l.DATA_HUB['cifar10_tiny'] = (d2l.DATA_URL + 'kaggle_cifar10_tiny.zip',\n",
    "                                '2068874e4b9a9f0fb07ebe0ad2b29754449ccacd')\n",
    "\n",
    "# 如果使用完整的Kaggle竞赛的数据集，设置demo为False\n",
    "demo = True\n",
    "\n",
    "if demo:\n",
    "    data_dir = d2l.download_extract('cifar10_tiny')\n",
    "else:\n",
    "    data_dir = '../data/cifar-10/'"
   ],
   "outputs": []
  },
  {
   "cell_type": "markdown",
   "id": "c5654170",
   "metadata": {
    "origin_pos": 6
   },
   "source": [
    "### [**整理数据集**]\n",
    "\n",
    "我们需要整理数据集来训练和测试模型。\n",
    "首先，我们用以下函数读取CSV文件中的标签，它返回一个字典，该字典将文件名中不带扩展名的部分映射到其标签。\n"
   ]
  },
  {
   "cell_type": "code",
   "execution_count": 3,
   "id": "96a6f04b",
   "metadata": {
    "execution": {
     "iopub.execute_input": "2023-08-18T09:06:09.557450Z",
     "iopub.status.busy": "2023-08-18T09:06:09.556856Z",
     "iopub.status.idle": "2023-08-18T09:06:09.564320Z",
     "shell.execute_reply": "2023-08-18T09:06:09.563538Z"
    },
    "origin_pos": 7,
    "tab": [
     "paddle"
    ]
   },
   "source": [
    "#@save\n",
    "def read_csv_labels(fname):\n",
    "    \"\"\"读取fname来给标签字典返回一个文件名\"\"\"\n",
    "    with open(fname, 'r') as f:\n",
    "        # 跳过文件头行(列名)\n",
    "        lines = f.readlines()[1:]\n",
    "    tokens = [l.rstrip().split(',') for l in lines]\n",
    "    return dict(((name, label) for name, label in tokens))\n",
    "\n",
    "labels = read_csv_labels(os.path.join(data_dir, 'trainLabels.csv'))\n",
    "print('# 训练样本 :', len(labels))\n",
    "print('# 类别 :', len(set(labels.values())))"
   ],
   "outputs": []
  },
  {
   "cell_type": "markdown",
   "id": "7a03beda",
   "metadata": {
    "origin_pos": 8
   },
   "source": [
    "接下来，我们定义`reorg_train_valid`函数来[**将验证集从原始的训练集中拆分出来**]。\n",
    "此函数中的参数`valid_ratio`是验证集中的样本数与原始训练集中的样本数之比。\n",
    "更具体地说，令$n$等于样本最少的类别中的图像数量，而$r$是比率。\n",
    "验证集将为每个类别拆分出$\\max(\\lfloor nr\\rfloor,1)$张图像。\n",
    "让我们以`valid_ratio=0.1`为例，由于原始的训练集有50000张图像，因此`train_valid_test/train`路径中将有45000张图像用于训练，而剩下5000张图像将作为路径`train_valid_test/valid`中的验证集。\n",
    "组织数据集后，同类别的图像将被放置在同一文件夹下。\n"
   ]
  },
  {
   "cell_type": "code",
   "execution_count": 4,
   "id": "5cf8367c",
   "metadata": {
    "execution": {
     "iopub.execute_input": "2023-08-18T09:06:09.567788Z",
     "iopub.status.busy": "2023-08-18T09:06:09.567246Z",
     "iopub.status.idle": "2023-08-18T09:06:09.574459Z",
     "shell.execute_reply": "2023-08-18T09:06:09.573680Z"
    },
    "origin_pos": 9,
    "tab": [
     "paddle"
    ]
   },
   "source": [
    "#@save\n",
    "def copyfile(filename, target_dir):\n",
    "    \"\"\"将文件复制到目标目录\"\"\"\n",
    "    os.makedirs(target_dir, exist_ok=True)\n",
    "    shutil.copy(filename, target_dir)\n",
    "\n",
    "#@save\n",
    "def reorg_train_valid(data_dir, labels, valid_ratio):\n",
    "    \"\"\"将验证集从原始的训练集中拆分出来\"\"\"\n",
    "    # 训练数据集中样本最少的类别中的样本数\n",
    "    n = collections.Counter(labels.values()).most_common()[-1][1]\n",
    "    # 验证集中每个类别的样本数\n",
    "    n_valid_per_label = max(1, math.floor(n * valid_ratio))\n",
    "    label_count = {}\n",
    "    for train_file in os.listdir(os.path.join(data_dir, 'train')):\n",
    "        label = labels[train_file.split('.')[0]]\n",
    "        fname = os.path.join(data_dir, 'train', train_file)\n",
    "        copyfile(fname, os.path.join(data_dir, 'train_valid_test',\n",
    "                                     'train_valid', label))\n",
    "        if label not in label_count or label_count[label] < n_valid_per_label:\n",
    "            copyfile(fname, os.path.join(data_dir, 'train_valid_test',\n",
    "                                         'valid', label))\n",
    "            label_count[label] = label_count.get(label, 0) + 1\n",
    "        else:\n",
    "            copyfile(fname, os.path.join(data_dir, 'train_valid_test',\n",
    "                                         'train', label))\n",
    "    return n_valid_per_label"
   ],
   "outputs": []
  },
  {
   "cell_type": "markdown",
   "id": "8eedc38f",
   "metadata": {
    "origin_pos": 10
   },
   "source": [
    "下面的`reorg_test`函数用来[**在预测期间整理测试集，以方便读取**]。\n"
   ]
  },
  {
   "cell_type": "code",
   "execution_count": 5,
   "id": "51caf596",
   "metadata": {
    "execution": {
     "iopub.execute_input": "2023-08-18T09:06:09.577856Z",
     "iopub.status.busy": "2023-08-18T09:06:09.577324Z",
     "iopub.status.idle": "2023-08-18T09:06:09.581821Z",
     "shell.execute_reply": "2023-08-18T09:06:09.581039Z"
    },
    "origin_pos": 11,
    "tab": [
     "paddle"
    ]
   },
   "source": [
    "#@save\n",
    "def reorg_test(data_dir):\n",
    "    \"\"\"在预测期间整理测试集，以方便读取\"\"\"\n",
    "    for test_file in os.listdir(os.path.join(data_dir, 'test')):\n",
    "        copyfile(os.path.join(data_dir, 'test', test_file),\n",
    "                 os.path.join(data_dir, 'train_valid_test', 'test',\n",
    "                              'unknown'))"
   ],
   "outputs": []
  },
  {
   "cell_type": "markdown",
   "id": "81931784",
   "metadata": {
    "origin_pos": 12
   },
   "source": [
    "最后，我们使用一个函数来[**调用前面定义的函数**]`read_csv_labels`、`reorg_train_valid`和`reorg_test`。\n"
   ]
  },
  {
   "cell_type": "code",
   "execution_count": 6,
   "id": "86b01517",
   "metadata": {
    "execution": {
     "iopub.execute_input": "2023-08-18T09:06:09.585116Z",
     "iopub.status.busy": "2023-08-18T09:06:09.584606Z",
     "iopub.status.idle": "2023-08-18T09:06:09.588668Z",
     "shell.execute_reply": "2023-08-18T09:06:09.587886Z"
    },
    "origin_pos": 13,
    "tab": [
     "paddle"
    ]
   },
   "source": [
    "def reorg_cifar10_data(data_dir, valid_ratio):\n",
    "    labels = read_csv_labels(os.path.join(data_dir, 'trainLabels.csv'))\n",
    "    reorg_train_valid(data_dir, labels, valid_ratio)\n",
    "    reorg_test(data_dir)"
   ],
   "outputs": []
  },
  {
   "cell_type": "markdown",
   "id": "584d7002",
   "metadata": {
    "origin_pos": 14
   },
   "source": [
    "在这里，我们只将样本数据集的批量大小设置为32。\n",
    "在实际训练和测试中，应该使用Kaggle竞赛的完整数据集，并将`batch_size`设置为更大的整数，例如128。\n",
    "我们将10％的训练样本作为调整超参数的验证集。\n"
   ]
  },
  {
   "cell_type": "code",
   "execution_count": 7,
   "id": "5fa6b837",
   "metadata": {
    "execution": {
     "iopub.execute_input": "2023-08-18T09:06:09.591991Z",
     "iopub.status.busy": "2023-08-18T09:06:09.591376Z",
     "iopub.status.idle": "2023-08-18T09:06:09.854202Z",
     "shell.execute_reply": "2023-08-18T09:06:09.853387Z"
    },
    "origin_pos": 15,
    "tab": [
     "paddle"
    ]
   },
   "source": [
    "batch_size = 32 if demo else 128\n",
    "valid_ratio = 0.1\n",
    "reorg_cifar10_data(data_dir, valid_ratio)"
   ],
   "outputs": []
  },
  {
   "cell_type": "markdown",
   "id": "aafdde2f",
   "metadata": {
    "origin_pos": 16
   },
   "source": [
    "## [**图像增广**]\n",
    "\n",
    "我们使用图像增广来解决过拟合的问题。例如在训练中，我们可以随机水平翻转图像。\n",
    "我们还可以对彩色图像的三个RGB通道执行标准化。\n",
    "下面，我们列出了其中一些可以调整的操作。\n"
   ]
  },
  {
   "cell_type": "code",
   "execution_count": 8,
   "id": "18248389",
   "metadata": {
    "execution": {
     "iopub.execute_input": "2023-08-18T09:06:09.857662Z",
     "iopub.status.busy": "2023-08-18T09:06:09.857123Z",
     "iopub.status.idle": "2023-08-18T09:06:09.862292Z",
     "shell.execute_reply": "2023-08-18T09:06:09.861471Z"
    },
    "origin_pos": 19,
    "tab": [
     "paddle"
    ]
   },
   "source": [
    "transform_train = paddlevision.transforms.Compose([\n",
    "    # 在高度和宽度上将图像放大到40像素的正方形\n",
    "    paddlevision.transforms.Resize(40),\n",
    "    # 随机裁剪出一个高度和宽度均为40像素的正方形图像，\n",
    "    # 生成一个面积为原始图像面积0.64到1倍的小正方形，\n",
    "    # 然后将其缩放为高度和宽度均为32像素的正方形\n",
    "    paddlevision.transforms.RandomResizedCrop(32, scale=(0.64, 1.0),\n",
    "                                              ratio=(1.0, 1.0)),\n",
    "    paddlevision.transforms.RandomHorizontalFlip(),\n",
    "    paddlevision.transforms.ToTensor(),\n",
    "    # 标准化图像的每个通道\n",
    "    paddlevision.transforms.Normalize([0.4914, 0.4822, 0.4465],\n",
    "                                     [0.2023, 0.1994, 0.2010])])"
   ],
   "outputs": []
  },
  {
   "cell_type": "markdown",
   "id": "2f80110d",
   "metadata": {
    "origin_pos": 20
   },
   "source": [
    "在测试期间，我们只对图像执行标准化，以消除评估结果中的随机性。\n"
   ]
  },
  {
   "cell_type": "code",
   "execution_count": 9,
   "id": "5c6e82c1",
   "metadata": {
    "execution": {
     "iopub.execute_input": "2023-08-18T09:06:09.865659Z",
     "iopub.status.busy": "2023-08-18T09:06:09.865028Z",
     "iopub.status.idle": "2023-08-18T09:06:09.869140Z",
     "shell.execute_reply": "2023-08-18T09:06:09.868353Z"
    },
    "origin_pos": 23,
    "tab": [
     "paddle"
    ]
   },
   "source": [
    "transform_test = paddlevision.transforms.Compose([\n",
    "    paddlevision.transforms.ToTensor(),\n",
    "    paddlevision.transforms.Normalize([0.4914, 0.4822, 0.4465],\n",
    "                                     [0.2023, 0.1994, 0.2010])])"
   ],
   "outputs": []
  },
  {
   "cell_type": "markdown",
   "id": "8aa3824e",
   "metadata": {
    "origin_pos": 24
   },
   "source": [
    "## 读取数据集\n",
    "\n",
    "接下来，我们[**读取由原始图像组成的数据集**]，每个样本都包括一张图片和一个标签。\n"
   ]
  },
  {
   "cell_type": "code",
   "execution_count": 10,
   "id": "9eede4ff",
   "metadata": {
    "execution": {
     "iopub.execute_input": "2023-08-18T09:06:09.872552Z",
     "iopub.status.busy": "2023-08-18T09:06:09.871942Z",
     "iopub.status.idle": "2023-08-18T09:06:09.886004Z",
     "shell.execute_reply": "2023-08-18T09:06:09.885209Z"
    },
    "origin_pos": 27,
    "tab": [
     "paddle"
    ]
   },
   "source": [
    "train_ds, train_valid_ds = [paddlevision.datasets.DatasetFolder(\n",
    "    os.path.join(data_dir, 'train_valid_test', folder),\n",
    "    transform=transform_train) for folder in ['train', 'train_valid']]\n",
    "\n",
    "valid_ds, test_ds = [paddlevision.datasets.DatasetFolder(\n",
    "    os.path.join(data_dir, 'train_valid_test', folder),\n",
    "    transform=transform_test) for folder in ['valid', 'test']]"
   ],
   "outputs": []
  },
  {
   "cell_type": "markdown",
   "id": "daeb34b8",
   "metadata": {
    "origin_pos": 28
   },
   "source": [
    "在训练期间，我们需要[**指定上面定义的所有图像增广操作**]。\n",
    "当验证集在超参数调整过程中用于模型评估时，不应引入图像增广的随机性。\n",
    "在最终预测之前，我们根据训练集和验证集组合而成的训练模型进行训练，以充分利用所有标记的数据。\n"
   ]
  },
  {
   "cell_type": "code",
   "execution_count": 11,
   "id": "0eb05f67",
   "metadata": {
    "execution": {
     "iopub.execute_input": "2023-08-18T09:06:09.889355Z",
     "iopub.status.busy": "2023-08-18T09:06:09.888750Z",
     "iopub.status.idle": "2023-08-18T09:06:09.893772Z",
     "shell.execute_reply": "2023-08-18T09:06:09.892994Z"
    },
    "origin_pos": 31,
    "tab": [
     "paddle"
    ]
   },
   "source": [
    "train_iter, train_valid_iter = [paddle.io.DataLoader(\n",
    "    dataset, batch_size=batch_size, shuffle=True, drop_last=True)\n",
    "    for dataset in (train_ds, train_valid_ds)]\n",
    "\n",
    "valid_iter = paddle.io.DataLoader(valid_ds, batch_size=batch_size, shuffle=False,\n",
    "                                  drop_last=True)\n",
    "\n",
    "test_iter = paddle.io.DataLoader(test_ds, batch_size=batch_size, shuffle=False,\n",
    "                                 drop_last=False)"
   ],
   "outputs": []
  },
  {
   "cell_type": "markdown",
   "id": "dd68970a",
   "metadata": {
    "origin_pos": 32
   },
   "source": [
    "## 定义[**模型**]\n"
   ]
  },
  {
   "cell_type": "markdown",
   "id": "609dd394",
   "metadata": {
    "origin_pos": 39,
    "tab": [
     "paddle"
    ]
   },
   "source": [
    "我们定义了 :numref:`sec_resnet`中描述的Resnet-18模型。\n"
   ]
  },
  {
   "cell_type": "code",
   "execution_count": 12,
   "id": "686fd43b",
   "metadata": {
    "execution": {
     "iopub.execute_input": "2023-08-18T09:06:09.897194Z",
     "iopub.status.busy": "2023-08-18T09:06:09.896567Z",
     "iopub.status.idle": "2023-08-18T09:06:09.900949Z",
     "shell.execute_reply": "2023-08-18T09:06:09.900150Z"
    },
    "origin_pos": 42,
    "tab": [
     "paddle"
    ]
   },
   "source": [
    "def get_net():\n",
    "    num_classes = 10\n",
    "    net = d2l.resnet18(num_classes, 3)\n",
    "    return net\n",
    "\n",
    "loss = nn.CrossEntropyLoss(reduction=\"none\")"
   ],
   "outputs": []
  },
  {
   "cell_type": "markdown",
   "id": "7cacdbd8",
   "metadata": {
    "origin_pos": 43
   },
   "source": [
    "## 定义[**训练函数**]\n",
    "\n",
    "我们将根据模型在验证集上的表现来选择模型并调整超参数。\n",
    "下面我们定义了模型训练函数`train`。\n"
   ]
  },
  {
   "cell_type": "code",
   "execution_count": 13,
   "id": "7feb1689",
   "metadata": {
    "execution": {
     "iopub.execute_input": "2023-08-18T09:06:09.904361Z",
     "iopub.status.busy": "2023-08-18T09:06:09.903740Z",
     "iopub.status.idle": "2023-08-18T09:06:09.913225Z",
     "shell.execute_reply": "2023-08-18T09:06:09.912352Z"
    },
    "origin_pos": 46,
    "tab": [
     "paddle"
    ]
   },
   "source": [
    "def train(net, train_iter, valid_iter, num_epochs, lr, wd, devices, lr_period,\n",
    "          lr_decay):\n",
    "    scheduler = paddle.optimizer.lr.StepDecay(lr, lr_period, lr_decay)\n",
    "    trainer = paddle.optimizer.Momentum(learning_rate=scheduler, momentum=0.9, parameters=net.parameters(),\n",
    "                              weight_decay=wd)\n",
    "    num_batches, timer = len(train_iter), d2l.Timer()\n",
    "    legend = ['train loss', 'train acc']\n",
    "    if valid_iter is not None:\n",
    "        legend.append('valid acc')\n",
    "    animator = d2l.Animator(xlabel='epoch', xlim=[1, num_epochs],\n",
    "                            legend=legend)\n",
    "    net = paddle.DataParallel(net)\n",
    "    for epoch in range(num_epochs):\n",
    "        net.train()\n",
    "        metric = d2l.Accumulator(3)\n",
    "        for i, (features, labels) in enumerate(train_iter):\n",
    "            timer.start()\n",
    "            l, acc = d2l.train_batch_ch13(net, features, labels,\n",
    "                                          loss, trainer, devices)\n",
    "            metric.add(l, acc, labels.shape[0])\n",
    "            timer.stop()\n",
    "            if (i + 1) % (num_batches // 5) == 0 or i == num_batches - 1:\n",
    "                animator.add(epoch + (i + 1) / num_batches,\n",
    "                             (metric[0] / metric[2], metric[1] / metric[2],\n",
    "                              None))\n",
    "        if valid_iter is not None:\n",
    "            valid_acc = d2l.evaluate_accuracy_gpu(net, valid_iter)\n",
    "            animator.add(epoch + 1, (None, None, valid_acc))\n",
    "        scheduler.step()\n",
    "    measures = (f'train loss {metric[0] / metric[2]:.3f}, '\n",
    "                f'train acc {metric[1] / metric[2]:.3f}')\n",
    "    if valid_iter is not None:\n",
    "        measures += f', valid acc {valid_acc:.3f}'\n",
    "    print(measures + f'\\n{metric[2] * num_epochs / timer.sum():.1f}'\n",
    "          f' examples/sec on {str(devices)}')"
   ],
   "outputs": []
  },
  {
   "cell_type": "markdown",
   "id": "bf351620",
   "metadata": {
    "origin_pos": 47
   },
   "source": [
    "## [**训练和验证模型**]\n",
    "\n",
    "现在，我们可以训练和验证模型了，而以下所有超参数都可以调整。\n",
    "例如，我们可以增加周期的数量。当`lr_period`和`lr_decay`分别设置为4和0.9时，优化算法的学习速率将在每4个周期乘以0.9。\n",
    "为便于演示，我们在这里只训练20个周期。\n"
   ]
  },
  {
   "cell_type": "code",
   "execution_count": 14,
   "id": "49512f62",
   "metadata": {
    "execution": {
     "iopub.execute_input": "2023-08-18T09:06:09.917148Z",
     "iopub.status.busy": "2023-08-18T09:06:09.916173Z",
     "iopub.status.idle": "2023-08-18T09:07:15.607462Z",
     "shell.execute_reply": "2023-08-18T09:07:15.606623Z"
    },
    "origin_pos": 50,
    "tab": [
     "paddle"
    ]
   },
   "source": [
    "devices, num_epochs, lr, wd = d2l.try_all_gpus(), 20, 2e-4, 5e-4\n",
    "lr_period, lr_decay, net = 4, 0.9, get_net()\n",
    "train(net, train_iter, valid_iter, num_epochs, lr, wd, devices, lr_period,\n",
    "      lr_decay)"
   ],
   "outputs": []
  },
  {
   "cell_type": "markdown",
   "id": "a7f8309b",
   "metadata": {
    "origin_pos": 51
   },
   "source": [
    "## 在 Kaggle 上[**对测试集进行分类并提交结果**]\n",
    "\n",
    "在获得具有超参数的满意的模型后，我们使用所有标记的数据（包括验证集）来重新训练模型并对测试集进行分类。\n"
   ]
  },
  {
   "cell_type": "code",
   "execution_count": 15,
   "id": "b7a8de48",
   "metadata": {
    "execution": {
     "iopub.execute_input": "2023-08-18T09:07:15.611108Z",
     "iopub.status.busy": "2023-08-18T09:07:15.610526Z",
     "iopub.status.idle": "2023-08-18T09:08:13.190074Z",
     "shell.execute_reply": "2023-08-18T09:08:13.189250Z"
    },
    "origin_pos": 54,
    "tab": [
     "paddle"
    ]
   },
   "source": [
    "net, preds = get_net(), []\n",
    "train(net, train_valid_iter, None, num_epochs, lr, wd, devices, lr_period,\n",
    "      lr_decay)\n",
    "\n",
    "for X, _ in test_iter:\n",
    "    y_hat = net(X)\n",
    "    preds.extend(y_hat.argmax(axis=1).astype(paddle.int32).numpy())\n",
    "sorted_ids = list(range(1, len(test_ds) + 1))\n",
    "sorted_ids.sort(key=lambda x: str(x))\n",
    "df = pd.DataFrame({'id': sorted_ids, 'label': preds})\n",
    "df['label'] = df['label'].apply(lambda x: train_valid_ds.classes[x])\n",
    "df.to_csv('submission.csv', index=False)"
   ],
   "outputs": []
  },
  {
   "cell_type": "markdown",
   "id": "f6f5c2ff",
   "metadata": {
    "origin_pos": 55
   },
   "source": [
    "向Kaggle提交结果的方法与 :numref:`sec_kaggle_house`中的方法类似，上面的代码将生成一个\n",
    "`submission.csv`文件，其格式符合Kaggle竞赛的要求。\n",
    "\n",
    "## 小结\n",
    "\n",
    "* 将包含原始图像文件的数据集组织为所需格式后，我们可以读取它们。\n"
   ]
  },
  {
   "cell_type": "markdown",
   "id": "6f3752f3",
   "metadata": {
    "origin_pos": 58,
    "tab": [
     "paddle"
    ]
   },
   "source": [
    "* 我们可以在图像分类竞赛中使用卷积神经网络和图像增广。\n"
   ]
  },
  {
   "cell_type": "markdown",
   "id": "bc189778",
   "metadata": {
    "origin_pos": 59
   },
   "source": [
    "## 练习\n",
    "\n",
    "1. 在这场Kaggle竞赛中使用完整的CIFAR-10数据集。将超参数设为`batch_size = 128`，`num_epochs = 100`，`lr = 0.1`，`lr_period = 50`，`lr_decay = 0.1`。看看在这场比赛中能达到什么准确度和排名。能进一步改进吗？\n",
    "1. 不使用图像增广时，能获得怎样的准确度？\n"
   ]
  },
  {
   "cell_type": "markdown",
   "id": "a0c9ac2b",
   "metadata": {
    "origin_pos": 62,
    "tab": [
     "paddle"
    ]
   },
   "source": [
    "[Discussions](https://discuss.d2l.ai/t/11814)\n"
   ]
  }
 ],
 "metadata": {
  "language_info": {
   "name": "python"
  },
  "required_libs": []
 },
 "nbformat": 4,
 "nbformat_minor": 5
}
