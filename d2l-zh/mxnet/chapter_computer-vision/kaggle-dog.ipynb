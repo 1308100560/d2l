{
 "cells": [
  {
   "cell_type": "markdown",
   "id": "241e20a6",
   "metadata": {
    "origin_pos": 0
   },
   "source": [
    "# 实战Kaggle比赛：狗的品种识别（ImageNet Dogs）\n",
    "\n",
    "本节我们将在Kaggle上实战狗品种识别问题。\n",
    "本次(**比赛网址是https://www.kaggle.com/c/dog-breed-identification**)。\n",
    " :numref:`fig_kaggle_dog`显示了鉴定比赛网页上的信息。\n",
    "需要一个Kaggle账户才能提交结果。\n",
    "\n",
    "在这场比赛中，我们将识别120类不同品种的狗。\n",
    "这个数据集实际上是著名的ImageNet的数据集子集。与 :numref:`sec_kaggle_cifar10`中CIFAR-10数据集中的图像不同，\n",
    "ImageNet数据集中的图像更高更宽，且尺寸不一。\n",
    "\n",
    "![狗的品种鉴定比赛网站，可以通过单击“数据”选项卡来获得比赛数据集。](../img/kaggle-dog.jpg)\n",
    ":width:`400px`\n",
    ":label:`fig_kaggle_dog`\n"
   ]
  },
  {
   "cell_type": "code",
   "execution_count": 1,
   "id": "64f7e127",
   "metadata": {
    "execution": {
     "iopub.execute_input": "2023-08-18T07:18:55.847179Z",
     "iopub.status.busy": "2023-08-18T07:18:55.846390Z",
     "iopub.status.idle": "2023-08-18T07:19:00.492052Z",
     "shell.execute_reply": "2023-08-18T07:19:00.491167Z"
    },
    "origin_pos": 1,
    "tab": [
     "mxnet"
    ]
   },
   "source": [
    "import os\n",
    "from mxnet import autograd, gluon, init, npx\n",
    "from mxnet.gluon import nn\n",
    "from d2l import mxnet as d2l\n",
    "\n",
    "npx.set_np()"
   ],
   "outputs": []
  },
  {
   "cell_type": "markdown",
   "id": "5ccde17d",
   "metadata": {
    "origin_pos": 4
   },
   "source": [
    "## 获取和整理数据集\n",
    "\n",
    "比赛数据集分为训练集和测试集，分别包含RGB（彩色）通道的10222张、10357张JPEG图像。\n",
    "在训练数据集中，有120种犬类，如拉布拉多、贵宾、腊肠、萨摩耶、哈士奇、吉娃娃和约克夏等。\n",
    "\n",
    "### 下载数据集\n",
    "\n",
    "登录Kaggle后，可以点击 :numref:`fig_kaggle_dog`中显示的竞争网页上的“数据”选项卡，然后点击“全部下载”按钮下载数据集。在`../data`中解压下载的文件后，将在以下路径中找到整个数据集：\n",
    "\n",
    "* ../data/dog-breed-identification/labels.csv\n",
    "* ../data/dog-breed-identification/sample_submission.csv\n",
    "* ../data/dog-breed-identification/train\n",
    "* ../data/dog-breed-identification/test\n",
    "\n",
    "\n",
    "上述结构与 :numref:`sec_kaggle_cifar10`的CIFAR-10类似，其中文件夹`train/`和`test/`分别包含训练和测试狗图像，`labels.csv`包含训练图像的标签。\n",
    "\n",
    "同样，为了便于入门，[**我们提供完整数据集的小规模样本**]：`train_valid_test_tiny.zip`。\n",
    "如果要在Kaggle比赛中使用完整的数据集，则需要将下面的`demo`变量更改为`False`。\n"
   ]
  },
  {
   "cell_type": "code",
   "execution_count": 2,
   "id": "95336247",
   "metadata": {
    "execution": {
     "iopub.execute_input": "2023-08-18T07:19:00.496283Z",
     "iopub.status.busy": "2023-08-18T07:19:00.495567Z",
     "iopub.status.idle": "2023-08-18T07:19:01.796721Z",
     "shell.execute_reply": "2023-08-18T07:19:01.795581Z"
    },
    "origin_pos": 5,
    "tab": [
     "mxnet"
    ]
   },
   "source": [
    "#@save\n",
    "d2l.DATA_HUB['dog_tiny'] = (d2l.DATA_URL + 'kaggle_dog_tiny.zip',\n",
    "                            '0cb91d09b814ecdc07b50f31f8dcad3e81d6a86d')\n",
    "\n",
    "# 如果使用Kaggle比赛的完整数据集，请将下面的变量更改为False\n",
    "demo = True\n",
    "if demo:\n",
    "    data_dir = d2l.download_extract('dog_tiny')\n",
    "else:\n",
    "    data_dir = os.path.join('..', 'data', 'dog-breed-identification')"
   ],
   "outputs": []
  },
  {
   "cell_type": "markdown",
   "id": "a6b4ba1d",
   "metadata": {
    "origin_pos": 6
   },
   "source": [
    "### [**整理数据集**]\n",
    "\n",
    "我们可以像 :numref:`sec_kaggle_cifar10`中所做的那样整理数据集，即从原始训练集中拆分验证集，然后将图像移动到按标签分组的子文件夹中。\n",
    "\n",
    "下面的`reorg_dog_data`函数读取训练数据标签、拆分验证集并整理训练集。\n"
   ]
  },
  {
   "cell_type": "code",
   "execution_count": 3,
   "id": "37a21f9e",
   "metadata": {
    "execution": {
     "iopub.execute_input": "2023-08-18T07:19:01.800980Z",
     "iopub.status.busy": "2023-08-18T07:19:01.800303Z",
     "iopub.status.idle": "2023-08-18T07:19:02.167750Z",
     "shell.execute_reply": "2023-08-18T07:19:02.166723Z"
    },
    "origin_pos": 7,
    "tab": [
     "mxnet"
    ]
   },
   "source": [
    "def reorg_dog_data(data_dir, valid_ratio):\n",
    "    labels = d2l.read_csv_labels(os.path.join(data_dir, 'labels.csv'))\n",
    "    d2l.reorg_train_valid(data_dir, labels, valid_ratio)\n",
    "    d2l.reorg_test(data_dir)\n",
    "\n",
    "\n",
    "batch_size = 32 if demo else 128\n",
    "valid_ratio = 0.1\n",
    "reorg_dog_data(data_dir, valid_ratio)"
   ],
   "outputs": []
  },
  {
   "cell_type": "markdown",
   "id": "bf17d939",
   "metadata": {
    "origin_pos": 8
   },
   "source": [
    "## [**图像增广**]\n",
    "\n",
    "回想一下，这个狗品种数据集是ImageNet数据集的子集，其图像大于 :numref:`sec_kaggle_cifar10`中CIFAR-10数据集的图像。\n",
    "下面我们看一下如何在相对较大的图像上使用图像增广。\n"
   ]
  },
  {
   "cell_type": "code",
   "execution_count": 4,
   "id": "298866b8",
   "metadata": {
    "execution": {
     "iopub.execute_input": "2023-08-18T07:19:02.171607Z",
     "iopub.status.busy": "2023-08-18T07:19:02.171310Z",
     "iopub.status.idle": "2023-08-18T07:19:02.178250Z",
     "shell.execute_reply": "2023-08-18T07:19:02.177363Z"
    },
    "origin_pos": 9,
    "tab": [
     "mxnet"
    ]
   },
   "source": [
    "transform_train = gluon.data.vision.transforms.Compose([\n",
    "    # 随机裁剪图像，所得图像为原始面积的0.08～1之间，高宽比在3/4和4/3之间。\n",
    "    # 然后，缩放图像以创建224x224的新图像\n",
    "    gluon.data.vision.transforms.RandomResizedCrop(224, scale=(0.08, 1.0),\n",
    "                                                   ratio=(3.0/4.0, 4.0/3.0)),\n",
    "    gluon.data.vision.transforms.RandomFlipLeftRight(),\n",
    "    # 随机更改亮度，对比度和饱和度\n",
    "    gluon.data.vision.transforms.RandomColorJitter(brightness=0.4,\n",
    "                                                   contrast=0.4,\n",
    "                                                   saturation=0.4),\n",
    "    # 添加随机噪声\n",
    "    gluon.data.vision.transforms.RandomLighting(0.1),\n",
    "    gluon.data.vision.transforms.ToTensor(),\n",
    "    # 标准化图像的每个通道\n",
    "    gluon.data.vision.transforms.Normalize([0.485, 0.456, 0.406],\n",
    "                                           [0.229, 0.224, 0.225])])"
   ],
   "outputs": []
  },
  {
   "cell_type": "markdown",
   "id": "d51c79a9",
   "metadata": {
    "origin_pos": 12
   },
   "source": [
    "测试时，我们只使用确定性的图像预处理操作。\n"
   ]
  },
  {
   "cell_type": "code",
   "execution_count": 5,
   "id": "d1f02d6c",
   "metadata": {
    "execution": {
     "iopub.execute_input": "2023-08-18T07:19:02.181736Z",
     "iopub.status.busy": "2023-08-18T07:19:02.181181Z",
     "iopub.status.idle": "2023-08-18T07:19:02.186266Z",
     "shell.execute_reply": "2023-08-18T07:19:02.185486Z"
    },
    "origin_pos": 13,
    "tab": [
     "mxnet"
    ]
   },
   "source": [
    "transform_test = gluon.data.vision.transforms.Compose([\n",
    "    gluon.data.vision.transforms.Resize(256),\n",
    "    # 从图像中心裁切224x224大小的图片\n",
    "    gluon.data.vision.transforms.CenterCrop(224),\n",
    "    gluon.data.vision.transforms.ToTensor(),\n",
    "    gluon.data.vision.transforms.Normalize([0.485, 0.456, 0.406],\n",
    "                                           [0.229, 0.224, 0.225])])"
   ],
   "outputs": []
  },
  {
   "cell_type": "markdown",
   "id": "3615d059",
   "metadata": {
    "origin_pos": 16
   },
   "source": [
    "## [**读取数据集**]\n",
    "\n",
    "与 :numref:`sec_kaggle_cifar10`一样，我们可以读取整理后的含原始图像文件的数据集。\n"
   ]
  },
  {
   "cell_type": "code",
   "execution_count": 6,
   "id": "2e0232b1",
   "metadata": {
    "execution": {
     "iopub.execute_input": "2023-08-18T07:19:02.189575Z",
     "iopub.status.busy": "2023-08-18T07:19:02.189050Z",
     "iopub.status.idle": "2023-08-18T07:19:02.207703Z",
     "shell.execute_reply": "2023-08-18T07:19:02.206827Z"
    },
    "origin_pos": 17,
    "tab": [
     "mxnet"
    ]
   },
   "source": [
    "train_ds, valid_ds, train_valid_ds, test_ds = [\n",
    "    gluon.data.vision.ImageFolderDataset(\n",
    "        os.path.join(data_dir, 'train_valid_test', folder))\n",
    "    for folder in ('train', 'valid', 'train_valid', 'test')]"
   ],
   "outputs": []
  },
  {
   "cell_type": "markdown",
   "id": "7e5c0ad8",
   "metadata": {
    "origin_pos": 20
   },
   "source": [
    "下面我们创建数据加载器实例的方式与 :numref:`sec_kaggle_cifar10`相同。\n"
   ]
  },
  {
   "cell_type": "code",
   "execution_count": 7,
   "id": "df569a6c",
   "metadata": {
    "execution": {
     "iopub.execute_input": "2023-08-18T07:19:02.212292Z",
     "iopub.status.busy": "2023-08-18T07:19:02.211419Z",
     "iopub.status.idle": "2023-08-18T07:19:02.528454Z",
     "shell.execute_reply": "2023-08-18T07:19:02.527185Z"
    },
    "origin_pos": 21,
    "tab": [
     "mxnet"
    ]
   },
   "source": [
    "train_iter, train_valid_iter = [gluon.data.DataLoader(\n",
    "    dataset.transform_first(transform_train), batch_size, shuffle=True,\n",
    "    last_batch='discard') for dataset in (train_ds, train_valid_ds)]\n",
    "\n",
    "valid_iter = gluon.data.DataLoader(\n",
    "    valid_ds.transform_first(transform_test), batch_size, shuffle=False,\n",
    "    last_batch='discard')\n",
    "\n",
    "test_iter = gluon.data.DataLoader(\n",
    "    test_ds.transform_first(transform_test), batch_size, shuffle=False,\n",
    "    last_batch='keep')"
   ],
   "outputs": []
  },
  {
   "cell_type": "markdown",
   "id": "0615394e",
   "metadata": {
    "origin_pos": 24
   },
   "source": [
    "## [**微调预训练模型**]\n",
    "\n",
    "同样，本次比赛的数据集是ImageNet数据集的子集。\n",
    "因此，我们可以使用 :numref:`sec_fine_tuning`中讨论的方法在完整ImageNet数据集上选择预训练的模型，然后使用该模型提取图像特征，以便将其输入到定制的小规模输出网络中。\n",
    "深度学习框架的高级API提供了在ImageNet数据集上预训练的各种模型。\n",
    "在这里，我们选择预训练的ResNet-34模型，我们只需重复使用此模型的输出层（即提取的特征）的输入。\n",
    "然后，我们可以用一个可以训练的小型自定义输出网络替换原始输出层，例如堆叠两个完全连接的图层。\n",
    "与 :numref:`sec_fine_tuning`中的实验不同，以下内容不重新训练用于特征提取的预训练模型，这节省了梯度下降的时间和内存空间。\n",
    "\n",
    "回想一下，我们使用三个RGB通道的均值和标准差来对完整的ImageNet数据集进行图像标准化。\n",
    "事实上，这也符合ImageNet上预训练模型的标准化操作。\n"
   ]
  },
  {
   "cell_type": "code",
   "execution_count": 8,
   "id": "f4da1f30",
   "metadata": {
    "execution": {
     "iopub.execute_input": "2023-08-18T07:19:02.532608Z",
     "iopub.status.busy": "2023-08-18T07:19:02.531958Z",
     "iopub.status.idle": "2023-08-18T07:19:02.537400Z",
     "shell.execute_reply": "2023-08-18T07:19:02.536561Z"
    },
    "origin_pos": 25,
    "tab": [
     "mxnet"
    ]
   },
   "source": [
    "def get_net(devices):\n",
    "    finetune_net = gluon.model_zoo.vision.resnet34_v2(pretrained=True)\n",
    "    # 定义一个新的输出网络\n",
    "    finetune_net.output_new = nn.HybridSequential(prefix='')\n",
    "    finetune_net.output_new.add(nn.Dense(256, activation='relu'))\n",
    "    # 共有120个输出类别\n",
    "    finetune_net.output_new.add(nn.Dense(120))\n",
    "    # 初始化输出网络\n",
    "    finetune_net.output_new.initialize(init.Xavier(), ctx=devices)\n",
    "    # 将模型参数分配给用于计算的CPU或GPU\n",
    "    finetune_net.collect_params().reset_ctx(devices)\n",
    "    return finetune_net"
   ],
   "outputs": []
  },
  {
   "cell_type": "markdown",
   "id": "12d7f55f",
   "metadata": {
    "origin_pos": 28
   },
   "source": [
    "在[**计算损失**]之前，我们首先获取预训练模型的输出层的输入，即提取的特征。\n",
    "然后我们使用此特征作为我们小型自定义输出网络的输入来计算损失。\n"
   ]
  },
  {
   "cell_type": "code",
   "execution_count": 9,
   "id": "3ce68886",
   "metadata": {
    "execution": {
     "iopub.execute_input": "2023-08-18T07:19:02.540940Z",
     "iopub.status.busy": "2023-08-18T07:19:02.540399Z",
     "iopub.status.idle": "2023-08-18T07:19:02.548100Z",
     "shell.execute_reply": "2023-08-18T07:19:02.547069Z"
    },
    "origin_pos": 29,
    "tab": [
     "mxnet"
    ]
   },
   "source": [
    "loss = gluon.loss.SoftmaxCrossEntropyLoss()\n",
    "\n",
    "def evaluate_loss(data_iter, net, devices):\n",
    "    l_sum, n = 0.0, 0\n",
    "    for features, labels in data_iter:\n",
    "        X_shards, y_shards = d2l.split_batch(features, labels, devices)\n",
    "        output_features = [net.features(X_shard) for X_shard in X_shards]\n",
    "        outputs = [net.output_new(feature) for feature in output_features]\n",
    "        ls = [loss(output, y_shard).sum() for output, y_shard\n",
    "              in zip(outputs, y_shards)]\n",
    "        l_sum += sum([float(l.sum()) for l in ls])\n",
    "        n += labels.size\n",
    "    return l_sum / n"
   ],
   "outputs": []
  },
  {
   "cell_type": "markdown",
   "id": "412effd9",
   "metadata": {
    "origin_pos": 32
   },
   "source": [
    "## 定义[**训练函数**]\n",
    "\n",
    "我们将根据模型在验证集上的表现选择模型并调整超参数。\n",
    "模型训练函数`train`只迭代小型自定义输出网络的参数。\n"
   ]
  },
  {
   "cell_type": "code",
   "execution_count": 10,
   "id": "7a22873c",
   "metadata": {
    "execution": {
     "iopub.execute_input": "2023-08-18T07:19:02.552138Z",
     "iopub.status.busy": "2023-08-18T07:19:02.551724Z",
     "iopub.status.idle": "2023-08-18T07:19:02.567946Z",
     "shell.execute_reply": "2023-08-18T07:19:02.567094Z"
    },
    "origin_pos": 33,
    "tab": [
     "mxnet"
    ]
   },
   "source": [
    "def train(net, train_iter, valid_iter, num_epochs, lr, wd, devices, lr_period,\n",
    "          lr_decay):\n",
    "    # 只训练小型自定义输出网络\n",
    "    trainer = gluon.Trainer(net.output_new.collect_params(), 'sgd',\n",
    "                            {'learning_rate': lr, 'momentum': 0.9, 'wd': wd})\n",
    "    num_batches, timer = len(train_iter), d2l.Timer()\n",
    "    legend = ['train loss']\n",
    "    if valid_iter is not None:\n",
    "        legend.append('valid loss')\n",
    "    animator = d2l.Animator(xlabel='epoch', xlim=[1, num_epochs],\n",
    "                            legend=legend)\n",
    "    for epoch in range(num_epochs):\n",
    "        metric = d2l.Accumulator(2)\n",
    "        if epoch > 0 and epoch % lr_period == 0:\n",
    "            trainer.set_learning_rate(trainer.learning_rate * lr_decay)\n",
    "        for i, (features, labels) in enumerate(train_iter):\n",
    "            timer.start()\n",
    "            X_shards, y_shards = d2l.split_batch(features, labels, devices)\n",
    "            output_features = [net.features(X_shard) for X_shard in X_shards]\n",
    "            with autograd.record():\n",
    "                outputs = [net.output_new(feature)\n",
    "                           for feature in output_features]\n",
    "                ls = [loss(output, y_shard).sum() for output, y_shard\n",
    "                      in zip(outputs, y_shards)]\n",
    "            for l in ls:\n",
    "                l.backward()\n",
    "            trainer.step(batch_size)\n",
    "            metric.add(sum([float(l.sum()) for l in ls]), labels.shape[0])\n",
    "            timer.stop()\n",
    "            if (i + 1) % (num_batches // 5) == 0 or i == num_batches - 1:\n",
    "                animator.add(epoch + (i + 1) / num_batches,\n",
    "                             (metric[0] / metric[1], None))\n",
    "        if valid_iter is not None:\n",
    "            valid_loss = evaluate_loss(valid_iter, net, devices)\n",
    "            animator.add(epoch + 1, (None, valid_loss))\n",
    "    measures = f'train loss {metric[0] / metric[1]:.3f}'\n",
    "    if valid_iter is not None:\n",
    "        measures += f', valid loss {valid_loss:.3f}'\n",
    "    print(measures + f'\\n{metric[1] * num_epochs / timer.sum():.1f}'\n",
    "          f' examples/sec on {str(devices)}')"
   ],
   "outputs": []
  },
  {
   "cell_type": "markdown",
   "id": "32f5bcba",
   "metadata": {
    "origin_pos": 36
   },
   "source": [
    "## [**训练和验证模型**]\n",
    "\n",
    "现在我们可以训练和验证模型了，以下超参数都是可调的。\n",
    "例如，我们可以增加迭代轮数。\n",
    "另外，由于`lr_period`和`lr_decay`分别设置为2和0.9，\n",
    "因此优化算法的学习速率将在每2个迭代后乘以0.9。\n"
   ]
  },
  {
   "cell_type": "code",
   "execution_count": 11,
   "id": "b517e27d",
   "metadata": {
    "execution": {
     "iopub.execute_input": "2023-08-18T07:19:02.571509Z",
     "iopub.status.busy": "2023-08-18T07:19:02.570916Z",
     "iopub.status.idle": "2023-08-18T07:20:44.083230Z",
     "shell.execute_reply": "2023-08-18T07:20:44.081452Z"
    },
    "origin_pos": 37,
    "tab": [
     "mxnet"
    ]
   },
   "source": [
    "devices, num_epochs, lr, wd = d2l.try_all_gpus(), 10, 5e-3, 1e-4\n",
    "lr_period, lr_decay, net = 2, 0.9, get_net(devices)\n",
    "net.hybridize()\n",
    "train(net, train_iter, valid_iter, num_epochs, lr, wd, devices, lr_period,\n",
    "      lr_decay)"
   ],
   "outputs": []
  },
  {
   "cell_type": "markdown",
   "id": "f3b4cc43",
   "metadata": {
    "origin_pos": 40
   },
   "source": [
    "## [**对测试集分类**]并在Kaggle提交结果\n",
    "\n",
    "与 :numref:`sec_kaggle_cifar10`中的最后一步类似，最终所有标记的数据（包括验证集）都用于训练模型和对测试集进行分类。\n",
    "我们将使用训练好的自定义输出网络进行分类。\n"
   ]
  },
  {
   "cell_type": "code",
   "execution_count": 12,
   "id": "6774b291",
   "metadata": {
    "execution": {
     "iopub.execute_input": "2023-08-18T07:20:44.088761Z",
     "iopub.status.busy": "2023-08-18T07:20:44.087508Z",
     "iopub.status.idle": "2023-08-18T07:22:21.051584Z",
     "shell.execute_reply": "2023-08-18T07:22:21.050364Z"
    },
    "origin_pos": 41,
    "tab": [
     "mxnet"
    ]
   },
   "source": [
    "net = get_net(devices)\n",
    "net.hybridize()\n",
    "train(net, train_valid_iter, None, num_epochs, lr, wd, devices, lr_period,\n",
    "      lr_decay)\n",
    "\n",
    "preds = []\n",
    "for data, label in test_iter:\n",
    "    output_features = net.features(data.as_in_ctx(devices[0]))\n",
    "    output = npx.softmax(net.output_new(output_features))\n",
    "    preds.extend(output.asnumpy())\n",
    "ids = sorted(os.listdir(\n",
    "    os.path.join(data_dir, 'train_valid_test', 'test', 'unknown')))\n",
    "with open('submission.csv', 'w') as f:\n",
    "    f.write('id,' + ','.join(train_valid_ds.synsets) + '\\n')\n",
    "    for i, output in zip(ids, preds):\n",
    "        f.write(i.split('.')[0] + ',' + ','.join(\n",
    "            [str(num) for num in output]) + '\\n')"
   ],
   "outputs": []
  },
  {
   "cell_type": "markdown",
   "id": "0d516a01",
   "metadata": {
    "origin_pos": 44
   },
   "source": [
    "上面的代码将生成一个`submission.csv`文件，以 :numref:`sec_kaggle_house`中描述的方式提在Kaggle上提交。\n",
    "\n",
    "## 小结\n",
    "\n",
    "* ImageNet数据集中的图像比CIFAR-10图像尺寸大，我们可能会修改不同数据集上任务的图像增广操作。\n",
    "* 要对ImageNet数据集的子集进行分类，我们可以利用完整ImageNet数据集上的预训练模型来提取特征并仅训练小型自定义输出网络，这将减少计算时间和节省内存空间。\n",
    "\n",
    "## 练习\n",
    "\n",
    "1. 试试使用完整Kaggle比赛数据集，增加`batch_size`（批量大小）和`num_epochs`（迭代轮数），或者设计其它超参数为`lr = 0.01`，`lr_period = 10`，和`lr_decay = 0.1`时，能取得什么结果？\n",
    "1. 如果使用更深的预训练模型，会得到更好的结果吗？如何调整超参数？能进一步改善结果吗？\n"
   ]
  },
  {
   "cell_type": "markdown",
   "id": "6ba41427",
   "metadata": {
    "origin_pos": 45,
    "tab": [
     "mxnet"
    ]
   },
   "source": [
    "[Discussions](https://discuss.d2l.ai/t/2832)\n"
   ]
  }
 ],
 "metadata": {
  "language_info": {
   "name": "python"
  },
  "required_libs": []
 },
 "nbformat": 4,
 "nbformat_minor": 5
}
