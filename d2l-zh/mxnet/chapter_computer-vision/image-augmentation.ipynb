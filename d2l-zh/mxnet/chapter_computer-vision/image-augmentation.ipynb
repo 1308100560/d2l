{
 "cells": [
  {
   "cell_type": "markdown",
   "id": "336cb4e3",
   "metadata": {
    "origin_pos": 0
   },
   "source": [
    "# 图像增广\n",
    ":label:`sec_image_augmentation`\n",
    "\n",
    " :numref:`sec_alexnet`提到过大型数据集是成功应用深度神经网络的先决条件。\n",
    "图像增广在对训练图像进行一系列的随机变化之后，生成相似但不同的训练样本，从而扩大了训练集的规模。\n",
    "此外，应用图像增广的原因是，随机改变训练样本可以减少模型对某些属性的依赖，从而提高模型的泛化能力。\n",
    "例如，我们可以以不同的方式裁剪图像，使感兴趣的对象出现在不同的位置，减少模型对于对象出现位置的依赖。\n",
    "我们还可以调整亮度、颜色等因素来降低模型对颜色的敏感度。\n",
    "可以说，图像增广技术对于AlexNet的成功是必不可少的。本节将讨论这项广泛应用于计算机视觉的技术。\n"
   ]
  },
  {
   "cell_type": "code",
   "execution_count": 1,
   "id": "1674a5a9",
   "metadata": {
    "execution": {
     "iopub.execute_input": "2023-08-18T07:07:44.237757Z",
     "iopub.status.busy": "2023-08-18T07:07:44.237338Z",
     "iopub.status.idle": "2023-08-18T07:07:52.935451Z",
     "shell.execute_reply": "2023-08-18T07:07:52.934156Z"
    },
    "origin_pos": 1,
    "tab": [
     "mxnet"
    ]
   },
   "source": [
    "%matplotlib inline\n",
    "from mxnet import autograd, gluon, image, init, np, npx\n",
    "from mxnet.gluon import nn\n",
    "from d2l import mxnet as d2l\n",
    "\n",
    "npx.set_np()"
   ],
   "outputs": []
  },
  {
   "cell_type": "markdown",
   "id": "8df67765",
   "metadata": {
    "origin_pos": 4
   },
   "source": [
    "## 常用的图像增广方法\n",
    "\n",
    "在对常用图像增广方法的探索时，我们将使用下面这个尺寸为$400\\times 500$的图像作为示例。\n"
   ]
  },
  {
   "cell_type": "code",
   "execution_count": 2,
   "id": "53670e4b",
   "metadata": {
    "execution": {
     "iopub.execute_input": "2023-08-18T07:07:52.947855Z",
     "iopub.status.busy": "2023-08-18T07:07:52.945755Z",
     "iopub.status.idle": "2023-08-18T07:07:53.853930Z",
     "shell.execute_reply": "2023-08-18T07:07:53.852640Z"
    },
    "origin_pos": 5,
    "tab": [
     "mxnet"
    ]
   },
   "source": [
    "d2l.set_figsize()\n",
    "img = image.imread('../img/cat1.jpg')\n",
    "d2l.plt.imshow(img.asnumpy());"
   ],
   "outputs": []
  },
  {
   "cell_type": "markdown",
   "id": "c4767de1",
   "metadata": {
    "origin_pos": 7
   },
   "source": [
    "大多数图像增广方法都具有一定的随机性。为了便于观察图像增广的效果，我们下面定义辅助函数`apply`。\n",
    "此函数在输入图像`img`上多次运行图像增广方法`aug`并显示所有结果。\n"
   ]
  },
  {
   "cell_type": "code",
   "execution_count": 3,
   "id": "f0d93d28",
   "metadata": {
    "execution": {
     "iopub.execute_input": "2023-08-18T07:07:53.860032Z",
     "iopub.status.busy": "2023-08-18T07:07:53.859486Z",
     "iopub.status.idle": "2023-08-18T07:07:53.886479Z",
     "shell.execute_reply": "2023-08-18T07:07:53.883949Z"
    },
    "origin_pos": 8,
    "tab": [
     "mxnet"
    ]
   },
   "source": [
    "def apply(img, aug, num_rows=2, num_cols=4, scale=1.5):\n",
    "    Y = [aug(img) for _ in range(num_rows * num_cols)]\n",
    "    d2l.show_images(Y, num_rows, num_cols, scale=scale)"
   ],
   "outputs": []
  },
  {
   "cell_type": "markdown",
   "id": "be0771be",
   "metadata": {
    "origin_pos": 9
   },
   "source": [
    "### 翻转和裁剪\n",
    "\n",
    "[**左右翻转图像**]通常不会改变对象的类别。这是最早且最广泛使用的图像增广方法之一。\n",
    "接下来，我们使用`transforms`模块来创建`RandomFlipLeftRight`实例，这样就各有50%的几率使图像向左或向右翻转。\n"
   ]
  },
  {
   "cell_type": "code",
   "execution_count": 4,
   "id": "d75c2a0e",
   "metadata": {
    "execution": {
     "iopub.execute_input": "2023-08-18T07:07:53.891938Z",
     "iopub.status.busy": "2023-08-18T07:07:53.891333Z",
     "iopub.status.idle": "2023-08-18T07:07:55.608814Z",
     "shell.execute_reply": "2023-08-18T07:07:55.607412Z"
    },
    "origin_pos": 10,
    "tab": [
     "mxnet"
    ]
   },
   "source": [
    "apply(img, gluon.data.vision.transforms.RandomFlipLeftRight())"
   ],
   "outputs": []
  },
  {
   "cell_type": "markdown",
   "id": "b1f3283f",
   "metadata": {
    "origin_pos": 13
   },
   "source": [
    "[**上下翻转图像**]不如左右图像翻转那样常用。但是，至少对于这个示例图像，上下翻转不会妨碍识别。接下来，我们创建一个`RandomFlipTopBottom`实例，使图像各有50%的几率向上或向下翻转。\n"
   ]
  },
  {
   "cell_type": "code",
   "execution_count": 5,
   "id": "41d52f32",
   "metadata": {
    "execution": {
     "iopub.execute_input": "2023-08-18T07:07:55.615020Z",
     "iopub.status.busy": "2023-08-18T07:07:55.613711Z",
     "iopub.status.idle": "2023-08-18T07:07:57.847453Z",
     "shell.execute_reply": "2023-08-18T07:07:57.846191Z"
    },
    "origin_pos": 14,
    "tab": [
     "mxnet"
    ]
   },
   "source": [
    "apply(img, gluon.data.vision.transforms.RandomFlipTopBottom())"
   ],
   "outputs": []
  },
  {
   "cell_type": "markdown",
   "id": "b8883f57",
   "metadata": {
    "origin_pos": 17
   },
   "source": [
    "在我们使用的示例图像中，猫位于图像的中间，但并非所有图像都是这样。\n",
    "在 :numref:`sec_pooling`中，我们解释了汇聚层可以降低卷积层对目标位置的敏感性。\n",
    "另外，我们可以通过对图像进行随机裁剪，使物体以不同的比例出现在图像的不同位置。\n",
    "这也可以降低模型对目标位置的敏感性。\n",
    "\n",
    "下面的代码将[**随机裁剪**]一个面积为原始面积10%到100%的区域，该区域的宽高比从0.5～2之间随机取值。\n",
    "然后，区域的宽度和高度都被缩放到200像素。\n",
    "在本节中（除非另有说明），$a$和$b$之间的随机数指的是在区间$[a, b]$中通过均匀采样获得的连续值。\n"
   ]
  },
  {
   "cell_type": "code",
   "execution_count": 6,
   "id": "bc41c3d4",
   "metadata": {
    "execution": {
     "iopub.execute_input": "2023-08-18T07:07:57.853921Z",
     "iopub.status.busy": "2023-08-18T07:07:57.853471Z",
     "iopub.status.idle": "2023-08-18T07:07:59.223808Z",
     "shell.execute_reply": "2023-08-18T07:07:59.222362Z"
    },
    "origin_pos": 18,
    "tab": [
     "mxnet"
    ]
   },
   "source": [
    "shape_aug = gluon.data.vision.transforms.RandomResizedCrop(\n",
    "    (200, 200), scale=(0.1, 1), ratio=(0.5, 2))\n",
    "apply(img, shape_aug)"
   ],
   "outputs": []
  },
  {
   "cell_type": "markdown",
   "id": "d9d001d1",
   "metadata": {
    "origin_pos": 21
   },
   "source": [
    "### 改变颜色\n",
    "\n",
    "另一种增广方法是改变颜色。\n",
    "我们可以改变图像颜色的四个方面：亮度、对比度、饱和度和色调。\n",
    "在下面的示例中，我们[**随机更改图像的亮度**]，随机值为原始图像的50%（$1-0.5$）到150%（$1+0.5$）之间。\n"
   ]
  },
  {
   "cell_type": "code",
   "execution_count": 7,
   "id": "ec401470",
   "metadata": {
    "execution": {
     "iopub.execute_input": "2023-08-18T07:07:59.233854Z",
     "iopub.status.busy": "2023-08-18T07:07:59.230924Z",
     "iopub.status.idle": "2023-08-18T07:08:00.809142Z",
     "shell.execute_reply": "2023-08-18T07:08:00.807865Z"
    },
    "origin_pos": 22,
    "tab": [
     "mxnet"
    ]
   },
   "source": [
    "apply(img, gluon.data.vision.transforms.RandomBrightness(0.5))"
   ],
   "outputs": []
  },
  {
   "cell_type": "markdown",
   "id": "bba7cddf",
   "metadata": {
    "origin_pos": 25
   },
   "source": [
    "同样，我们可以[**随机更改图像的色调**]。\n"
   ]
  },
  {
   "cell_type": "code",
   "execution_count": 8,
   "id": "ab4fbb61",
   "metadata": {
    "execution": {
     "iopub.execute_input": "2023-08-18T07:08:00.817074Z",
     "iopub.status.busy": "2023-08-18T07:08:00.815048Z",
     "iopub.status.idle": "2023-08-18T07:08:02.577106Z",
     "shell.execute_reply": "2023-08-18T07:08:02.575555Z"
    },
    "origin_pos": 26,
    "tab": [
     "mxnet"
    ]
   },
   "source": [
    "apply(img, gluon.data.vision.transforms.RandomHue(0.5))"
   ],
   "outputs": []
  },
  {
   "cell_type": "markdown",
   "id": "c9570d64",
   "metadata": {
    "origin_pos": 29
   },
   "source": [
    "我们还可以创建一个`RandomColorJitter`实例，并设置如何同时[**随机更改图像的亮度（`brightness`）、对比度（`contrast`）、饱和度（`saturation`）和色调（`hue`）**]。\n"
   ]
  },
  {
   "cell_type": "code",
   "execution_count": 9,
   "id": "85764a81",
   "metadata": {
    "execution": {
     "iopub.execute_input": "2023-08-18T07:08:02.588672Z",
     "iopub.status.busy": "2023-08-18T07:08:02.586552Z",
     "iopub.status.idle": "2023-08-18T07:08:04.295788Z",
     "shell.execute_reply": "2023-08-18T07:08:04.286872Z"
    },
    "origin_pos": 30,
    "tab": [
     "mxnet"
    ]
   },
   "source": [
    "color_aug = gluon.data.vision.transforms.RandomColorJitter(\n",
    "    brightness=0.5, contrast=0.5, saturation=0.5, hue=0.5)\n",
    "apply(img, color_aug)"
   ],
   "outputs": []
  },
  {
   "cell_type": "markdown",
   "id": "5ef08b36",
   "metadata": {
    "origin_pos": 33
   },
   "source": [
    "### [**结合多种图像增广方法**]\n",
    "\n",
    "在实践中，我们将结合多种图像增广方法。比如，我们可以通过使用一个`Compose`实例来综合上面定义的不同的图像增广方法，并将它们应用到每个图像。\n"
   ]
  },
  {
   "cell_type": "code",
   "execution_count": 10,
   "id": "fb815339",
   "metadata": {
    "execution": {
     "iopub.execute_input": "2023-08-18T07:08:04.302819Z",
     "iopub.status.busy": "2023-08-18T07:08:04.300726Z",
     "iopub.status.idle": "2023-08-18T07:08:05.022016Z",
     "shell.execute_reply": "2023-08-18T07:08:04.992341Z"
    },
    "origin_pos": 34,
    "tab": [
     "mxnet"
    ]
   },
   "source": [
    "augs = gluon.data.vision.transforms.Compose([\n",
    "    gluon.data.vision.transforms.RandomFlipLeftRight(), color_aug, shape_aug])\n",
    "apply(img, augs)"
   ],
   "outputs": []
  },
  {
   "cell_type": "markdown",
   "id": "6d2f6134",
   "metadata": {
    "origin_pos": 37
   },
   "source": [
    "## [**使用图像增广进行训练**]\n",
    "\n",
    "让我们使用图像增广来训练模型。\n",
    "这里，我们使用CIFAR-10数据集，而不是我们之前使用的Fashion-MNIST数据集。\n",
    "这是因为Fashion-MNIST数据集中对象的位置和大小已被规范化，而CIFAR-10数据集中对象的颜色和大小差异更明显。\n",
    "CIFAR-10数据集中的前32个训练图像如下所示。\n"
   ]
  },
  {
   "cell_type": "code",
   "execution_count": 11,
   "id": "69d50a81",
   "metadata": {
    "execution": {
     "iopub.execute_input": "2023-08-18T07:08:05.030461Z",
     "iopub.status.busy": "2023-08-18T07:08:05.028433Z",
     "iopub.status.idle": "2023-08-18T07:08:21.111002Z",
     "shell.execute_reply": "2023-08-18T07:08:21.109606Z"
    },
    "origin_pos": 38,
    "tab": [
     "mxnet"
    ]
   },
   "source": [
    "d2l.show_images(gluon.data.vision.CIFAR10(\n",
    "    train=True)[0:32][0], 4, 8, scale=0.8);"
   ],
   "outputs": []
  },
  {
   "cell_type": "markdown",
   "id": "f1bf41f6",
   "metadata": {
    "origin_pos": 41
   },
   "source": [
    "为了在预测过程中得到确切的结果，我们通常对训练样本只进行图像增广，且在预测过程中不使用随机操作的图像增广。\n",
    "在这里，我们[**只使用最简单的随机左右翻转**]。\n",
    "此外，我们使用`ToTensor`实例将一批图像转换为深度学习框架所要求的格式，即形状为（批量大小，通道数，高度，宽度）的32位浮点数，取值范围为0～1。\n"
   ]
  },
  {
   "cell_type": "code",
   "execution_count": 12,
   "id": "d880b4bc",
   "metadata": {
    "execution": {
     "iopub.execute_input": "2023-08-18T07:08:21.136297Z",
     "iopub.status.busy": "2023-08-18T07:08:21.134256Z",
     "iopub.status.idle": "2023-08-18T07:08:21.150950Z",
     "shell.execute_reply": "2023-08-18T07:08:21.149102Z"
    },
    "origin_pos": 42,
    "tab": [
     "mxnet"
    ]
   },
   "source": [
    "train_augs = gluon.data.vision.transforms.Compose([\n",
    "    gluon.data.vision.transforms.RandomFlipLeftRight(),\n",
    "    gluon.data.vision.transforms.ToTensor()])\n",
    "\n",
    "test_augs = gluon.data.vision.transforms.Compose([\n",
    "    gluon.data.vision.transforms.ToTensor()])"
   ],
   "outputs": []
  },
  {
   "cell_type": "markdown",
   "id": "2071c232",
   "metadata": {
    "origin_pos": 45,
    "tab": [
     "mxnet"
    ]
   },
   "source": [
    "接下来，我们定义了一个辅助函数，以便于读取图像和应用图像增广。Gluon数据集提供的`transform_first`函数将图像增广应用于每个训练样本的第一个元素（由图像和标签组成），即应用在图像上。有关`DataLoader`的详细介绍，请参阅 :numref:`sec_fashion_mnist`。\n"
   ]
  },
  {
   "cell_type": "code",
   "execution_count": 13,
   "id": "9acc73b3",
   "metadata": {
    "execution": {
     "iopub.execute_input": "2023-08-18T07:08:21.162759Z",
     "iopub.status.busy": "2023-08-18T07:08:21.161208Z",
     "iopub.status.idle": "2023-08-18T07:08:21.184941Z",
     "shell.execute_reply": "2023-08-18T07:08:21.179747Z"
    },
    "origin_pos": 47,
    "tab": [
     "mxnet"
    ]
   },
   "source": [
    "def load_cifar10(is_train, augs, batch_size):\n",
    "    return gluon.data.DataLoader(\n",
    "        gluon.data.vision.CIFAR10(train=is_train).transform_first(augs),\n",
    "        batch_size=batch_size, shuffle=is_train,\n",
    "        num_workers=d2l.get_dataloader_workers())"
   ],
   "outputs": []
  },
  {
   "cell_type": "markdown",
   "id": "20f3dd50",
   "metadata": {
    "origin_pos": 50
   },
   "source": [
    "### 多GPU训练\n",
    "\n",
    "我们在CIFAR-10数据集上训练 :numref:`sec_resnet`中的ResNet-18模型。\n",
    "回想一下 :numref:`sec_multi_gpu_concise`中对多GPU训练的介绍。\n",
    "接下来，我们[**定义一个函数，使用多GPU对模型进行训练和评估**]。\n"
   ]
  },
  {
   "cell_type": "code",
   "execution_count": 14,
   "id": "da95f3d5",
   "metadata": {
    "execution": {
     "iopub.execute_input": "2023-08-18T07:08:21.195700Z",
     "iopub.status.busy": "2023-08-18T07:08:21.193589Z",
     "iopub.status.idle": "2023-08-18T07:08:21.220789Z",
     "shell.execute_reply": "2023-08-18T07:08:21.217654Z"
    },
    "origin_pos": 51,
    "tab": [
     "mxnet"
    ]
   },
   "source": [
    "#@save\n",
    "def train_batch_ch13(net, features, labels, loss, trainer, devices,\n",
    "                     split_f=d2l.split_batch):\n",
    "    \"\"\"用多GPU进行小批量训练\"\"\"\n",
    "    X_shards, y_shards = split_f(features, labels, devices)\n",
    "    with autograd.record():\n",
    "        pred_shards = [net(X_shard) for X_shard in X_shards]\n",
    "        ls = [loss(pred_shard, y_shard) for pred_shard, y_shard\n",
    "              in zip(pred_shards, y_shards)]\n",
    "    for l in ls:\n",
    "        l.backward()\n",
    "    # True标志允许使用过时的梯度，这很有用（例如，在微调BERT中）\n",
    "    trainer.step(labels.shape[0], ignore_stale_grad=True)\n",
    "    train_loss_sum = sum([float(l.sum()) for l in ls])\n",
    "    train_acc_sum = sum(d2l.accuracy(pred_shard, y_shard)\n",
    "                        for pred_shard, y_shard in zip(pred_shards, y_shards))\n",
    "    return train_loss_sum, train_acc_sum"
   ],
   "outputs": []
  },
  {
   "cell_type": "code",
   "execution_count": 15,
   "id": "dfc95287",
   "metadata": {
    "execution": {
     "iopub.execute_input": "2023-08-18T07:08:21.225949Z",
     "iopub.status.busy": "2023-08-18T07:08:21.225387Z",
     "iopub.status.idle": "2023-08-18T07:08:21.244271Z",
     "shell.execute_reply": "2023-08-18T07:08:21.243208Z"
    },
    "origin_pos": 54,
    "tab": [
     "mxnet"
    ]
   },
   "source": [
    "#@save\n",
    "def train_ch13(net, train_iter, test_iter, loss, trainer, num_epochs,\n",
    "               devices=d2l.try_all_gpus(), split_f=d2l.split_batch):\n",
    "    \"\"\"用多GPU进行模型训练\"\"\"\n",
    "    timer, num_batches = d2l.Timer(), len(train_iter)\n",
    "    animator = d2l.Animator(xlabel='epoch', xlim=[1, num_epochs], ylim=[0, 1],\n",
    "                            legend=['train loss', 'train acc', 'test acc'])\n",
    "    for epoch in range(num_epochs):\n",
    "        # 4个维度：储存训练损失，训练准确度，实例数，特点数\n",
    "        metric = d2l.Accumulator(4)\n",
    "        for i, (features, labels) in enumerate(train_iter):\n",
    "            timer.start()\n",
    "            l, acc = train_batch_ch13(\n",
    "                net, features, labels, loss, trainer, devices, split_f)\n",
    "            metric.add(l, acc, labels.shape[0], labels.size)\n",
    "            timer.stop()\n",
    "            if (i + 1) % (num_batches // 5) == 0 or i == num_batches - 1:\n",
    "                animator.add(epoch + (i + 1) / num_batches,\n",
    "                             (metric[0] / metric[2], metric[1] / metric[3],\n",
    "                              None))\n",
    "        test_acc = d2l.evaluate_accuracy_gpus(net, test_iter, split_f)\n",
    "        animator.add(epoch + 1, (None, None, test_acc))\n",
    "    print(f'loss {metric[0] / metric[2]:.3f}, train acc '\n",
    "          f'{metric[1] / metric[3]:.3f}, test acc {test_acc:.3f}')\n",
    "    print(f'{metric[2] * num_epochs / timer.sum():.1f} examples/sec on '\n",
    "          f'{str(devices)}')"
   ],
   "outputs": []
  },
  {
   "cell_type": "markdown",
   "id": "d4916ed8",
   "metadata": {
    "origin_pos": 57
   },
   "source": [
    "现在，我们可以[**定义`train_with_data_aug`函数，使用图像增广来训练模型**]。该函数获取所有的GPU，并使用Adam作为训练的优化算法，将图像增广应用于训练集，最后调用刚刚定义的用于训练和评估模型的`train_ch13`函数。\n"
   ]
  },
  {
   "cell_type": "code",
   "execution_count": 16,
   "id": "713d27ee",
   "metadata": {
    "execution": {
     "iopub.execute_input": "2023-08-18T07:08:21.252861Z",
     "iopub.status.busy": "2023-08-18T07:08:21.250362Z",
     "iopub.status.idle": "2023-08-18T07:08:23.222966Z",
     "shell.execute_reply": "2023-08-18T07:08:23.221703Z"
    },
    "origin_pos": 58,
    "tab": [
     "mxnet"
    ]
   },
   "source": [
    "batch_size, devices, net = 256, d2l.try_all_gpus(), d2l.resnet18(10)\n",
    "net.initialize(init=init.Xavier(), ctx=devices)\n",
    "\n",
    "def train_with_data_aug(train_augs, test_augs, net, lr=0.001):\n",
    "    train_iter = load_cifar10(True, train_augs, batch_size)\n",
    "    test_iter = load_cifar10(False, test_augs, batch_size)\n",
    "    loss = gluon.loss.SoftmaxCrossEntropyLoss()\n",
    "    trainer = gluon.Trainer(net.collect_params(), 'adam',\n",
    "                            {'learning_rate': lr})\n",
    "    train_ch13(net, train_iter, test_iter, loss, trainer, 10, devices)"
   ],
   "outputs": []
  },
  {
   "cell_type": "markdown",
   "id": "e3ba8c0d",
   "metadata": {
    "origin_pos": 61
   },
   "source": [
    "让我们使用基于随机左右翻转的图像增广来[**训练模型**]。\n"
   ]
  },
  {
   "cell_type": "code",
   "execution_count": 17,
   "id": "8b526992",
   "metadata": {
    "execution": {
     "iopub.execute_input": "2023-08-18T07:08:23.243352Z",
     "iopub.status.busy": "2023-08-18T07:08:23.237913Z",
     "iopub.status.idle": "2023-08-18T07:13:18.137530Z",
     "shell.execute_reply": "2023-08-18T07:13:18.136279Z"
    },
    "origin_pos": 62,
    "tab": [
     "mxnet"
    ]
   },
   "source": [
    "train_with_data_aug(train_augs, test_augs, net)"
   ],
   "outputs": []
  },
  {
   "cell_type": "markdown",
   "id": "bbd5628d",
   "metadata": {
    "origin_pos": 63
   },
   "source": [
    "## 小结\n",
    "\n",
    "* 图像增广基于现有的训练数据生成随机图像，来提高模型的泛化能力。\n",
    "* 为了在预测过程中得到确切的结果，我们通常对训练样本只进行图像增广，而在预测过程中不使用带随机操作的图像增广。\n",
    "* 深度学习框架提供了许多不同的图像增广方法，这些方法可以被同时应用。\n",
    "\n",
    "## 练习\n",
    "\n",
    "1. 在不使用图像增广的情况下训练模型：`train_with_data_aug(no_aug, no_aug)`。比较使用和不使用图像增广的训练结果和测试精度。这个对比实验能支持图像增广可以减轻过拟合的论点吗？为什么？\n",
    "2. 在基于CIFAR-10数据集的模型训练中结合多种不同的图像增广方法。它能提高测试准确性吗？\n",
    "3. 参阅深度学习框架的在线文档。它还提供了哪些其他的图像增广方法？\n"
   ]
  },
  {
   "cell_type": "markdown",
   "id": "f36d5120",
   "metadata": {
    "origin_pos": 64,
    "tab": [
     "mxnet"
    ]
   },
   "source": [
    "[Discussions](https://discuss.d2l.ai/t/2828)\n"
   ]
  }
 ],
 "metadata": {
  "language_info": {
   "name": "python"
  },
  "required_libs": []
 },
 "nbformat": 4,
 "nbformat_minor": 5
}
