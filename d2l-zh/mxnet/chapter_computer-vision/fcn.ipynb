{
 "cells": [
  {
   "cell_type": "markdown",
   "id": "77cb2c4f",
   "metadata": {
    "origin_pos": 0
   },
   "source": [
    "# 全卷积网络\n",
    ":label:`sec_fcn`\n",
    "\n",
    "如 :numref:`sec_semantic_segmentation`中所介绍的那样，语义分割是对图像中的每个像素分类。\n",
    "*全卷积网络*（fully convolutional network，FCN）采用卷积神经网络实现了从图像像素到像素类别的变换 :cite:`Long.Shelhamer.Darrell.2015`。\n",
    "与我们之前在图像分类或目标检测部分介绍的卷积神经网络不同，全卷积网络将中间层特征图的高和宽变换回输入图像的尺寸：这是通过在 :numref:`sec_transposed_conv`中引入的*转置卷积*（transposed convolution）实现的。\n",
    "因此，输出的类别预测与输入图像在像素级别上具有一一对应关系：通道维的输出即该位置对应像素的类别预测。\n"
   ]
  },
  {
   "cell_type": "code",
   "execution_count": 1,
   "id": "f10e86ee",
   "metadata": {
    "execution": {
     "iopub.execute_input": "2023-08-18T07:25:07.047401Z",
     "iopub.status.busy": "2023-08-18T07:25:07.046788Z",
     "iopub.status.idle": "2023-08-18T07:25:11.247258Z",
     "shell.execute_reply": "2023-08-18T07:25:11.246306Z"
    },
    "origin_pos": 1,
    "tab": [
     "mxnet"
    ]
   },
   "source": [
    "%matplotlib inline\n",
    "from mxnet import gluon, image, init, np, npx\n",
    "from mxnet.gluon import nn\n",
    "from d2l import mxnet as d2l\n",
    "\n",
    "npx.set_np()"
   ],
   "outputs": []
  },
  {
   "cell_type": "markdown",
   "id": "6f5e1380",
   "metadata": {
    "origin_pos": 4
   },
   "source": [
    "## 构造模型\n",
    "\n",
    "下面我们了解一下全卷积网络模型最基本的设计。\n",
    "如 :numref:`fig_fcn`所示，全卷积网络先使用卷积神经网络抽取图像特征，然后通过$1\\times 1$卷积层将通道数变换为类别个数，最后在 :numref:`sec_transposed_conv`中通过转置卷积层将特征图的高和宽变换为输入图像的尺寸。\n",
    "因此，模型输出与输入图像的高和宽相同，且最终输出通道包含了该空间位置像素的类别预测。\n",
    "\n",
    "![全卷积网络](../img/fcn.svg)\n",
    ":label:`fig_fcn`\n",
    "\n",
    "下面，我们[**使用在ImageNet数据集上预训练的ResNet-18模型来提取图像特征**]，并将该网络记为`pretrained_net`。\n",
    "ResNet-18模型的最后几层包括全局平均汇聚层和全连接层，然而全卷积网络中不需要它们。\n"
   ]
  },
  {
   "cell_type": "code",
   "execution_count": 2,
   "id": "e10b2781",
   "metadata": {
    "execution": {
     "iopub.execute_input": "2023-08-18T07:25:11.251597Z",
     "iopub.status.busy": "2023-08-18T07:25:11.250898Z",
     "iopub.status.idle": "2023-08-18T07:25:11.396730Z",
     "shell.execute_reply": "2023-08-18T07:25:11.395870Z"
    },
    "origin_pos": 5,
    "tab": [
     "mxnet"
    ]
   },
   "source": [
    "pretrained_net = gluon.model_zoo.vision.resnet18_v2(pretrained=True)\n",
    "pretrained_net.features[-3:], pretrained_net.output"
   ],
   "outputs": []
  },
  {
   "cell_type": "markdown",
   "id": "46aea5d4",
   "metadata": {
    "origin_pos": 8
   },
   "source": [
    "接下来，我们[**创建一个全卷积网络`net`**]。\n",
    "它复制了ResNet-18中大部分的预训练层，除了最后的全局平均汇聚层和最接近输出的全连接层。\n"
   ]
  },
  {
   "cell_type": "code",
   "execution_count": 3,
   "id": "1e89e9c6",
   "metadata": {
    "execution": {
     "iopub.execute_input": "2023-08-18T07:25:11.401456Z",
     "iopub.status.busy": "2023-08-18T07:25:11.400872Z",
     "iopub.status.idle": "2023-08-18T07:25:11.405169Z",
     "shell.execute_reply": "2023-08-18T07:25:11.404375Z"
    },
    "origin_pos": 9,
    "tab": [
     "mxnet"
    ]
   },
   "source": [
    "net = nn.HybridSequential()\n",
    "for layer in pretrained_net.features[:-2]:\n",
    "    net.add(layer)"
   ],
   "outputs": []
  },
  {
   "cell_type": "markdown",
   "id": "f21a0c79",
   "metadata": {
    "origin_pos": 11
   },
   "source": [
    "给定高度为320和宽度为480的输入，`net`的前向传播将输入的高和宽减小至原来的$1/32$，即10和15。\n"
   ]
  },
  {
   "cell_type": "code",
   "execution_count": 4,
   "id": "79a1af77",
   "metadata": {
    "execution": {
     "iopub.execute_input": "2023-08-18T07:25:11.409501Z",
     "iopub.status.busy": "2023-08-18T07:25:11.408951Z",
     "iopub.status.idle": "2023-08-18T07:25:11.422619Z",
     "shell.execute_reply": "2023-08-18T07:25:11.421835Z"
    },
    "origin_pos": 12,
    "tab": [
     "mxnet"
    ]
   },
   "source": [
    "X = np.random.uniform(size=(1, 3, 320, 480))\n",
    "net(X).shape"
   ],
   "outputs": []
  },
  {
   "cell_type": "markdown",
   "id": "fec4bbc2",
   "metadata": {
    "origin_pos": 15
   },
   "source": [
    "接下来[**使用$1\\times1$卷积层将输出通道数转换为Pascal VOC2012数据集的类数（21类）。**]\n",
    "最后需要(**将特征图的高度和宽度增加32倍**)，从而将其变回输入图像的高和宽。\n",
    "回想一下 :numref:`sec_padding`中卷积层输出形状的计算方法：\n",
    "由于$(320-64+16\\times2+32)/32=10$且$(480-64+16\\times2+32)/32=15$，我们构造一个步幅为$32$的转置卷积层，并将卷积核的高和宽设为$64$，填充为$16$。\n",
    "我们可以看到如果步幅为$s$，填充为$s/2$（假设$s/2$是整数）且卷积核的高和宽为$2s$，转置卷积核会将输入的高和宽分别放大$s$倍。\n"
   ]
  },
  {
   "cell_type": "code",
   "execution_count": 5,
   "id": "c22fc80e",
   "metadata": {
    "execution": {
     "iopub.execute_input": "2023-08-18T07:25:11.426939Z",
     "iopub.status.busy": "2023-08-18T07:25:11.426383Z",
     "iopub.status.idle": "2023-08-18T07:25:11.431497Z",
     "shell.execute_reply": "2023-08-18T07:25:11.430651Z"
    },
    "origin_pos": 16,
    "tab": [
     "mxnet"
    ]
   },
   "source": [
    "num_classes = 21\n",
    "net.add(nn.Conv2D(num_classes, kernel_size=1),\n",
    "        nn.Conv2DTranspose(\n",
    "            num_classes, kernel_size=64, padding=16, strides=32))"
   ],
   "outputs": []
  },
  {
   "cell_type": "markdown",
   "id": "423a7619",
   "metadata": {
    "origin_pos": 19
   },
   "source": [
    "## [**初始化转置卷积层**]\n",
    "\n",
    "在图像处理中，我们有时需要将图像放大，即*上采样*（upsampling）。\n",
    "*双线性插值*（bilinear interpolation）\n",
    "是常用的上采样方法之一，它也经常用于初始化转置卷积层。\n",
    "\n",
    "为了解释双线性插值，假设给定输入图像，我们想要计算上采样输出图像上的每个像素。\n",
    "\n",
    "1. 将输出图像的坐标$(x,y)$映射到输入图像的坐标$(x',y')$上。\n",
    "例如，根据输入与输出的尺寸之比来映射。\n",
    "请注意，映射后的$x′$和$y′$是实数。\n",
    "2. 在输入图像上找到离坐标$(x',y')$最近的4个像素。\n",
    "3. 输出图像在坐标$(x,y)$上的像素依据输入图像上这4个像素及其与$(x',y')$的相对距离来计算。\n",
    "\n",
    "双线性插值的上采样可以通过转置卷积层实现，内核由以下`bilinear_kernel`函数构造。\n",
    "限于篇幅，我们只给出`bilinear_kernel`函数的实现，不讨论算法的原理。\n"
   ]
  },
  {
   "cell_type": "code",
   "execution_count": 6,
   "id": "2186cddc",
   "metadata": {
    "execution": {
     "iopub.execute_input": "2023-08-18T07:25:11.434976Z",
     "iopub.status.busy": "2023-08-18T07:25:11.434243Z",
     "iopub.status.idle": "2023-08-18T07:25:11.441202Z",
     "shell.execute_reply": "2023-08-18T07:25:11.439712Z"
    },
    "origin_pos": 20,
    "tab": [
     "mxnet"
    ]
   },
   "source": [
    "def bilinear_kernel(in_channels, out_channels, kernel_size):\n",
    "    factor = (kernel_size + 1) // 2\n",
    "    if kernel_size % 2 == 1:\n",
    "        center = factor - 1\n",
    "    else:\n",
    "        center = factor - 0.5\n",
    "    og = (np.arange(kernel_size).reshape(-1, 1),\n",
    "          np.arange(kernel_size).reshape(1, -1))\n",
    "    filt = (1 - np.abs(og[0] - center) / factor) * \\\n",
    "           (1 - np.abs(og[1] - center) / factor)\n",
    "    weight = np.zeros((in_channels, out_channels, kernel_size, kernel_size))\n",
    "    weight[range(in_channels), range(out_channels), :, :] = filt\n",
    "    return np.array(weight)"
   ],
   "outputs": []
  },
  {
   "cell_type": "markdown",
   "id": "782b91ed",
   "metadata": {
    "origin_pos": 23
   },
   "source": [
    "让我们用[**双线性插值的上采样实验**]它由转置卷积层实现。\n",
    "我们构造一个将输入的高和宽放大2倍的转置卷积层，并将其卷积核用`bilinear_kernel`函数初始化。\n"
   ]
  },
  {
   "cell_type": "code",
   "execution_count": 7,
   "id": "0611635e",
   "metadata": {
    "execution": {
     "iopub.execute_input": "2023-08-18T07:25:11.453816Z",
     "iopub.status.busy": "2023-08-18T07:25:11.453065Z",
     "iopub.status.idle": "2023-08-18T07:25:11.470736Z",
     "shell.execute_reply": "2023-08-18T07:25:11.469526Z"
    },
    "origin_pos": 24,
    "tab": [
     "mxnet"
    ]
   },
   "source": [
    "conv_trans = nn.Conv2DTranspose(3, kernel_size=4, padding=1, strides=2)\n",
    "conv_trans.initialize(init.Constant(bilinear_kernel(3, 3, 4)))"
   ],
   "outputs": []
  },
  {
   "cell_type": "markdown",
   "id": "92fae8fc",
   "metadata": {
    "origin_pos": 27
   },
   "source": [
    "读取图像`X`，将上采样的结果记作`Y`。为了打印图像，我们需要调整通道维的位置。\n"
   ]
  },
  {
   "cell_type": "code",
   "execution_count": 8,
   "id": "ec08d214",
   "metadata": {
    "execution": {
     "iopub.execute_input": "2023-08-18T07:25:11.476884Z",
     "iopub.status.busy": "2023-08-18T07:25:11.476038Z",
     "iopub.status.idle": "2023-08-18T07:25:11.491623Z",
     "shell.execute_reply": "2023-08-18T07:25:11.490359Z"
    },
    "origin_pos": 28,
    "tab": [
     "mxnet"
    ]
   },
   "source": [
    "img = image.imread('../img/catdog.jpg')\n",
    "X = np.expand_dims(img.astype('float32').transpose(2, 0, 1), axis=0) / 255\n",
    "Y = conv_trans(X)\n",
    "out_img = Y[0].transpose(1, 2, 0)"
   ],
   "outputs": []
  },
  {
   "cell_type": "markdown",
   "id": "cd87737a",
   "metadata": {
    "origin_pos": 31
   },
   "source": [
    "可以看到，转置卷积层将图像的高和宽分别放大了2倍。\n",
    "除了坐标刻度不同，双线性插值放大的图像和在 :numref:`sec_bbox`中打印出的原图看上去没什么两样。\n"
   ]
  },
  {
   "cell_type": "code",
   "execution_count": 9,
   "id": "a4eca27f",
   "metadata": {
    "execution": {
     "iopub.execute_input": "2023-08-18T07:25:11.499383Z",
     "iopub.status.busy": "2023-08-18T07:25:11.497411Z",
     "iopub.status.idle": "2023-08-18T07:25:12.730827Z",
     "shell.execute_reply": "2023-08-18T07:25:12.729941Z"
    },
    "origin_pos": 32,
    "tab": [
     "mxnet"
    ]
   },
   "source": [
    "d2l.set_figsize()\n",
    "print('input image shape:', img.shape)\n",
    "d2l.plt.imshow(img.asnumpy());\n",
    "print('output image shape:', out_img.shape)\n",
    "d2l.plt.imshow(out_img.asnumpy());"
   ],
   "outputs": []
  },
  {
   "cell_type": "markdown",
   "id": "f7c5dc54",
   "metadata": {
    "origin_pos": 35
   },
   "source": [
    "全卷积网络[**用双线性插值的上采样初始化转置卷积层。对于$1\\times 1$卷积层，我们使用Xavier初始化参数。**]\n"
   ]
  },
  {
   "cell_type": "code",
   "execution_count": 10,
   "id": "3edfefb0",
   "metadata": {
    "execution": {
     "iopub.execute_input": "2023-08-18T07:25:12.734461Z",
     "iopub.status.busy": "2023-08-18T07:25:12.733917Z",
     "iopub.status.idle": "2023-08-18T07:25:12.744175Z",
     "shell.execute_reply": "2023-08-18T07:25:12.743381Z"
    },
    "origin_pos": 36,
    "tab": [
     "mxnet"
    ]
   },
   "source": [
    "W = bilinear_kernel(num_classes, num_classes, 64)\n",
    "net[-1].initialize(init.Constant(W))\n",
    "net[-2].initialize(init=init.Xavier())"
   ],
   "outputs": []
  },
  {
   "cell_type": "markdown",
   "id": "796beeba",
   "metadata": {
    "origin_pos": 39
   },
   "source": [
    "## [**读取数据集**]\n",
    "\n",
    "我们用 :numref:`sec_semantic_segmentation`中介绍的语义分割读取数据集。\n",
    "指定随机裁剪的输出图像的形状为$320\\times 480$：高和宽都可以被$32$整除。\n"
   ]
  },
  {
   "cell_type": "code",
   "execution_count": 11,
   "id": "2055b5a2",
   "metadata": {
    "execution": {
     "iopub.execute_input": "2023-08-18T07:25:12.748129Z",
     "iopub.status.busy": "2023-08-18T07:25:12.747459Z",
     "iopub.status.idle": "2023-08-18T07:25:43.587008Z",
     "shell.execute_reply": "2023-08-18T07:25:43.585562Z"
    },
    "origin_pos": 40,
    "tab": [
     "mxnet"
    ]
   },
   "source": [
    "batch_size, crop_size = 32, (320, 480)\n",
    "train_iter, test_iter = d2l.load_data_voc(batch_size, crop_size)"
   ],
   "outputs": []
  },
  {
   "cell_type": "markdown",
   "id": "c6e5ee33",
   "metadata": {
    "origin_pos": 42
   },
   "source": [
    "## [**训练**]\n",
    "\n",
    "现在我们可以训练全卷积网络了。\n",
    "这里的损失函数和准确率计算与图像分类中的并没有本质上的不同，因为我们使用转置卷积层的通道来预测像素的类别，所以需要在损失计算中指定通道维。\n",
    "此外，模型基于每个像素的预测类别是否正确来计算准确率。\n"
   ]
  },
  {
   "cell_type": "code",
   "execution_count": 12,
   "id": "550558be",
   "metadata": {
    "execution": {
     "iopub.execute_input": "2023-08-18T07:25:43.592498Z",
     "iopub.status.busy": "2023-08-18T07:25:43.591736Z",
     "iopub.status.idle": "2023-08-18T07:27:06.847330Z",
     "shell.execute_reply": "2023-08-18T07:27:06.846434Z"
    },
    "origin_pos": 43,
    "tab": [
     "mxnet"
    ]
   },
   "source": [
    "num_epochs, lr, wd, devices = 5, 0.1, 1e-3, d2l.try_all_gpus()\n",
    "loss = gluon.loss.SoftmaxCrossEntropyLoss(axis=1)\n",
    "net.collect_params().reset_ctx(devices)\n",
    "trainer = gluon.Trainer(net.collect_params(), 'sgd',\n",
    "                        {'learning_rate': lr, 'wd': wd})\n",
    "d2l.train_ch13(net, train_iter, test_iter, loss, trainer, num_epochs, devices)"
   ],
   "outputs": []
  },
  {
   "cell_type": "markdown",
   "id": "dc6943dd",
   "metadata": {
    "origin_pos": 46
   },
   "source": [
    "## [**预测**]\n",
    "\n",
    "在预测时，我们需要将输入图像在各个通道做标准化，并转成卷积神经网络所需要的四维输入格式。\n"
   ]
  },
  {
   "cell_type": "code",
   "execution_count": 13,
   "id": "ddea2e4f",
   "metadata": {
    "execution": {
     "iopub.execute_input": "2023-08-18T07:27:06.851219Z",
     "iopub.status.busy": "2023-08-18T07:27:06.850506Z",
     "iopub.status.idle": "2023-08-18T07:27:06.855750Z",
     "shell.execute_reply": "2023-08-18T07:27:06.854917Z"
    },
    "origin_pos": 47,
    "tab": [
     "mxnet"
    ]
   },
   "source": [
    "def predict(img):\n",
    "    X = test_iter._dataset.normalize_image(img)\n",
    "    X = np.expand_dims(X.transpose(2, 0, 1), axis=0)\n",
    "    pred = net(X.as_in_ctx(devices[0])).argmax(axis=1)\n",
    "    return pred.reshape(pred.shape[1], pred.shape[2])"
   ],
   "outputs": []
  },
  {
   "cell_type": "markdown",
   "id": "c3035330",
   "metadata": {
    "origin_pos": 50
   },
   "source": [
    "为了[**可视化预测的类别**]给每个像素，我们将预测类别映射回它们在数据集中的标注颜色。\n"
   ]
  },
  {
   "cell_type": "code",
   "execution_count": 14,
   "id": "ebcbe1b8",
   "metadata": {
    "execution": {
     "iopub.execute_input": "2023-08-18T07:27:06.859229Z",
     "iopub.status.busy": "2023-08-18T07:27:06.858564Z",
     "iopub.status.idle": "2023-08-18T07:27:06.863078Z",
     "shell.execute_reply": "2023-08-18T07:27:06.862223Z"
    },
    "origin_pos": 51,
    "tab": [
     "mxnet"
    ]
   },
   "source": [
    "def label2image(pred):\n",
    "    colormap = np.array(d2l.VOC_COLORMAP, ctx=devices[0], dtype='uint8')\n",
    "    X = pred.astype('int32')\n",
    "    return colormap[X, :]"
   ],
   "outputs": []
  },
  {
   "cell_type": "markdown",
   "id": "0eba528b",
   "metadata": {
    "origin_pos": 54
   },
   "source": [
    "测试数据集中的图像大小和形状各异。\n",
    "由于模型使用了步幅为32的转置卷积层，因此当输入图像的高或宽无法被32整除时，转置卷积层输出的高或宽会与输入图像的尺寸有偏差。\n",
    "为了解决这个问题，我们可以在图像中截取多块高和宽为32的整数倍的矩形区域，并分别对这些区域中的像素做前向传播。\n",
    "请注意，这些区域的并集需要完整覆盖输入图像。\n",
    "当一个像素被多个区域所覆盖时，它在不同区域前向传播中转置卷积层输出的平均值可以作为`softmax`运算的输入，从而预测类别。\n",
    "\n",
    "为简单起见，我们只读取几张较大的测试图像，并从图像的左上角开始截取形状为$320\\times480$的区域用于预测。\n",
    "对于这些测试图像，我们逐一打印它们截取的区域，再打印预测结果，最后打印标注的类别。\n"
   ]
  },
  {
   "cell_type": "code",
   "execution_count": 15,
   "id": "db0cfc70",
   "metadata": {
    "execution": {
     "iopub.execute_input": "2023-08-18T07:27:06.866463Z",
     "iopub.status.busy": "2023-08-18T07:27:06.865807Z",
     "iopub.status.idle": "2023-08-18T07:27:35.506963Z",
     "shell.execute_reply": "2023-08-18T07:27:35.506062Z"
    },
    "origin_pos": 55,
    "tab": [
     "mxnet"
    ]
   },
   "source": [
    "voc_dir = d2l.download_extract('voc2012', 'VOCdevkit/VOC2012')\n",
    "test_images, test_labels = d2l.read_voc_images(voc_dir, False)\n",
    "n, imgs = 4, []\n",
    "for i in range(n):\n",
    "    crop_rect = (0, 0, 480, 320)\n",
    "    X = image.fixed_crop(test_images[i], *crop_rect)\n",
    "    pred = label2image(predict(X))\n",
    "    imgs += [X, pred, image.fixed_crop(test_labels[i], *crop_rect)]\n",
    "d2l.show_images(imgs[::3] + imgs[1::3] + imgs[2::3], 3, n, scale=2);"
   ],
   "outputs": []
  },
  {
   "cell_type": "markdown",
   "id": "0d4ff2b2",
   "metadata": {
    "origin_pos": 58
   },
   "source": [
    "## 小结\n",
    "\n",
    "* 全卷积网络先使用卷积神经网络抽取图像特征，然后通过$1\\times 1$卷积层将通道数变换为类别个数，最后通过转置卷积层将特征图的高和宽变换为输入图像的尺寸。\n",
    "* 在全卷积网络中，我们可以将转置卷积层初始化为双线性插值的上采样。\n",
    "\n",
    "## 练习\n",
    "\n",
    "1. 如果将转置卷积层改用Xavier随机初始化，结果有什么变化？\n",
    "1. 调节超参数，能进一步提升模型的精度吗？\n",
    "1. 预测测试图像中所有像素的类别。\n",
    "1. 最初的全卷积网络的论文中 :cite:`Long.Shelhamer.Darrell.2015`还使用了某些卷积神经网络中间层的输出。试着实现这个想法。\n"
   ]
  },
  {
   "cell_type": "markdown",
   "id": "12124849",
   "metadata": {
    "origin_pos": 59,
    "tab": [
     "mxnet"
    ]
   },
   "source": [
    "[Discussions](https://discuss.d2l.ai/t/3298)\n"
   ]
  }
 ],
 "metadata": {
  "language_info": {
   "name": "python"
  },
  "required_libs": []
 },
 "nbformat": 4,
 "nbformat_minor": 5
}
