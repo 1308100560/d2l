{
 "cells": [
  {
   "cell_type": "markdown",
   "id": "e97c2fa1",
   "metadata": {
    "origin_pos": 0
   },
   "source": [
    "# 预训练word2vec\n",
    ":label:`sec_word2vec_pretraining`\n",
    "\n",
    "我们继续实现 :numref:`sec_word2vec`中定义的跳元语法模型。然后，我们将在PTB数据集上使用负采样预训练word2vec。首先，让我们通过调用`d2l.load_data_ptb`函数来获得该数据集的数据迭代器和词表，该函数在 :numref:`sec_word2vec_data`中进行了描述。\n"
   ]
  },
  {
   "cell_type": "code",
   "execution_count": 1,
   "id": "efe53196",
   "metadata": {
    "execution": {
     "iopub.execute_input": "2023-08-18T07:35:24.192603Z",
     "iopub.status.busy": "2023-08-18T07:35:24.192090Z",
     "iopub.status.idle": "2023-08-18T07:35:41.564785Z",
     "shell.execute_reply": "2023-08-18T07:35:41.563146Z"
    },
    "origin_pos": 1,
    "tab": [
     "mxnet"
    ]
   },
   "source": [
    "import math\n",
    "from mxnet import autograd, gluon, np, npx\n",
    "from mxnet.gluon import nn\n",
    "from d2l import mxnet as d2l\n",
    "\n",
    "npx.set_np()\n",
    "\n",
    "batch_size, max_window_size, num_noise_words = 512, 5, 5\n",
    "data_iter, vocab = d2l.load_data_ptb(batch_size, max_window_size,\n",
    "                                     num_noise_words)"
   ],
   "outputs": []
  },
  {
   "cell_type": "markdown",
   "id": "97074759",
   "metadata": {
    "origin_pos": 4
   },
   "source": [
    "## 跳元模型\n",
    "\n",
    "我们通过嵌入层和批量矩阵乘法实现了跳元模型。首先，让我们回顾一下嵌入层是如何工作的。\n",
    "\n",
    "### 嵌入层\n",
    "\n",
    "如 :numref:`sec_seq2seq`中所述，嵌入层将词元的索引映射到其特征向量。该层的权重是一个矩阵，其行数等于字典大小（`input_dim`），列数等于每个标记的向量维数（`output_dim`）。在词嵌入模型训练之后，这个权重就是我们所需要的。\n"
   ]
  },
  {
   "cell_type": "code",
   "execution_count": 2,
   "id": "490e0f3a",
   "metadata": {
    "execution": {
     "iopub.execute_input": "2023-08-18T07:35:41.570169Z",
     "iopub.status.busy": "2023-08-18T07:35:41.569358Z",
     "iopub.status.idle": "2023-08-18T07:35:41.589083Z",
     "shell.execute_reply": "2023-08-18T07:35:41.588268Z"
    },
    "origin_pos": 5,
    "tab": [
     "mxnet"
    ]
   },
   "source": [
    "embed = nn.Embedding(input_dim=20, output_dim=4)\n",
    "embed.initialize()\n",
    "embed.weight"
   ],
   "outputs": []
  },
  {
   "cell_type": "markdown",
   "id": "7054127f",
   "metadata": {
    "origin_pos": 8
   },
   "source": [
    "嵌入层的输入是词元（词）的索引。对于任何词元索引$i$，其向量表示可以从嵌入层中的权重矩阵的第$i$行获得。由于向量维度（`output_dim`）被设置为4，因此当小批量词元索引的形状为（2，3）时，嵌入层返回具有形状（2，3，4）的向量。\n"
   ]
  },
  {
   "cell_type": "code",
   "execution_count": 3,
   "id": "44956485",
   "metadata": {
    "execution": {
     "iopub.execute_input": "2023-08-18T07:35:41.592789Z",
     "iopub.status.busy": "2023-08-18T07:35:41.592233Z",
     "iopub.status.idle": "2023-08-18T07:35:41.607246Z",
     "shell.execute_reply": "2023-08-18T07:35:41.606343Z"
    },
    "origin_pos": 9,
    "tab": [
     "mxnet"
    ]
   },
   "source": [
    "x = np.array([[1, 2, 3], [4, 5, 6]])\n",
    "embed(x)"
   ],
   "outputs": []
  },
  {
   "cell_type": "markdown",
   "id": "19d3b222",
   "metadata": {
    "origin_pos": 10
   },
   "source": [
    "### 定义前向传播\n",
    "\n",
    "在前向传播中，跳元语法模型的输入包括形状为（批量大小，1）的中心词索引`center`和形状为（批量大小，`max_len`）的上下文与噪声词索引`contexts_and_negatives`，其中`max_len`在 :numref:`subsec_word2vec-minibatch-loading`中定义。这两个变量首先通过嵌入层从词元索引转换成向量，然后它们的批量矩阵相乘（在 :numref:`subsec_batch_dot`中描述）返回形状为（批量大小，1，`max_len`）的输出。输出中的每个元素是中心词向量和上下文或噪声词向量的点积。\n"
   ]
  },
  {
   "cell_type": "code",
   "execution_count": 4,
   "id": "e33f42cd",
   "metadata": {
    "execution": {
     "iopub.execute_input": "2023-08-18T07:35:41.610626Z",
     "iopub.status.busy": "2023-08-18T07:35:41.610081Z",
     "iopub.status.idle": "2023-08-18T07:35:41.614484Z",
     "shell.execute_reply": "2023-08-18T07:35:41.613667Z"
    },
    "origin_pos": 11,
    "tab": [
     "mxnet"
    ]
   },
   "source": [
    "def skip_gram(center, contexts_and_negatives, embed_v, embed_u):\n",
    "    v = embed_v(center)\n",
    "    u = embed_u(contexts_and_negatives)\n",
    "    pred = npx.batch_dot(v, u.swapaxes(1, 2))\n",
    "    return pred"
   ],
   "outputs": []
  },
  {
   "cell_type": "markdown",
   "id": "acbd127e",
   "metadata": {
    "origin_pos": 14
   },
   "source": [
    "让我们为一些样例输入打印此`skip_gram`函数的输出形状。\n"
   ]
  },
  {
   "cell_type": "code",
   "execution_count": 5,
   "id": "be0b5782",
   "metadata": {
    "execution": {
     "iopub.execute_input": "2023-08-18T07:35:41.618031Z",
     "iopub.status.busy": "2023-08-18T07:35:41.617506Z",
     "iopub.status.idle": "2023-08-18T07:35:41.627465Z",
     "shell.execute_reply": "2023-08-18T07:35:41.626629Z"
    },
    "origin_pos": 15,
    "tab": [
     "mxnet"
    ]
   },
   "source": [
    "skip_gram(np.ones((2, 1)), np.ones((2, 4)), embed, embed).shape"
   ],
   "outputs": []
  },
  {
   "cell_type": "markdown",
   "id": "75e5b1ab",
   "metadata": {
    "origin_pos": 18
   },
   "source": [
    "## 训练\n",
    "\n",
    "在训练带负采样的跳元模型之前，我们先定义它的损失函数。\n",
    "\n",
    "### 二元交叉熵损失\n",
    "\n",
    "根据 :numref:`subsec_negative-sampling`中负采样损失函数的定义，我们将使用二元交叉熵损失。\n"
   ]
  },
  {
   "cell_type": "code",
   "execution_count": 6,
   "id": "08952cdd",
   "metadata": {
    "execution": {
     "iopub.execute_input": "2023-08-18T07:35:41.631878Z",
     "iopub.status.busy": "2023-08-18T07:35:41.631359Z",
     "iopub.status.idle": "2023-08-18T07:35:41.635243Z",
     "shell.execute_reply": "2023-08-18T07:35:41.634425Z"
    },
    "origin_pos": 19,
    "tab": [
     "mxnet"
    ]
   },
   "source": [
    "loss = gluon.loss.SigmoidBCELoss()"
   ],
   "outputs": []
  },
  {
   "cell_type": "markdown",
   "id": "a36cd526",
   "metadata": {
    "origin_pos": 22
   },
   "source": [
    "回想一下我们在 :numref:`subsec_word2vec-minibatch-loading`中对掩码变量和标签变量的描述。下面计算给定变量的二进制交叉熵损失。\n"
   ]
  },
  {
   "cell_type": "code",
   "execution_count": 7,
   "id": "6a326004",
   "metadata": {
    "execution": {
     "iopub.execute_input": "2023-08-18T07:35:41.639588Z",
     "iopub.status.busy": "2023-08-18T07:35:41.639064Z",
     "iopub.status.idle": "2023-08-18T07:35:41.651053Z",
     "shell.execute_reply": "2023-08-18T07:35:41.650234Z"
    },
    "origin_pos": 23,
    "tab": [
     "mxnet"
    ]
   },
   "source": [
    "pred = np.array([[1.1, -2.2, 3.3, -4.4]] * 2)\n",
    "label = np.array([[1.0, 0.0, 0.0, 0.0], [0.0, 1.0, 0.0, 0.0]])\n",
    "mask = np.array([[1, 1, 1, 1], [1, 1, 0, 0]])\n",
    "loss(pred, label, mask) * mask.shape[1] / mask.sum(axis=1)"
   ],
   "outputs": []
  },
  {
   "cell_type": "markdown",
   "id": "b6d07899",
   "metadata": {
    "origin_pos": 25
   },
   "source": [
    "下面显示了如何使用二元交叉熵损失中的Sigmoid激活函数（以较低效率的方式）计算上述结果。我们可以将这两个输出视为两个规范化的损失，在非掩码预测上进行平均。\n"
   ]
  },
  {
   "cell_type": "code",
   "execution_count": 8,
   "id": "10ac477d",
   "metadata": {
    "execution": {
     "iopub.execute_input": "2023-08-18T07:35:41.655276Z",
     "iopub.status.busy": "2023-08-18T07:35:41.654744Z",
     "iopub.status.idle": "2023-08-18T07:35:41.659707Z",
     "shell.execute_reply": "2023-08-18T07:35:41.658920Z"
    },
    "origin_pos": 26,
    "tab": [
     "mxnet"
    ]
   },
   "source": [
    "def sigmd(x):\n",
    "    return -math.log(1 / (1 + math.exp(-x)))\n",
    "\n",
    "print(f'{(sigmd(1.1) + sigmd(2.2) + sigmd(-3.3) + sigmd(4.4)) / 4:.4f}')\n",
    "print(f'{(sigmd(-1.1) + sigmd(-2.2)) / 2:.4f}')"
   ],
   "outputs": []
  },
  {
   "cell_type": "markdown",
   "id": "5f403653",
   "metadata": {
    "origin_pos": 27
   },
   "source": [
    "### 初始化模型参数\n",
    "\n",
    "我们定义了两个嵌入层，将词表中的所有单词分别作为中心词和上下文词使用。字向量维度`embed_size`被设置为100。\n"
   ]
  },
  {
   "cell_type": "code",
   "execution_count": 9,
   "id": "58bf3143",
   "metadata": {
    "execution": {
     "iopub.execute_input": "2023-08-18T07:35:41.664418Z",
     "iopub.status.busy": "2023-08-18T07:35:41.663725Z",
     "iopub.status.idle": "2023-08-18T07:35:41.668372Z",
     "shell.execute_reply": "2023-08-18T07:35:41.667543Z"
    },
    "origin_pos": 28,
    "tab": [
     "mxnet"
    ]
   },
   "source": [
    "embed_size = 100\n",
    "net = nn.Sequential()\n",
    "net.add(nn.Embedding(input_dim=len(vocab), output_dim=embed_size),\n",
    "        nn.Embedding(input_dim=len(vocab), output_dim=embed_size))"
   ],
   "outputs": []
  },
  {
   "cell_type": "markdown",
   "id": "87b0fed5",
   "metadata": {
    "origin_pos": 30
   },
   "source": [
    "### 定义训练阶段代码\n",
    "\n",
    "训练阶段代码实现定义如下。由于填充的存在，损失函数的计算与以前的训练函数略有不同。\n"
   ]
  },
  {
   "cell_type": "code",
   "execution_count": 10,
   "id": "9def9682",
   "metadata": {
    "execution": {
     "iopub.execute_input": "2023-08-18T07:35:41.671740Z",
     "iopub.status.busy": "2023-08-18T07:35:41.671101Z",
     "iopub.status.idle": "2023-08-18T07:35:41.679644Z",
     "shell.execute_reply": "2023-08-18T07:35:41.678796Z"
    },
    "origin_pos": 31,
    "tab": [
     "mxnet"
    ]
   },
   "source": [
    "def train(net, data_iter, lr, num_epochs, device=d2l.try_gpu()):\n",
    "    net.initialize(ctx=device, force_reinit=True)\n",
    "    trainer = gluon.Trainer(net.collect_params(), 'adam',\n",
    "                            {'learning_rate': lr})\n",
    "    animator = d2l.Animator(xlabel='epoch', ylabel='loss',\n",
    "                            xlim=[1, num_epochs])\n",
    "    # 规范化的损失之和，规范化的损失数\n",
    "    metric = d2l.Accumulator(2)\n",
    "    for epoch in range(num_epochs):\n",
    "        timer, num_batches = d2l.Timer(), len(data_iter)\n",
    "        for i, batch in enumerate(data_iter):\n",
    "            center, context_negative, mask, label = [\n",
    "                data.as_in_ctx(device) for data in batch]\n",
    "            with autograd.record():\n",
    "                pred = skip_gram(center, context_negative, net[0], net[1])\n",
    "                l = (loss(pred.reshape(label.shape), label, mask) *\n",
    "                     mask.shape[1] / mask.sum(axis=1))\n",
    "            l.backward()\n",
    "            trainer.step(batch_size)\n",
    "            metric.add(l.sum(), l.size)\n",
    "            if (i + 1) % (num_batches // 5) == 0 or i == num_batches - 1:\n",
    "                animator.add(epoch + (i + 1) / num_batches,\n",
    "                             (metric[0] / metric[1],))\n",
    "    print(f'loss {metric[0] / metric[1]:.3f}, '\n",
    "          f'{metric[1] / timer.stop():.1f} tokens/sec on {str(device)}')"
   ],
   "outputs": []
  },
  {
   "cell_type": "markdown",
   "id": "423f775e",
   "metadata": {
    "origin_pos": 34
   },
   "source": [
    "现在，我们可以使用负采样来训练跳元模型。\n"
   ]
  },
  {
   "cell_type": "code",
   "execution_count": 11,
   "id": "06988da7",
   "metadata": {
    "execution": {
     "iopub.execute_input": "2023-08-18T07:35:41.682869Z",
     "iopub.status.busy": "2023-08-18T07:35:41.682342Z",
     "iopub.status.idle": "2023-08-18T07:37:10.534601Z",
     "shell.execute_reply": "2023-08-18T07:37:10.533116Z"
    },
    "origin_pos": 35,
    "tab": [
     "mxnet"
    ]
   },
   "source": [
    "lr, num_epochs = 0.002, 5\n",
    "train(net, data_iter, lr, num_epochs)"
   ],
   "outputs": []
  },
  {
   "cell_type": "markdown",
   "id": "a3ed404a",
   "metadata": {
    "origin_pos": 36
   },
   "source": [
    "## 应用词嵌入\n",
    ":label:`subsec_apply-word-embed`\n",
    "\n",
    "在训练word2vec模型之后，我们可以使用训练好模型中词向量的余弦相似度来从词表中找到与输入单词语义最相似的单词。\n"
   ]
  },
  {
   "cell_type": "code",
   "execution_count": 12,
   "id": "dc0e6b8c",
   "metadata": {
    "execution": {
     "iopub.execute_input": "2023-08-18T07:37:10.538525Z",
     "iopub.status.busy": "2023-08-18T07:37:10.537916Z",
     "iopub.status.idle": "2023-08-18T07:37:11.381071Z",
     "shell.execute_reply": "2023-08-18T07:37:11.380111Z"
    },
    "origin_pos": 37,
    "tab": [
     "mxnet"
    ]
   },
   "source": [
    "def get_similar_tokens(query_token, k, embed):\n",
    "    W = embed.weight.data()\n",
    "    x = W[vocab[query_token]]\n",
    "    # 计算余弦相似性。增加1e-9以获得数值稳定性\n",
    "    cos = np.dot(W, x) / np.sqrt(np.sum(W * W, axis=1) * np.sum(x * x) + \\\n",
    "          1e-9)\n",
    "    topk = npx.topk(cos, k=k+1, ret_typ='indices').asnumpy().astype('int32')\n",
    "    for i in topk[1:]:  # 删除输入词\n",
    "        print(f'cosine sim={float(cos[i]):.3f}: {vocab.to_tokens(i)}')\n",
    "\n",
    "get_similar_tokens('chip', 3, net[0])"
   ],
   "outputs": []
  },
  {
   "cell_type": "markdown",
   "id": "fffaeb8b",
   "metadata": {
    "origin_pos": 40
   },
   "source": [
    "## 小结\n",
    "\n",
    "* 我们可以使用嵌入层和二元交叉熵损失来训练带负采样的跳元模型。\n",
    "* 词嵌入的应用包括基于词向量的余弦相似度为给定词找到语义相似的词。\n",
    "\n",
    "## 练习\n",
    "\n",
    "1. 使用训练好的模型，找出其他输入词在语义上相似的词。您能通过调优超参数来改进结果吗？\n",
    "1. 当训练语料库很大时，在更新模型参数时，我们经常对当前小批量的*中心词*进行上下文词和噪声词的采样。换言之，同一中心词在不同的训练迭代轮数可以有不同的上下文词或噪声词。这种方法的好处是什么？尝试实现这种训练方法。\n"
   ]
  },
  {
   "cell_type": "markdown",
   "id": "93540707",
   "metadata": {
    "origin_pos": 41,
    "tab": [
     "mxnet"
    ]
   },
   "source": [
    "[Discussions](https://discuss.d2l.ai/t/5739)\n"
   ]
  }
 ],
 "metadata": {
  "language_info": {
   "name": "python"
  },
  "required_libs": []
 },
 "nbformat": 4,
 "nbformat_minor": 5
}
