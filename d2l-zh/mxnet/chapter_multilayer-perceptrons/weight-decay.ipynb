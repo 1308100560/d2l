{
 "cells": [
  {
   "cell_type": "markdown",
   "id": "502ee02b",
   "metadata": {
    "origin_pos": 0
   },
   "source": [
    "# 权重衰减\n",
    ":label:`sec_weight_decay`\n",
    "\n",
    "前一节我们描述了过拟合的问题，本节我们将介绍一些正则化模型的技术。\n",
    "我们总是可以通过去收集更多的训练数据来缓解过拟合。\n",
    "但这可能成本很高，耗时颇多，或者完全超出我们的控制，因而在短期内不可能做到。\n",
    "假设我们已经拥有尽可能多的高质量数据，我们便可以将重点放在正则化技术上。\n",
    "\n",
    "回想一下，在多项式回归的例子（ :numref:`sec_model_selection`）中，\n",
    "我们可以通过调整拟合多项式的阶数来限制模型的容量。\n",
    "实际上，限制特征的数量是缓解过拟合的一种常用技术。\n",
    "然而，简单地丢弃特征对这项工作来说可能过于生硬。\n",
    "我们继续思考多项式回归的例子，考虑高维输入可能发生的情况。\n",
    "多项式对多变量数据的自然扩展称为*单项式*（monomials），\n",
    "也可以说是变量幂的乘积。\n",
    "单项式的阶数是幂的和。\n",
    "例如，$x_1^2 x_2$和$x_3 x_5^2$都是3次单项式。\n",
    "\n",
    "注意，随着阶数$d$的增长，带有阶数$d$的项数迅速增加。 \n",
    "给定$k$个变量，阶数为$d$的项的个数为\n",
    "${k - 1 + d} \\choose {k - 1}$，即$C^{k-1}_{k-1+d} = \\frac{(k-1+d)!}{(d)!(k-1)!}$。\n",
    "因此即使是阶数上的微小变化，比如从$2$到$3$，也会显著增加我们模型的复杂性。\n",
    "仅仅通过简单的限制特征数量（在多项式回归中体现为限制阶数），可能仍然使模型在过简单和过复杂中徘徊，\n",
    "我们需要一个更细粒度的工具来调整函数的复杂性，使其达到一个合适的平衡位置。\n",
    "## 范数与权重衰减\n",
    "\n",
    "在 :numref:`subsec_lin-algebra-norms`中，\n",
    "我们已经描述了$L_2$范数和$L_1$范数，\n",
    "它们是更为一般的$L_p$范数的特殊情况。\n",
    "(~~权重衰减是最广泛使用的正则化的技术之一~~)\n",
    "在训练参数化机器学习模型时，\n",
    "*权重衰减*（weight decay）是最广泛使用的正则化的技术之一，\n",
    "它通常也被称为$L_2$*正则化*。\n",
    "这项技术通过函数与零的距离来衡量函数的复杂度，\n",
    "因为在所有函数$f$中，函数$f = 0$（所有输入都得到值$0$）\n",
    "在某种意义上是最简单的。\n",
    "但是我们应该如何精确地测量一个函数和零之间的距离呢？\n",
    "没有一个正确的答案。\n",
    "事实上，函数分析和巴拿赫空间理论的研究，都在致力于回答这个问题。\n",
    "\n",
    "一种简单的方法是通过线性函数\n",
    "$f(\\mathbf{x}) = \\mathbf{w}^\\top \\mathbf{x}$\n",
    "中的权重向量的某个范数来度量其复杂性，\n",
    "例如$\\| \\mathbf{w} \\|^2$。\n",
    "要保证权重向量比较小，\n",
    "最常用方法是将其范数作为惩罚项加到最小化损失的问题中。\n",
    "将原来的训练目标*最小化训练标签上的预测损失*，\n",
    "调整为*最小化预测损失和惩罚项之和*。\n",
    "现在，如果我们的权重向量增长的太大，\n",
    "我们的学习算法可能会更集中于最小化权重范数$\\| \\mathbf{w} \\|^2$。\n",
    "这正是我们想要的。\n",
    "让我们回顾一下 :numref:`sec_linear_regression`中的线性回归例子。\n",
    "我们的损失由下式给出：\n",
    "\n",
    "$$L(\\mathbf{w}, b) = \\frac{1}{n}\\sum_{i=1}^n \\frac{1}{2}\\left(\\mathbf{w}^\\top \\mathbf{x}^{(i)} + b - y^{(i)}\\right)^2.$$\n",
    "\n",
    "回想一下，$\\mathbf{x}^{(i)}$是样本$i$的特征，\n",
    "$y^{(i)}$是样本$i$的标签，\n",
    "$(\\mathbf{w}, b)$是权重和偏置参数。\n",
    "为了惩罚权重向量的大小，\n",
    "我们必须以某种方式在损失函数中添加$\\| \\mathbf{w} \\|^2$，\n",
    "但是模型应该如何平衡这个新的额外惩罚的损失？\n",
    "实际上，我们通过*正则化常数*$\\lambda$来描述这种权衡，\n",
    "这是一个非负超参数，我们使用验证数据拟合：\n",
    "\n",
    "$$L(\\mathbf{w}, b) + \\frac{\\lambda}{2} \\|\\mathbf{w}\\|^2,$$\n",
    "\n",
    "对于$\\lambda = 0$，我们恢复了原来的损失函数。\n",
    "对于$\\lambda > 0$，我们限制$\\| \\mathbf{w} \\|$的大小。\n",
    "这里我们仍然除以$2$：当我们取一个二次函数的导数时，\n",
    "$2$和$1/2$会抵消，以确保更新表达式看起来既漂亮又简单。\n",
    "为什么在这里我们使用平方范数而不是标准范数（即欧几里得距离）？\n",
    "我们这样做是为了便于计算。\n",
    "通过平方$L_2$范数，我们去掉平方根，留下权重向量每个分量的平方和。\n",
    "这使得惩罚的导数很容易计算：导数的和等于和的导数。\n",
    "\n",
    "此外，为什么我们首先使用$L_2$范数，而不是$L_1$范数。\n",
    "事实上，这个选择在整个统计领域中都是有效的和受欢迎的。\n",
    "$L_2$正则化线性模型构成经典的*岭回归*（ridge regression）算法，\n",
    "$L_1$正则化线性回归是统计学中类似的基本模型，\n",
    "通常被称为*套索回归*（lasso regression）。\n",
    "使用$L_2$范数的一个原因是它对权重向量的大分量施加了巨大的惩罚。\n",
    "这使得我们的学习算法偏向于在大量特征上均匀分布权重的模型。\n",
    "在实践中，这可能使它们对单个变量中的观测误差更为稳定。\n",
    "相比之下，$L_1$惩罚会导致模型将权重集中在一小部分特征上，\n",
    "而将其他权重清除为零。\n",
    "这称为*特征选择*（feature selection），这可能是其他场景下需要的。\n",
    "\n",
    "使用与 :eqref:`eq_linreg_batch_update`中的相同符号，\n",
    "$L_2$正则化回归的小批量随机梯度下降更新如下式：\n",
    "\n",
    "$$\n",
    "\\begin{aligned}\n",
    "\\mathbf{w} & \\leftarrow \\left(1- \\eta\\lambda \\right) \\mathbf{w} - \\frac{\\eta}{|\\mathcal{B}|} \\sum_{i \\in \\mathcal{B}} \\mathbf{x}^{(i)} \\left(\\mathbf{w}^\\top \\mathbf{x}^{(i)} + b - y^{(i)}\\right).\n",
    "\\end{aligned}\n",
    "$$\n",
    "\n",
    "根据之前章节所讲的，我们根据估计值与观测值之间的差异来更新$\\mathbf{w}$。\n",
    "然而，我们同时也在试图将$\\mathbf{w}$的大小缩小到零。\n",
    "这就是为什么这种方法有时被称为*权重衰减*。\n",
    "我们仅考虑惩罚项，优化算法在训练的每一步*衰减*权重。\n",
    "与特征选择相比，权重衰减为我们提供了一种连续的机制来调整函数的复杂度。\n",
    "较小的$\\lambda$值对应较少约束的$\\mathbf{w}$，\n",
    "而较大的$\\lambda$值对$\\mathbf{w}$的约束更大。\n",
    "\n",
    "是否对相应的偏置$b^2$进行惩罚在不同的实践中会有所不同，\n",
    "在神经网络的不同层中也会有所不同。\n",
    "通常，网络输出层的偏置项不会被正则化。\n",
    "\n",
    "## 高维线性回归\n",
    "\n",
    "我们通过一个简单的例子来演示权重衰减。\n"
   ]
  },
  {
   "cell_type": "code",
   "execution_count": 1,
   "id": "e33a5132",
   "metadata": {
    "execution": {
     "iopub.execute_input": "2023-08-18T07:16:37.499943Z",
     "iopub.status.busy": "2023-08-18T07:16:37.499503Z",
     "iopub.status.idle": "2023-08-18T07:16:43.090911Z",
     "shell.execute_reply": "2023-08-18T07:16:43.084366Z"
    },
    "origin_pos": 1,
    "tab": [
     "mxnet"
    ]
   },
   "source": [
    "%matplotlib inline\n",
    "from mxnet import autograd, gluon, init, np, npx\n",
    "from mxnet.gluon import nn\n",
    "from d2l import mxnet as d2l\n",
    "\n",
    "npx.set_np()"
   ],
   "outputs": []
  },
  {
   "cell_type": "markdown",
   "id": "3be84521",
   "metadata": {
    "origin_pos": 5
   },
   "source": [
    "首先，我们[**像以前一样生成一些数据**]，生成公式如下：\n",
    "\n",
    "(**$$y = 0.05 + \\sum_{i = 1}^d 0.01 x_i + \\epsilon \\text{ where }\n",
    "\\epsilon \\sim \\mathcal{N}(0, 0.01^2).$$**)\n",
    "\n",
    "我们选择标签是关于输入的线性函数。\n",
    "标签同时被均值为0，标准差为0.01高斯噪声破坏。\n",
    "为了使过拟合的效果更加明显，我们可以将问题的维数增加到$d = 200$，\n",
    "并使用一个只包含20个样本的小训练集。\n"
   ]
  },
  {
   "cell_type": "code",
   "execution_count": 2,
   "id": "a495efb7",
   "metadata": {
    "execution": {
     "iopub.execute_input": "2023-08-18T07:16:43.099972Z",
     "iopub.status.busy": "2023-08-18T07:16:43.097604Z",
     "iopub.status.idle": "2023-08-18T07:16:43.448010Z",
     "shell.execute_reply": "2023-08-18T07:16:43.446692Z"
    },
    "origin_pos": 6,
    "tab": [
     "mxnet"
    ]
   },
   "source": [
    "n_train, n_test, num_inputs, batch_size = 20, 100, 200, 5\n",
    "true_w, true_b = np.ones((num_inputs, 1)) * 0.01, 0.05\n",
    "train_data = d2l.synthetic_data(true_w, true_b, n_train)\n",
    "train_iter = d2l.load_array(train_data, batch_size)\n",
    "test_data = d2l.synthetic_data(true_w, true_b, n_test)\n",
    "test_iter = d2l.load_array(test_data, batch_size, is_train=False)"
   ],
   "outputs": []
  },
  {
   "cell_type": "markdown",
   "id": "25e8522e",
   "metadata": {
    "origin_pos": 7
   },
   "source": [
    "## 从零开始实现\n",
    "\n",
    "下面我们将从头开始实现权重衰减，只需将$L_2$的平方惩罚添加到原始目标函数中。\n",
    "\n",
    "### [**初始化模型参数**]\n",
    "\n",
    "首先，我们将定义一个函数来随机初始化模型参数。\n"
   ]
  },
  {
   "cell_type": "code",
   "execution_count": 3,
   "id": "01524cd5",
   "metadata": {
    "execution": {
     "iopub.execute_input": "2023-08-18T07:16:43.457064Z",
     "iopub.status.busy": "2023-08-18T07:16:43.454872Z",
     "iopub.status.idle": "2023-08-18T07:16:43.473028Z",
     "shell.execute_reply": "2023-08-18T07:16:43.463587Z"
    },
    "origin_pos": 8,
    "tab": [
     "mxnet"
    ]
   },
   "source": [
    "def init_params():\n",
    "    w = np.random.normal(scale=1, size=(num_inputs, 1))\n",
    "    b = np.zeros(1)\n",
    "    w.attach_grad()\n",
    "    b.attach_grad()\n",
    "    return [w, b]"
   ],
   "outputs": []
  },
  {
   "cell_type": "markdown",
   "id": "6dbd9767",
   "metadata": {
    "origin_pos": 12
   },
   "source": [
    "### (**定义$L_2$范数惩罚**)\n",
    "\n",
    "实现这一惩罚最方便的方法是对所有项求平方后并将它们求和。\n"
   ]
  },
  {
   "cell_type": "code",
   "execution_count": 4,
   "id": "e89ed987",
   "metadata": {
    "execution": {
     "iopub.execute_input": "2023-08-18T07:16:43.481623Z",
     "iopub.status.busy": "2023-08-18T07:16:43.479456Z",
     "iopub.status.idle": "2023-08-18T07:16:43.488044Z",
     "shell.execute_reply": "2023-08-18T07:16:43.486625Z"
    },
    "origin_pos": 13,
    "tab": [
     "mxnet"
    ]
   },
   "source": [
    "def l2_penalty(w):\n",
    "    return (w**2).sum() / 2"
   ],
   "outputs": []
  },
  {
   "cell_type": "markdown",
   "id": "c3f9b789",
   "metadata": {
    "origin_pos": 17
   },
   "source": [
    "### [**定义训练代码实现**]\n",
    "\n",
    "下面的代码将模型拟合训练数据集，并在测试数据集上进行评估。\n",
    "从 :numref:`chap_linear`以来，线性网络和平方损失没有变化，\n",
    "所以我们通过`d2l.linreg`和`d2l.squared_loss`导入它们。\n",
    "唯一的变化是损失现在包括了惩罚项。\n"
   ]
  },
  {
   "cell_type": "code",
   "execution_count": 5,
   "id": "018d06fb",
   "metadata": {
    "execution": {
     "iopub.execute_input": "2023-08-18T07:16:43.497644Z",
     "iopub.status.busy": "2023-08-18T07:16:43.495479Z",
     "iopub.status.idle": "2023-08-18T07:16:43.510866Z",
     "shell.execute_reply": "2023-08-18T07:16:43.509674Z"
    },
    "origin_pos": 18,
    "tab": [
     "mxnet"
    ]
   },
   "source": [
    "def train(lambd):\n",
    "    w, b = init_params()\n",
    "    net, loss = lambda X: d2l.linreg(X, w, b), d2l.squared_loss\n",
    "    num_epochs, lr = 100, 0.003\n",
    "    animator = d2l.Animator(xlabel='epochs', ylabel='loss', yscale='log',\n",
    "                            xlim=[5, num_epochs], legend=['train', 'test'])\n",
    "    for epoch in range(num_epochs):\n",
    "        for X, y in train_iter:\n",
    "            with autograd.record():\n",
    "                # 增加了L2范数惩罚项，\n",
    "                # 广播机制使l2_penalty(w)成为一个长度为batch_size的向量\n",
    "                l = loss(net(X), y) + lambd * l2_penalty(w)\n",
    "            l.backward()\n",
    "            d2l.sgd([w, b], lr, batch_size)\n",
    "        if (epoch + 1) % 5 == 0:\n",
    "            animator.add(epoch + 1, (d2l.evaluate_loss(net, train_iter, loss),\n",
    "                                     d2l.evaluate_loss(net, test_iter, loss)))\n",
    "    print('w的L2范数是：', np.linalg.norm(w))"
   ],
   "outputs": []
  },
  {
   "cell_type": "markdown",
   "id": "45dc159d",
   "metadata": {
    "origin_pos": 22
   },
   "source": [
    "### [**忽略正则化直接训练**]\n",
    "\n",
    "我们现在用`lambd = 0`禁用权重衰减后运行这个代码。\n",
    "注意，这里训练误差有了减少，但测试误差没有减少，\n",
    "这意味着出现了严重的过拟合。\n"
   ]
  },
  {
   "cell_type": "code",
   "execution_count": 6,
   "id": "f403b78c",
   "metadata": {
    "execution": {
     "iopub.execute_input": "2023-08-18T07:16:43.519230Z",
     "iopub.status.busy": "2023-08-18T07:16:43.517109Z",
     "iopub.status.idle": "2023-08-18T07:17:01.367634Z",
     "shell.execute_reply": "2023-08-18T07:17:01.366344Z"
    },
    "origin_pos": 23,
    "tab": [
     "mxnet"
    ]
   },
   "source": [
    "train(lambd=0)"
   ],
   "outputs": []
  },
  {
   "cell_type": "markdown",
   "id": "59b4bec6",
   "metadata": {
    "origin_pos": 24
   },
   "source": [
    "### [**使用权重衰减**]\n",
    "\n",
    "下面，我们使用权重衰减来运行代码。\n",
    "注意，在这里训练误差增大，但测试误差减小。\n",
    "这正是我们期望从正则化中得到的效果。\n"
   ]
  },
  {
   "cell_type": "code",
   "execution_count": 7,
   "id": "4b07f2fc",
   "metadata": {
    "execution": {
     "iopub.execute_input": "2023-08-18T07:17:01.376532Z",
     "iopub.status.busy": "2023-08-18T07:17:01.372810Z",
     "iopub.status.idle": "2023-08-18T07:17:12.246768Z",
     "shell.execute_reply": "2023-08-18T07:17:12.245794Z"
    },
    "origin_pos": 25,
    "tab": [
     "mxnet"
    ]
   },
   "source": [
    "train(lambd=3)"
   ],
   "outputs": []
  },
  {
   "cell_type": "markdown",
   "id": "db1e40e7",
   "metadata": {
    "origin_pos": 26
   },
   "source": [
    "## [**简洁实现**]\n",
    "\n",
    "由于权重衰减在神经网络优化中很常用，\n",
    "深度学习框架为了便于我们使用权重衰减，\n",
    "将权重衰减集成到优化算法中，以便与任何损失函数结合使用。\n",
    "此外，这种集成还有计算上的好处，\n",
    "允许在不增加任何额外的计算开销的情况下向算法中添加权重衰减。\n",
    "由于更新的权重衰减部分仅依赖于每个参数的当前值，\n",
    "因此优化器必须至少接触每个参数一次。\n"
   ]
  },
  {
   "cell_type": "markdown",
   "id": "2de666a1",
   "metadata": {
    "origin_pos": 27,
    "tab": [
     "mxnet"
    ]
   },
   "source": [
    "在下面的代码中，我们在实例化`Trainer`时直接通过`wd`指定weight decay超参数。\n",
    "默认情况下，Gluon同时衰减权重和偏置。\n",
    "注意，更新模型参数时，超参数`wd`将乘以`wd_mult`。\n",
    "因此，如果我们将`wd_mult`设置为零，则偏置参数$b$将不会被衰减。\n"
   ]
  },
  {
   "cell_type": "code",
   "execution_count": 8,
   "id": "9552130b",
   "metadata": {
    "execution": {
     "iopub.execute_input": "2023-08-18T07:17:12.250928Z",
     "iopub.status.busy": "2023-08-18T07:17:12.250276Z",
     "iopub.status.idle": "2023-08-18T07:17:12.260178Z",
     "shell.execute_reply": "2023-08-18T07:17:12.259274Z"
    },
    "origin_pos": 30,
    "tab": [
     "mxnet"
    ]
   },
   "source": [
    "def train_concise(wd):\n",
    "    net = nn.Sequential()\n",
    "    net.add(nn.Dense(1))\n",
    "    net.initialize(init.Normal(sigma=1))\n",
    "    loss = gluon.loss.L2Loss()\n",
    "    num_epochs, lr = 100, 0.003\n",
    "    trainer = gluon.Trainer(net.collect_params(), 'sgd',\n",
    "                            {'learning_rate': lr, 'wd': wd})\n",
    "    # 偏置参数没有衰减。偏置名称通常以“bias”结尾\n",
    "    net.collect_params('.*bias').setattr('wd_mult', 0)\n",
    "    animator = d2l.Animator(xlabel='epochs', ylabel='loss', yscale='log',\n",
    "                            xlim=[5, num_epochs], legend=['train', 'test'])\n",
    "    for epoch in range(num_epochs):\n",
    "        for X, y in train_iter:\n",
    "            with autograd.record():\n",
    "                l = loss(net(X), y)\n",
    "            l.backward()\n",
    "            trainer.step(batch_size)\n",
    "        if (epoch + 1) % 5 == 0:\n",
    "            animator.add(epoch + 1, (d2l.evaluate_loss(net, train_iter, loss),\n",
    "                                     d2l.evaluate_loss(net, test_iter, loss)))\n",
    "    print('w的L2范数：', np.linalg.norm(net[0].weight.data()))"
   ],
   "outputs": []
  },
  {
   "cell_type": "markdown",
   "id": "38b97ef0",
   "metadata": {
    "origin_pos": 34
   },
   "source": [
    "[**这些图看起来和我们从零开始实现权重衰减时的图相同**]。\n",
    "然而，它们运行得更快，更容易实现。\n",
    "对于更复杂的问题，这一好处将变得更加明显。\n"
   ]
  },
  {
   "cell_type": "code",
   "execution_count": 9,
   "id": "2c5b50e3",
   "metadata": {
    "execution": {
     "iopub.execute_input": "2023-08-18T07:17:12.264462Z",
     "iopub.status.busy": "2023-08-18T07:17:12.263514Z",
     "iopub.status.idle": "2023-08-18T07:17:22.143519Z",
     "shell.execute_reply": "2023-08-18T07:17:22.142595Z"
    },
    "origin_pos": 35,
    "tab": [
     "mxnet"
    ]
   },
   "source": [
    "train_concise(0)"
   ],
   "outputs": []
  },
  {
   "cell_type": "code",
   "execution_count": 10,
   "id": "93850910",
   "metadata": {
    "execution": {
     "iopub.execute_input": "2023-08-18T07:17:22.148746Z",
     "iopub.status.busy": "2023-08-18T07:17:22.148095Z",
     "iopub.status.idle": "2023-08-18T07:17:32.225544Z",
     "shell.execute_reply": "2023-08-18T07:17:32.224266Z"
    },
    "origin_pos": 36,
    "tab": [
     "mxnet"
    ]
   },
   "source": [
    "train_concise(3)"
   ],
   "outputs": []
  },
  {
   "cell_type": "markdown",
   "id": "ce164d21",
   "metadata": {
    "origin_pos": 37
   },
   "source": [
    "到目前为止，我们只接触到一个简单线性函数的概念。\n",
    "此外，由什么构成一个简单的非线性函数可能是一个更复杂的问题。\n",
    "例如，[再生核希尔伯特空间（RKHS）](https://en.wikipedia.org/wiki/Reproducing_kernel_Hilbert_space)\n",
    "允许在非线性环境中应用为线性函数引入的工具。\n",
    "不幸的是，基于RKHS的算法往往难以应用到大型、高维的数据。\n",
    "在这本书中，我们将默认使用简单的启发式方法，即在深层网络的所有层上应用权重衰减。\n",
    "\n",
    "## 小结\n",
    "\n",
    "* 正则化是处理过拟合的常用方法：在训练集的损失函数中加入惩罚项，以降低学习到的模型的复杂度。\n",
    "* 保持模型简单的一个特别的选择是使用$L_2$惩罚的权重衰减。这会导致学习算法更新步骤中的权重衰减。\n",
    "* 权重衰减功能在深度学习框架的优化器中提供。\n",
    "* 在同一训练代码实现中，不同的参数集可以有不同的更新行为。\n",
    "\n",
    "## 练习\n",
    "\n",
    "1. 在本节的估计问题中使用$\\lambda$的值进行实验。绘制训练和测试精度关于$\\lambda$的函数。观察到了什么？\n",
    "1. 使用验证集来找到最佳值$\\lambda$。它真的是最优值吗？这有关系吗？\n",
    "1. 如果我们使用$\\sum_i |w_i|$作为我们选择的惩罚（$L_1$正则化），那么更新方程会是什么样子？\n",
    "1. 我们知道$\\|\\mathbf{w}\\|^2 = \\mathbf{w}^\\top \\mathbf{w}$。能找到类似的矩阵方程吗（见 :numref:`subsec_lin-algebra-norms` 中的Frobenius范数）？\n",
    "1. 回顾训练误差和泛化误差之间的关系。除了权重衰减、增加训练数据、使用适当复杂度的模型之外，还能想出其他什么方法来处理过拟合？\n",
    "1. 在贝叶斯统计中，我们使用先验和似然的乘积，通过公式$P(w \\mid x) \\propto P(x \\mid w) P(w)$得到后验。如何得到带正则化的$P(w)$？\n"
   ]
  },
  {
   "cell_type": "markdown",
   "id": "7ffc42aa",
   "metadata": {
    "origin_pos": 38,
    "tab": [
     "mxnet"
    ]
   },
   "source": [
    "[Discussions](https://discuss.d2l.ai/t/1810)\n"
   ]
  }
 ],
 "metadata": {
  "language_info": {
   "name": "python"
  },
  "required_libs": []
 },
 "nbformat": 4,
 "nbformat_minor": 5
}
