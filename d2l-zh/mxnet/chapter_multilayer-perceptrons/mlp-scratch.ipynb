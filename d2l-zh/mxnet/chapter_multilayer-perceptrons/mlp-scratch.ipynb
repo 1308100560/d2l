{
 "cells": [
  {
   "cell_type": "markdown",
   "id": "f9f929f2",
   "metadata": {
    "origin_pos": 0
   },
   "source": [
    "# 多层感知机的从零开始实现\n",
    ":label:`sec_mlp_scratch`\n",
    "\n",
    "我们已经在 :numref:`sec_mlp`中描述了多层感知机（MLP），\n",
    "现在让我们尝试自己实现一个多层感知机。\n",
    "为了与之前softmax回归（ :numref:`sec_softmax_scratch` ）\n",
    "获得的结果进行比较，\n",
    "我们将继续使用Fashion-MNIST图像分类数据集\n",
    "（ :numref:`sec_fashion_mnist`）。\n"
   ]
  },
  {
   "cell_type": "code",
   "execution_count": 1,
   "id": "5c4d5655",
   "metadata": {
    "execution": {
     "iopub.execute_input": "2023-08-18T07:19:37.494501Z",
     "iopub.status.busy": "2023-08-18T07:19:37.493651Z",
     "iopub.status.idle": "2023-08-18T07:19:40.913219Z",
     "shell.execute_reply": "2023-08-18T07:19:40.912279Z"
    },
    "origin_pos": 1,
    "tab": [
     "mxnet"
    ]
   },
   "source": [
    "from mxnet import gluon, np, npx\n",
    "from d2l import mxnet as d2l\n",
    "\n",
    "npx.set_np()"
   ],
   "outputs": []
  },
  {
   "cell_type": "code",
   "execution_count": 2,
   "id": "c90f28b8",
   "metadata": {
    "execution": {
     "iopub.execute_input": "2023-08-18T07:19:40.917826Z",
     "iopub.status.busy": "2023-08-18T07:19:40.917045Z",
     "iopub.status.idle": "2023-08-18T07:19:41.822493Z",
     "shell.execute_reply": "2023-08-18T07:19:41.820709Z"
    },
    "origin_pos": 5,
    "tab": [
     "mxnet"
    ]
   },
   "source": [
    "batch_size = 256\n",
    "train_iter, test_iter = d2l.load_data_fashion_mnist(batch_size)"
   ],
   "outputs": []
  },
  {
   "cell_type": "markdown",
   "id": "92822ae1",
   "metadata": {
    "origin_pos": 6
   },
   "source": [
    "## 初始化模型参数\n",
    "\n",
    "回想一下，Fashion-MNIST中的每个图像由\n",
    "$28 \\times 28 = 784$个灰度像素值组成。\n",
    "所有图像共分为10个类别。\n",
    "忽略像素之间的空间结构，\n",
    "我们可以将每个图像视为具有784个输入特征\n",
    "和10个类的简单分类数据集。\n",
    "首先，我们将[**实现一个具有单隐藏层的多层感知机，\n",
    "它包含256个隐藏单元**]。\n",
    "注意，我们可以将这两个变量都视为超参数。\n",
    "通常，我们选择2的若干次幂作为层的宽度。\n",
    "因为内存在硬件中的分配和寻址方式，这么做往往可以在计算上更高效。\n",
    "\n",
    "我们用几个张量来表示我们的参数。\n",
    "注意，对于每一层我们都要记录一个权重矩阵和一个偏置向量。\n",
    "跟以前一样，我们要为损失关于这些参数的梯度分配内存。\n"
   ]
  },
  {
   "cell_type": "code",
   "execution_count": 3,
   "id": "bc55b5be",
   "metadata": {
    "execution": {
     "iopub.execute_input": "2023-08-18T07:19:41.828470Z",
     "iopub.status.busy": "2023-08-18T07:19:41.827840Z",
     "iopub.status.idle": "2023-08-18T07:19:41.848077Z",
     "shell.execute_reply": "2023-08-18T07:19:41.845580Z"
    },
    "origin_pos": 7,
    "tab": [
     "mxnet"
    ]
   },
   "source": [
    "num_inputs, num_outputs, num_hiddens = 784, 10, 256\n",
    "\n",
    "W1 = np.random.normal(scale=0.01, size=(num_inputs, num_hiddens))\n",
    "b1 = np.zeros(num_hiddens)\n",
    "W2 = np.random.normal(scale=0.01, size=(num_hiddens, num_outputs))\n",
    "b2 = np.zeros(num_outputs)\n",
    "params = [W1, b1, W2, b2]\n",
    "\n",
    "for param in params:\n",
    "    param.attach_grad()"
   ],
   "outputs": []
  },
  {
   "cell_type": "markdown",
   "id": "2b66d1a1",
   "metadata": {
    "origin_pos": 11
   },
   "source": [
    "## 激活函数\n",
    "\n",
    "为了确保我们对模型的细节了如指掌，\n",
    "我们将[**实现ReLU激活函数**]，\n",
    "而不是直接调用内置的`relu`函数。\n"
   ]
  },
  {
   "cell_type": "code",
   "execution_count": 4,
   "id": "402085ee",
   "metadata": {
    "execution": {
     "iopub.execute_input": "2023-08-18T07:19:41.853463Z",
     "iopub.status.busy": "2023-08-18T07:19:41.852051Z",
     "iopub.status.idle": "2023-08-18T07:19:41.858255Z",
     "shell.execute_reply": "2023-08-18T07:19:41.857272Z"
    },
    "origin_pos": 12,
    "tab": [
     "mxnet"
    ]
   },
   "source": [
    "def relu(X):\n",
    "    return np.maximum(X, 0)"
   ],
   "outputs": []
  },
  {
   "cell_type": "markdown",
   "id": "033db516",
   "metadata": {
    "origin_pos": 16
   },
   "source": [
    "## 模型\n",
    "\n",
    "因为我们忽略了空间结构，\n",
    "所以我们使用`reshape`将每个二维图像转换为一个长度为`num_inputs`的向量。\n",
    "只需几行代码就可以(**实现我们的模型**)。\n"
   ]
  },
  {
   "cell_type": "code",
   "execution_count": 5,
   "id": "3cb6d8a1",
   "metadata": {
    "execution": {
     "iopub.execute_input": "2023-08-18T07:19:41.862983Z",
     "iopub.status.busy": "2023-08-18T07:19:41.862088Z",
     "iopub.status.idle": "2023-08-18T07:19:41.868169Z",
     "shell.execute_reply": "2023-08-18T07:19:41.866908Z"
    },
    "origin_pos": 17,
    "tab": [
     "mxnet"
    ]
   },
   "source": [
    "def net(X):\n",
    "    X = X.reshape((-1, num_inputs))\n",
    "    H = relu(np.dot(X, W1) + b1)\n",
    "    return np.dot(H, W2) + b2"
   ],
   "outputs": []
  },
  {
   "cell_type": "markdown",
   "id": "375313cc",
   "metadata": {
    "origin_pos": 21
   },
   "source": [
    "## 损失函数\n",
    "\n",
    "由于我们已经从零实现过softmax函数（ :numref:`sec_softmax_scratch`），\n",
    "因此在这里我们直接使用高级API中的内置函数来计算softmax和交叉熵损失。\n",
    "回想一下我们之前在 :numref:`subsec_softmax-implementation-revisited`中\n",
    "对这些复杂问题的讨论。\n",
    "我们鼓励感兴趣的读者查看损失函数的源代码，以加深对实现细节的了解。\n"
   ]
  },
  {
   "cell_type": "code",
   "execution_count": 6,
   "id": "6256546c",
   "metadata": {
    "execution": {
     "iopub.execute_input": "2023-08-18T07:19:41.873091Z",
     "iopub.status.busy": "2023-08-18T07:19:41.872262Z",
     "iopub.status.idle": "2023-08-18T07:19:41.878204Z",
     "shell.execute_reply": "2023-08-18T07:19:41.877145Z"
    },
    "origin_pos": 22,
    "tab": [
     "mxnet"
    ]
   },
   "source": [
    "loss = gluon.loss.SoftmaxCrossEntropyLoss()"
   ],
   "outputs": []
  },
  {
   "cell_type": "markdown",
   "id": "9d87b295",
   "metadata": {
    "origin_pos": 25
   },
   "source": [
    "## 训练\n",
    "\n",
    "幸运的是，[**多层感知机的训练过程与softmax回归的训练过程完全相同**]。\n",
    "可以直接调用`d2l`包的`train_ch3`函数（参见 :numref:`sec_softmax_scratch` ），\n",
    "将迭代周期数设置为10，并将学习率设置为0.1.\n"
   ]
  },
  {
   "cell_type": "code",
   "execution_count": 7,
   "id": "8140be8b",
   "metadata": {
    "execution": {
     "iopub.execute_input": "2023-08-18T07:19:41.883003Z",
     "iopub.status.busy": "2023-08-18T07:19:41.882092Z",
     "iopub.status.idle": "2023-08-18T07:21:58.618835Z",
     "shell.execute_reply": "2023-08-18T07:21:58.617212Z"
    },
    "origin_pos": 26,
    "tab": [
     "mxnet"
    ]
   },
   "source": [
    "num_epochs, lr = 10, 0.1\n",
    "d2l.train_ch3(net, train_iter, test_iter, loss, num_epochs,\n",
    "              lambda batch_size: d2l.sgd(params, lr, batch_size))"
   ],
   "outputs": []
  },
  {
   "cell_type": "markdown",
   "id": "52d02771",
   "metadata": {
    "origin_pos": 30
   },
   "source": [
    "为了对学习到的模型进行评估，我们将[**在一些测试数据上应用这个模型**]。\n"
   ]
  },
  {
   "cell_type": "code",
   "execution_count": 8,
   "id": "410703ae",
   "metadata": {
    "execution": {
     "iopub.execute_input": "2023-08-18T07:21:58.624268Z",
     "iopub.status.busy": "2023-08-18T07:21:58.623269Z",
     "iopub.status.idle": "2023-08-18T07:21:58.968979Z",
     "shell.execute_reply": "2023-08-18T07:21:58.967665Z"
    },
    "origin_pos": 31,
    "tab": [
     "mxnet"
    ]
   },
   "source": [
    "d2l.predict_ch3(net, test_iter)"
   ],
   "outputs": []
  },
  {
   "cell_type": "markdown",
   "id": "510e79c6",
   "metadata": {
    "origin_pos": 32
   },
   "source": [
    "## 小结\n",
    "\n",
    "* 手动实现一个简单的多层感知机是很容易的。然而如果有大量的层，从零开始实现多层感知机会变得很麻烦（例如，要命名和记录模型的参数）。\n",
    "\n",
    "## 练习\n",
    "\n",
    "1. 在所有其他参数保持不变的情况下，更改超参数`num_hiddens`的值，并查看此超参数的变化对结果有何影响。确定此超参数的最佳值。\n",
    "1. 尝试添加更多的隐藏层，并查看它对结果有何影响。\n",
    "1. 改变学习速率会如何影响结果？保持模型架构和其他超参数（包括轮数）不变，学习率设置为多少会带来最好的结果？\n",
    "1. 通过对所有超参数（学习率、轮数、隐藏层数、每层的隐藏单元数）进行联合优化，可以得到的最佳结果是什么？\n",
    "1. 描述为什么涉及多个超参数更具挑战性。\n",
    "1. 如果想要构建多个超参数的搜索方法，请想出一个聪明的策略。\n"
   ]
  },
  {
   "cell_type": "markdown",
   "id": "fee3f936",
   "metadata": {
    "origin_pos": 33,
    "tab": [
     "mxnet"
    ]
   },
   "source": [
    "[Discussions](https://discuss.d2l.ai/t/1800)\n"
   ]
  }
 ],
 "metadata": {
  "language_info": {
   "name": "python"
  },
  "required_libs": []
 },
 "nbformat": 4,
 "nbformat_minor": 5
}
