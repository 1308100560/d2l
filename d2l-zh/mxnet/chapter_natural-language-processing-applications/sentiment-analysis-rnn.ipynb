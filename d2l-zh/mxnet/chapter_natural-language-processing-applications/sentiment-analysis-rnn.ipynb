{
 "cells": [
  {
   "cell_type": "markdown",
   "id": "a1d81e7e",
   "metadata": {
    "origin_pos": 0
   },
   "source": [
    "# 情感分析：使用循环神经网络\n",
    ":label:`sec_sentiment_rnn`\n",
    "\n",
    "与词相似度和类比任务一样，我们也可以将预先训练的词向量应用于情感分析。由于 :numref:`sec_sentiment`中的IMDb评论数据集不是很大，使用在大规模语料库上预训练的文本表示可以减少模型的过拟合。作为 :numref:`fig_nlp-map-sa-rnn`中所示的具体示例，我们将使用预训练的GloVe模型来表示每个词元，并将这些词元表示送入多层双向循环神经网络以获得文本序列表示，该文本序列表示将被转换为情感分析输出 :cite:`Maas.Daly.Pham.ea.2011`。对于相同的下游应用，我们稍后将考虑不同的架构选择。\n",
    "\n",
    "![将GloVe送入基于循环神经网络的架构，用于情感分析](../img/nlp-map-sa-rnn.svg)\n",
    ":label:`fig_nlp-map-sa-rnn`\n"
   ]
  },
  {
   "cell_type": "code",
   "execution_count": 1,
   "id": "7d7837ef",
   "metadata": {
    "execution": {
     "iopub.execute_input": "2023-08-18T07:00:13.908152Z",
     "iopub.status.busy": "2023-08-18T07:00:13.907531Z",
     "iopub.status.idle": "2023-08-18T07:00:53.991935Z",
     "shell.execute_reply": "2023-08-18T07:00:53.990807Z"
    },
    "origin_pos": 1,
    "tab": [
     "mxnet"
    ]
   },
   "source": [
    "from mxnet import gluon, init, np, npx\n",
    "from mxnet.gluon import nn, rnn\n",
    "from d2l import mxnet as d2l\n",
    "\n",
    "npx.set_np()\n",
    "\n",
    "batch_size = 64\n",
    "train_iter, test_iter, vocab = d2l.load_data_imdb(batch_size)"
   ],
   "outputs": []
  },
  {
   "cell_type": "markdown",
   "id": "968603de",
   "metadata": {
    "origin_pos": 4
   },
   "source": [
    "## 使用循环神经网络表示单个文本\n",
    "\n",
    "在文本分类任务（如情感分析）中，可变长度的文本序列将被转换为固定长度的类别。在下面的`BiRNN`类中，虽然文本序列的每个词元经由嵌入层（`self.embedding`）获得其单独的预训练GloVe表示，但是整个序列由双向循环神经网络（`self.encoder`）编码。更具体地说，双向长短期记忆网络在初始和最终时间步的隐状态（在最后一层）被连结起来作为文本序列的表示。然后，通过一个具有两个输出（“积极”和“消极”）的全连接层（`self.decoder`），将此单一文本表示转换为输出类别。\n"
   ]
  },
  {
   "cell_type": "code",
   "execution_count": 2,
   "id": "522082be",
   "metadata": {
    "execution": {
     "iopub.execute_input": "2023-08-18T07:00:53.996558Z",
     "iopub.status.busy": "2023-08-18T07:00:53.995809Z",
     "iopub.status.idle": "2023-08-18T07:00:54.002942Z",
     "shell.execute_reply": "2023-08-18T07:00:54.001956Z"
    },
    "origin_pos": 5,
    "tab": [
     "mxnet"
    ]
   },
   "source": [
    "class BiRNN(nn.Block):\n",
    "    def __init__(self, vocab_size, embed_size, num_hiddens,\n",
    "                 num_layers, **kwargs):\n",
    "        super(BiRNN, self).__init__(**kwargs)\n",
    "        self.embedding = nn.Embedding(vocab_size, embed_size)\n",
    "        # 将bidirectional设置为True以获取双向循环神经网络\n",
    "        self.encoder = rnn.LSTM(num_hiddens, num_layers=num_layers,\n",
    "                                bidirectional=True, input_size=embed_size)\n",
    "        self.decoder = nn.Dense(2)\n",
    "\n",
    "    def forward(self, inputs):\n",
    "        # inputs的形状是（批量大小，时间步数）\n",
    "        # 因为长短期记忆网络要求其输入的第一个维度是时间维，\n",
    "        # 所以在获得词元表示之前，输入会被转置。\n",
    "        # 输出形状为（时间步数，批量大小，词向量维度）\n",
    "        embeddings = self.embedding(inputs.T)\n",
    "        # 返回上一个隐藏层在不同时间步的隐状态，\n",
    "        # outputs的形状是（时间步数，批量大小，2*隐藏单元数）\n",
    "        outputs = self.encoder(embeddings)\n",
    "        # 连结初始和最终时间步的隐状态，作为全连接层的输入，\n",
    "        # 其形状为（批量大小，4*隐藏单元数）\n",
    "        encoding = np.concatenate((outputs[0], outputs[-1]), axis=1)\n",
    "        outs = self.decoder(encoding)\n",
    "        return outs"
   ],
   "outputs": []
  },
  {
   "cell_type": "markdown",
   "id": "d03da0ec",
   "metadata": {
    "origin_pos": 8
   },
   "source": [
    "让我们构造一个具有两个隐藏层的双向循环神经网络来表示单个文本以进行情感分析。\n"
   ]
  },
  {
   "cell_type": "code",
   "execution_count": 3,
   "id": "f4b897d9",
   "metadata": {
    "execution": {
     "iopub.execute_input": "2023-08-18T07:00:54.006657Z",
     "iopub.status.busy": "2023-08-18T07:00:54.006358Z",
     "iopub.status.idle": "2023-08-18T07:00:54.011221Z",
     "shell.execute_reply": "2023-08-18T07:00:54.010340Z"
    },
    "origin_pos": 9,
    "tab": [
     "mxnet"
    ]
   },
   "source": [
    "embed_size, num_hiddens, num_layers = 100, 100, 2\n",
    "devices = d2l.try_all_gpus()\n",
    "net = BiRNN(len(vocab), embed_size, num_hiddens, num_layers)"
   ],
   "outputs": []
  },
  {
   "cell_type": "code",
   "execution_count": 4,
   "id": "0f5cca7c",
   "metadata": {
    "execution": {
     "iopub.execute_input": "2023-08-18T07:00:54.014728Z",
     "iopub.status.busy": "2023-08-18T07:00:54.014120Z",
     "iopub.status.idle": "2023-08-18T07:00:55.098360Z",
     "shell.execute_reply": "2023-08-18T07:00:55.097296Z"
    },
    "origin_pos": 10,
    "tab": [
     "mxnet"
    ]
   },
   "source": [
    "net.initialize(init.Xavier(), ctx=devices)"
   ],
   "outputs": []
  },
  {
   "cell_type": "markdown",
   "id": "5210c983",
   "metadata": {
    "origin_pos": 13
   },
   "source": [
    "## 加载预训练的词向量\n",
    "\n",
    "下面，我们为词表中的单词加载预训练的100维（需要与`embed_size`一致）的GloVe嵌入。\n"
   ]
  },
  {
   "cell_type": "code",
   "execution_count": 5,
   "id": "4145bcb3",
   "metadata": {
    "execution": {
     "iopub.execute_input": "2023-08-18T07:00:55.102556Z",
     "iopub.status.busy": "2023-08-18T07:00:55.101806Z",
     "iopub.status.idle": "2023-08-18T07:01:16.469165Z",
     "shell.execute_reply": "2023-08-18T07:01:16.468075Z"
    },
    "origin_pos": 14,
    "tab": [
     "mxnet"
    ]
   },
   "source": [
    "glove_embedding = d2l.TokenEmbedding('glove.6b.100d')"
   ],
   "outputs": []
  },
  {
   "cell_type": "markdown",
   "id": "6b781078",
   "metadata": {
    "origin_pos": 15
   },
   "source": [
    "打印词表中所有词元向量的形状。\n"
   ]
  },
  {
   "cell_type": "code",
   "execution_count": 6,
   "id": "dfaff08a",
   "metadata": {
    "execution": {
     "iopub.execute_input": "2023-08-18T07:01:16.473818Z",
     "iopub.status.busy": "2023-08-18T07:01:16.473185Z",
     "iopub.status.idle": "2023-08-18T07:01:16.510161Z",
     "shell.execute_reply": "2023-08-18T07:01:16.509109Z"
    },
    "origin_pos": 16,
    "tab": [
     "mxnet"
    ]
   },
   "source": [
    "embeds = glove_embedding[vocab.idx_to_token]\n",
    "embeds.shape"
   ],
   "outputs": []
  },
  {
   "cell_type": "markdown",
   "id": "472c7a01",
   "metadata": {
    "origin_pos": 17
   },
   "source": [
    "我们使用这些预训练的词向量来表示评论中的词元，并且在训练期间不要更新这些向量。\n"
   ]
  },
  {
   "cell_type": "code",
   "execution_count": 7,
   "id": "c3c11098",
   "metadata": {
    "execution": {
     "iopub.execute_input": "2023-08-18T07:01:16.514003Z",
     "iopub.status.busy": "2023-08-18T07:01:16.513398Z",
     "iopub.status.idle": "2023-08-18T07:01:16.519031Z",
     "shell.execute_reply": "2023-08-18T07:01:16.518093Z"
    },
    "origin_pos": 18,
    "tab": [
     "mxnet"
    ]
   },
   "source": [
    "net.embedding.weight.set_data(embeds)\n",
    "net.embedding.collect_params().setattr('grad_req', 'null')"
   ],
   "outputs": []
  },
  {
   "cell_type": "markdown",
   "id": "9e79323d",
   "metadata": {
    "origin_pos": 21
   },
   "source": [
    "## 训练和评估模型\n",
    "\n",
    "现在我们可以训练双向循环神经网络进行情感分析。\n"
   ]
  },
  {
   "cell_type": "code",
   "execution_count": 8,
   "id": "bf880f66",
   "metadata": {
    "execution": {
     "iopub.execute_input": "2023-08-18T07:01:16.522971Z",
     "iopub.status.busy": "2023-08-18T07:01:16.522252Z",
     "iopub.status.idle": "2023-08-18T07:07:06.898331Z",
     "shell.execute_reply": "2023-08-18T07:07:06.896493Z"
    },
    "origin_pos": 22,
    "tab": [
     "mxnet"
    ]
   },
   "source": [
    "lr, num_epochs = 0.01, 5\n",
    "trainer = gluon.Trainer(net.collect_params(), 'adam', {'learning_rate': lr})\n",
    "loss = gluon.loss.SoftmaxCrossEntropyLoss()\n",
    "d2l.train_ch13(net, train_iter, test_iter, loss, trainer, num_epochs,\n",
    "    devices)"
   ],
   "outputs": []
  },
  {
   "cell_type": "markdown",
   "id": "7ea2fab1",
   "metadata": {
    "origin_pos": 25
   },
   "source": [
    "我们定义以下函数来使用训练好的模型`net`预测文本序列的情感。\n"
   ]
  },
  {
   "cell_type": "code",
   "execution_count": 9,
   "id": "b1e28ac0",
   "metadata": {
    "execution": {
     "iopub.execute_input": "2023-08-18T07:07:06.905679Z",
     "iopub.status.busy": "2023-08-18T07:07:06.903725Z",
     "iopub.status.idle": "2023-08-18T07:07:06.922593Z",
     "shell.execute_reply": "2023-08-18T07:07:06.920786Z"
    },
    "origin_pos": 26,
    "tab": [
     "mxnet"
    ]
   },
   "source": [
    "#@save\n",
    "def predict_sentiment(net, vocab, sequence):\n",
    "    \"\"\"预测文本序列的情感\"\"\"\n",
    "    sequence = np.array(vocab[sequence.split()], ctx=d2l.try_gpu())\n",
    "    label = np.argmax(net(sequence.reshape(1, -1)), axis=1)\n",
    "    return 'positive' if label == 1 else 'negative'"
   ],
   "outputs": []
  },
  {
   "cell_type": "markdown",
   "id": "12231ae8",
   "metadata": {
    "origin_pos": 29
   },
   "source": [
    "最后，让我们使用训练好的模型对两个简单的句子进行情感预测。\n"
   ]
  },
  {
   "cell_type": "code",
   "execution_count": 10,
   "id": "b6d99902",
   "metadata": {
    "execution": {
     "iopub.execute_input": "2023-08-18T07:07:06.930153Z",
     "iopub.status.busy": "2023-08-18T07:07:06.928266Z",
     "iopub.status.idle": "2023-08-18T07:07:07.542027Z",
     "shell.execute_reply": "2023-08-18T07:07:07.540833Z"
    },
    "origin_pos": 30,
    "tab": [
     "mxnet"
    ]
   },
   "source": [
    "predict_sentiment(net, vocab, 'this movie is so great')"
   ],
   "outputs": []
  },
  {
   "cell_type": "code",
   "execution_count": 11,
   "id": "ee7a1c4f",
   "metadata": {
    "execution": {
     "iopub.execute_input": "2023-08-18T07:07:07.547571Z",
     "iopub.status.busy": "2023-08-18T07:07:07.547171Z",
     "iopub.status.idle": "2023-08-18T07:07:07.571053Z",
     "shell.execute_reply": "2023-08-18T07:07:07.569868Z"
    },
    "origin_pos": 31,
    "tab": [
     "mxnet"
    ]
   },
   "source": [
    "predict_sentiment(net, vocab, 'this movie is so bad')"
   ],
   "outputs": []
  },
  {
   "cell_type": "markdown",
   "id": "50cfa99d",
   "metadata": {
    "origin_pos": 32
   },
   "source": [
    "## 小结\n",
    "\n",
    "* 预训练的词向量可以表示文本序列中的各个词元。\n",
    "* 双向循环神经网络可以表示文本序列。例如通过连结初始和最终时间步的隐状态，可以使用全连接的层将该单个文本表示转换为类别。\n",
    "\n",
    "## 练习\n",
    "\n",
    "1. 增加迭代轮数可以提高训练和测试的准确性吗？调优其他超参数怎么样？\n",
    "1. 使用较大的预训练词向量，例如300维的GloVe嵌入。它是否提高了分类精度？\n",
    "1. 是否可以通过spaCy词元化来提高分类精度？需要安装Spacy（`pip install spacy`）和英语语言包（`python -m spacy download en`）。在代码中，首先导入Spacy（`import spacy`）。然后，加载Spacy英语软件包（`spacy_en = spacy.load('en')`）。最后，定义函数`def tokenizer(text): return [tok.text for tok in spacy_en.tokenizer(text)]`并替换原来的`tokenizer`函数。请注意GloVe和spaCy中短语标记的不同形式。例如，短语标记“new york”在GloVe中的形式是“new-york”，而在spaCy词元化之后的形式是“new york”。\n"
   ]
  },
  {
   "cell_type": "markdown",
   "id": "058edcf5",
   "metadata": {
    "origin_pos": 33,
    "tab": [
     "mxnet"
    ]
   },
   "source": [
    "[Discussions](https://discuss.d2l.ai/t/5723)\n"
   ]
  }
 ],
 "metadata": {
  "language_info": {
   "name": "python"
  },
  "required_libs": []
 },
 "nbformat": 4,
 "nbformat_minor": 5
}
