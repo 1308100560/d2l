{
 "cells": [
  {
   "cell_type": "markdown",
   "id": "deed91bf",
   "metadata": {
    "origin_pos": 0
   },
   "source": [
    "# 使用块的网络（VGG）\n",
    ":label:`sec_vgg`\n",
    "\n",
    "虽然AlexNet证明深层神经网络卓有成效，但它没有提供一个通用的模板来指导后续的研究人员设计新的网络。\n",
    "在下面的几个章节中，我们将介绍一些常用于设计深层神经网络的启发式概念。\n",
    "\n",
    "与芯片设计中工程师从放置晶体管到逻辑元件再到逻辑块的过程类似，神经网络架构的设计也逐渐变得更加抽象。研究人员开始从单个神经元的角度思考问题，发展到整个层，现在又转向块，重复层的模式。\n",
    "\n",
    "使用块的想法首先出现在牛津大学的[视觉几何组（visual geometry group）](http://www.robots.ox.ac.uk/~vgg/)的*VGG网络*中。通过使用循环和子程序，可以很容易地在任何现代深度学习框架的代码中实现这些重复的架构。\n",
    "\n",
    "## (**VGG块**)\n",
    "\n",
    "经典卷积神经网络的基本组成部分是下面的这个序列：\n",
    "\n",
    "1. 带填充以保持分辨率的卷积层；\n",
    "1. 非线性激活函数，如ReLU；\n",
    "1. 汇聚层，如最大汇聚层。\n",
    "\n",
    "而一个VGG块与之类似，由一系列卷积层组成，后面再加上用于空间下采样的最大汇聚层。在最初的VGG论文中 :cite:`Simonyan.Zisserman.2014`，作者使用了带有$3\\times3$卷积核、填充为1（保持高度和宽度）的卷积层，和带有$2 \\times 2$汇聚窗口、步幅为2（每个块后的分辨率减半）的最大汇聚层。在下面的代码中，我们定义了一个名为`vgg_block`的函数来实现一个VGG块。\n"
   ]
  },
  {
   "cell_type": "markdown",
   "id": "387a2646",
   "metadata": {
    "origin_pos": 1,
    "tab": [
     "mxnet"
    ]
   },
   "source": [
    "该函数有两个参数，分别对应于卷积层的数量`num_convs`和输出通道的数量`num_channels`.\n"
   ]
  },
  {
   "cell_type": "code",
   "execution_count": 1,
   "id": "190579ba",
   "metadata": {
    "execution": {
     "iopub.execute_input": "2023-08-18T07:39:50.192980Z",
     "iopub.status.busy": "2023-08-18T07:39:50.192332Z",
     "iopub.status.idle": "2023-08-18T07:39:55.429726Z",
     "shell.execute_reply": "2023-08-18T07:39:55.428741Z"
    },
    "origin_pos": 3,
    "tab": [
     "mxnet"
    ]
   },
   "source": [
    "from mxnet import np, npx\n",
    "from mxnet.gluon import nn\n",
    "from d2l import mxnet as d2l\n",
    "\n",
    "npx.set_np()\n",
    "\n",
    "def vgg_block(num_convs, num_channels):\n",
    "    blk = nn.Sequential()\n",
    "    for _ in range(num_convs):\n",
    "        blk.add(nn.Conv2D(num_channels, kernel_size=3,\n",
    "                          padding=1, activation='relu'))\n",
    "    blk.add(nn.MaxPool2D(pool_size=2, strides=2))\n",
    "    return blk"
   ],
   "outputs": []
  },
  {
   "cell_type": "markdown",
   "id": "2f224cbb",
   "metadata": {
    "origin_pos": 7
   },
   "source": [
    "## [**VGG网络**]\n",
    "\n",
    "与AlexNet、LeNet一样，VGG网络可以分为两部分：第一部分主要由卷积层和汇聚层组成，第二部分由全连接层组成。如 :numref:`fig_vgg`中所示。\n",
    "\n",
    "![从AlexNet到VGG，它们本质上都是块设计。](../img/vgg.svg)\n",
    ":width:`400px`\n",
    ":label:`fig_vgg`\n",
    "\n",
    "VGG神经网络连接 :numref:`fig_vgg`的几个VGG块（在`vgg_block`函数中定义）。其中有超参数变量`conv_arch`。该变量指定了每个VGG块里卷积层个数和输出通道数。全连接模块则与AlexNet中的相同。\n",
    "\n",
    "原始VGG网络有5个卷积块，其中前两个块各有一个卷积层，后三个块各包含两个卷积层。\n",
    "第一个模块有64个输出通道，每个后续模块将输出通道数量翻倍，直到该数字达到512。由于该网络使用8个卷积层和3个全连接层，因此它通常被称为VGG-11。\n"
   ]
  },
  {
   "cell_type": "code",
   "execution_count": 2,
   "id": "6bc6cc56",
   "metadata": {
    "execution": {
     "iopub.execute_input": "2023-08-18T07:39:55.433926Z",
     "iopub.status.busy": "2023-08-18T07:39:55.433231Z",
     "iopub.status.idle": "2023-08-18T07:39:55.437743Z",
     "shell.execute_reply": "2023-08-18T07:39:55.436896Z"
    },
    "origin_pos": 8,
    "tab": [
     "mxnet"
    ]
   },
   "source": [
    "conv_arch = ((1, 64), (1, 128), (2, 256), (2, 512), (2, 512))"
   ],
   "outputs": []
  },
  {
   "cell_type": "markdown",
   "id": "ca163b57",
   "metadata": {
    "origin_pos": 9
   },
   "source": [
    "下面的代码实现了VGG-11。可以通过在`conv_arch`上执行for循环来简单实现。\n"
   ]
  },
  {
   "cell_type": "code",
   "execution_count": 3,
   "id": "f8d86ab3",
   "metadata": {
    "execution": {
     "iopub.execute_input": "2023-08-18T07:39:55.441278Z",
     "iopub.status.busy": "2023-08-18T07:39:55.440712Z",
     "iopub.status.idle": "2023-08-18T07:39:55.450345Z",
     "shell.execute_reply": "2023-08-18T07:39:55.449465Z"
    },
    "origin_pos": 10,
    "tab": [
     "mxnet"
    ]
   },
   "source": [
    "def vgg(conv_arch):\n",
    "    net = nn.Sequential()\n",
    "    # 卷积层部分\n",
    "    for (num_convs, num_channels) in conv_arch:\n",
    "        net.add(vgg_block(num_convs, num_channels))\n",
    "    # 全连接层部分\n",
    "    net.add(nn.Dense(4096, activation='relu'), nn.Dropout(0.5),\n",
    "            nn.Dense(4096, activation='relu'), nn.Dropout(0.5),\n",
    "            nn.Dense(10))\n",
    "    return net\n",
    "\n",
    "net = vgg(conv_arch)"
   ],
   "outputs": []
  },
  {
   "cell_type": "markdown",
   "id": "9abb1aec",
   "metadata": {
    "origin_pos": 14
   },
   "source": [
    "接下来，我们将构建一个高度和宽度为224的单通道数据样本，以[**观察每个层输出的形状**]。\n"
   ]
  },
  {
   "cell_type": "code",
   "execution_count": 4,
   "id": "19ef4a98",
   "metadata": {
    "execution": {
     "iopub.execute_input": "2023-08-18T07:39:55.453922Z",
     "iopub.status.busy": "2023-08-18T07:39:55.453222Z",
     "iopub.status.idle": "2023-08-18T07:39:55.516968Z",
     "shell.execute_reply": "2023-08-18T07:39:55.514464Z"
    },
    "origin_pos": 15,
    "tab": [
     "mxnet"
    ]
   },
   "source": [
    "net.initialize()\n",
    "X = np.random.uniform(size=(1, 1, 224, 224))\n",
    "for blk in net:\n",
    "    X = blk(X)\n",
    "    print(blk.name, 'output shape:\\t', X.shape)"
   ],
   "outputs": []
  },
  {
   "cell_type": "markdown",
   "id": "9179d77d",
   "metadata": {
    "origin_pos": 19
   },
   "source": [
    "正如从代码中所看到的，我们在每个块的高度和宽度减半，最终高度和宽度都为7。最后再展平表示，送入全连接层处理。\n",
    "\n",
    "## 训练模型\n",
    "\n",
    "[**由于VGG-11比AlexNet计算量更大，因此我们构建了一个通道数较少的网络**]，足够用于训练Fashion-MNIST数据集。\n"
   ]
  },
  {
   "cell_type": "code",
   "execution_count": 5,
   "id": "d2173f00",
   "metadata": {
    "execution": {
     "iopub.execute_input": "2023-08-18T07:39:55.523055Z",
     "iopub.status.busy": "2023-08-18T07:39:55.522548Z",
     "iopub.status.idle": "2023-08-18T07:39:55.608454Z",
     "shell.execute_reply": "2023-08-18T07:39:55.605959Z"
    },
    "origin_pos": 20,
    "tab": [
     "mxnet"
    ]
   },
   "source": [
    "ratio = 4\n",
    "small_conv_arch = [(pair[0], pair[1] // ratio) for pair in conv_arch]\n",
    "net = vgg(small_conv_arch)"
   ],
   "outputs": []
  },
  {
   "cell_type": "markdown",
   "id": "b711627d",
   "metadata": {
    "origin_pos": 22
   },
   "source": [
    "除了使用略高的学习率外，[**模型训练**]过程与 :numref:`sec_alexnet`中的AlexNet类似。\n"
   ]
  },
  {
   "cell_type": "code",
   "execution_count": 6,
   "id": "ec1ad2cd",
   "metadata": {
    "execution": {
     "iopub.execute_input": "2023-08-18T07:39:55.614132Z",
     "iopub.status.busy": "2023-08-18T07:39:55.613771Z",
     "iopub.status.idle": "2023-08-18T07:45:06.809287Z",
     "shell.execute_reply": "2023-08-18T07:45:06.807934Z"
    },
    "origin_pos": 23,
    "tab": [
     "mxnet"
    ]
   },
   "source": [
    "lr, num_epochs, batch_size = 0.05, 10, 128\n",
    "train_iter, test_iter = d2l.load_data_fashion_mnist(batch_size, resize=224)\n",
    "d2l.train_ch6(net, train_iter, test_iter, num_epochs, lr, d2l.try_gpu())"
   ],
   "outputs": []
  },
  {
   "cell_type": "markdown",
   "id": "a3305e31",
   "metadata": {
    "origin_pos": 24
   },
   "source": [
    "## 小结\n",
    "\n",
    "* VGG-11使用可复用的卷积块构造网络。不同的VGG模型可通过每个块中卷积层数量和输出通道数量的差异来定义。\n",
    "* 块的使用导致网络定义的非常简洁。使用块可以有效地设计复杂的网络。\n",
    "* 在VGG论文中，Simonyan和Ziserman尝试了各种架构。特别是他们发现深层且窄的卷积（即$3 \\times 3$）比较浅层且宽的卷积更有效。\n",
    "\n",
    "## 练习\n",
    "\n",
    "1. 打印层的尺寸时，我们只看到8个结果，而不是11个结果。剩余的3层信息去哪了？\n",
    "1. 与AlexNet相比，VGG的计算要慢得多，而且它还需要更多的显存。分析出现这种情况的原因。\n",
    "1. 尝试将Fashion-MNIST数据集图像的高度和宽度从224改为96。这对实验有什么影响？\n",
    "1. 请参考VGG论文 :cite:`Simonyan.Zisserman.2014`中的表1构建其他常见模型，如VGG-16或VGG-19。\n"
   ]
  },
  {
   "cell_type": "markdown",
   "id": "763e3a80",
   "metadata": {
    "origin_pos": 25,
    "tab": [
     "mxnet"
    ]
   },
   "source": [
    "[Discussions](https://discuss.d2l.ai/t/1867)\n"
   ]
  }
 ],
 "metadata": {
  "language_info": {
   "name": "python"
  },
  "required_libs": []
 },
 "nbformat": 4,
 "nbformat_minor": 5
}
