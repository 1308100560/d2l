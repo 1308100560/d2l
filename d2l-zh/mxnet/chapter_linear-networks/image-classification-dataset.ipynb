{
 "cells": [
  {
   "cell_type": "markdown",
   "id": "e8a77341",
   "metadata": {
    "origin_pos": 0
   },
   "source": [
    "# 图像分类数据集\n",
    ":label:`sec_fashion_mnist`\n",
    "\n",
    "(**MNIST数据集**) :cite:`LeCun.Bottou.Bengio.ea.1998`\n",
    "(**是图像分类中广泛使用的数据集之一，但作为基准数据集过于简单。\n",
    "我们将使用类似但更复杂的Fashion-MNIST数据集**) :cite:`Xiao.Rasul.Vollgraf.2017`。\n"
   ]
  },
  {
   "cell_type": "code",
   "execution_count": 1,
   "id": "91107735",
   "metadata": {
    "execution": {
     "iopub.execute_input": "2023-08-18T07:01:05.648717Z",
     "iopub.status.busy": "2023-08-18T07:01:05.648444Z",
     "iopub.status.idle": "2023-08-18T07:01:08.420493Z",
     "shell.execute_reply": "2023-08-18T07:01:08.419516Z"
    },
    "origin_pos": 1,
    "tab": [
     "mxnet"
    ]
   },
   "source": [
    "%matplotlib inline\n",
    "import sys\n",
    "from mxnet import gluon\n",
    "from d2l import mxnet as d2l\n",
    "\n",
    "d2l.use_svg_display()"
   ],
   "outputs": []
  },
  {
   "cell_type": "markdown",
   "id": "6e4912c2",
   "metadata": {
    "origin_pos": 5
   },
   "source": [
    "## 读取数据集\n",
    "\n",
    "我们可以[**通过框架中的内置函数将Fashion-MNIST数据集下载并读取到内存中**]。\n"
   ]
  },
  {
   "cell_type": "code",
   "execution_count": 2,
   "id": "86392e74",
   "metadata": {
    "execution": {
     "iopub.execute_input": "2023-08-18T07:01:08.425134Z",
     "iopub.status.busy": "2023-08-18T07:01:08.424351Z",
     "iopub.status.idle": "2023-08-18T07:01:10.063604Z",
     "shell.execute_reply": "2023-08-18T07:01:10.062391Z"
    },
    "origin_pos": 6,
    "tab": [
     "mxnet"
    ]
   },
   "source": [
    "mnist_train = gluon.data.vision.FashionMNIST(train=True)\n",
    "mnist_test = gluon.data.vision.FashionMNIST(train=False)"
   ],
   "outputs": []
  },
  {
   "cell_type": "markdown",
   "id": "f1280d29",
   "metadata": {
    "origin_pos": 10
   },
   "source": [
    "Fashion-MNIST由10个类别的图像组成，\n",
    "每个类别由*训练数据集*（train dataset）中的6000张图像\n",
    "和*测试数据集*（test dataset）中的1000张图像组成。\n",
    "因此，训练集和测试集分别包含60000和10000张图像。\n",
    "测试数据集不会用于训练，只用于评估模型性能。\n"
   ]
  },
  {
   "cell_type": "code",
   "execution_count": 3,
   "id": "6327f3a9",
   "metadata": {
    "execution": {
     "iopub.execute_input": "2023-08-18T07:01:10.067705Z",
     "iopub.status.busy": "2023-08-18T07:01:10.067098Z",
     "iopub.status.idle": "2023-08-18T07:01:10.074595Z",
     "shell.execute_reply": "2023-08-18T07:01:10.073406Z"
    },
    "origin_pos": 11,
    "tab": [
     "mxnet"
    ]
   },
   "source": [
    "len(mnist_train), len(mnist_test)"
   ],
   "outputs": []
  },
  {
   "cell_type": "markdown",
   "id": "0dc2c0cd",
   "metadata": {
    "origin_pos": 13
   },
   "source": [
    "每个输入图像的高度和宽度均为28像素。\n",
    "数据集由灰度图像组成，其通道数为1。\n",
    "为了简洁起见，本书将高度$h$像素、宽度$w$像素图像的形状记为$h \\times w$或（$h$,$w$）。\n"
   ]
  },
  {
   "cell_type": "code",
   "execution_count": 4,
   "id": "408af1a8",
   "metadata": {
    "execution": {
     "iopub.execute_input": "2023-08-18T07:01:10.078542Z",
     "iopub.status.busy": "2023-08-18T07:01:10.077891Z",
     "iopub.status.idle": "2023-08-18T07:01:10.084120Z",
     "shell.execute_reply": "2023-08-18T07:01:10.083174Z"
    },
    "origin_pos": 14,
    "tab": [
     "mxnet"
    ]
   },
   "source": [
    "mnist_train[0][0].shape"
   ],
   "outputs": []
  },
  {
   "cell_type": "markdown",
   "id": "51f68278",
   "metadata": {
    "origin_pos": 15
   },
   "source": [
    "[~~两个可视化数据集的函数~~]\n",
    "\n",
    "Fashion-MNIST中包含的10个类别，分别为t-shirt（T恤）、trouser（裤子）、pullover（套衫）、dress（连衣裙）、coat（外套）、sandal（凉鞋）、shirt（衬衫）、sneaker（运动鞋）、bag（包）和ankle boot（短靴）。\n",
    "以下函数用于在数字标签索引及其文本名称之间进行转换。\n"
   ]
  },
  {
   "cell_type": "code",
   "execution_count": 5,
   "id": "a7c02c43",
   "metadata": {
    "execution": {
     "iopub.execute_input": "2023-08-18T07:01:10.087987Z",
     "iopub.status.busy": "2023-08-18T07:01:10.087381Z",
     "iopub.status.idle": "2023-08-18T07:01:10.092761Z",
     "shell.execute_reply": "2023-08-18T07:01:10.091650Z"
    },
    "origin_pos": 16,
    "tab": [
     "mxnet"
    ]
   },
   "source": [
    "def get_fashion_mnist_labels(labels):  #@save\n",
    "    \"\"\"返回Fashion-MNIST数据集的文本标签\"\"\"\n",
    "    text_labels = ['t-shirt', 'trouser', 'pullover', 'dress', 'coat',\n",
    "                   'sandal', 'shirt', 'sneaker', 'bag', 'ankle boot']\n",
    "    return [text_labels[int(i)] for i in labels]"
   ],
   "outputs": []
  },
  {
   "cell_type": "markdown",
   "id": "60a1528c",
   "metadata": {
    "origin_pos": 17
   },
   "source": [
    "我们现在可以创建一个函数来可视化这些样本。\n"
   ]
  },
  {
   "cell_type": "code",
   "execution_count": 6,
   "id": "e7faf4ac",
   "metadata": {
    "execution": {
     "iopub.execute_input": "2023-08-18T07:01:10.096919Z",
     "iopub.status.busy": "2023-08-18T07:01:10.096040Z",
     "iopub.status.idle": "2023-08-18T07:01:10.103202Z",
     "shell.execute_reply": "2023-08-18T07:01:10.102106Z"
    },
    "origin_pos": 18,
    "tab": [
     "mxnet"
    ]
   },
   "source": [
    "def show_images(imgs, num_rows, num_cols, titles=None, scale=1.5):  #@save\n",
    "    \"\"\"绘制图像列表\"\"\"\n",
    "    figsize = (num_cols * scale, num_rows * scale)\n",
    "    _, axes = d2l.plt.subplots(num_rows, num_cols, figsize=figsize)\n",
    "    axes = axes.flatten()\n",
    "    for i, (ax, img) in enumerate(zip(axes, imgs)):\n",
    "        ax.imshow(img.asnumpy())\n",
    "        ax.axes.get_xaxis().set_visible(False)\n",
    "        ax.axes.get_yaxis().set_visible(False)\n",
    "        if titles:\n",
    "            ax.set_title(titles[i])\n",
    "    return axes"
   ],
   "outputs": []
  },
  {
   "cell_type": "markdown",
   "id": "ae0d1ca6",
   "metadata": {
    "origin_pos": 21
   },
   "source": [
    "以下是训练数据集中前[**几个样本的图像及其相应的标签**]。\n"
   ]
  },
  {
   "cell_type": "code",
   "execution_count": 7,
   "id": "7e5a328e",
   "metadata": {
    "execution": {
     "iopub.execute_input": "2023-08-18T07:01:10.107197Z",
     "iopub.status.busy": "2023-08-18T07:01:10.106613Z",
     "iopub.status.idle": "2023-08-18T07:01:10.764917Z",
     "shell.execute_reply": "2023-08-18T07:01:10.763749Z"
    },
    "origin_pos": 22,
    "tab": [
     "mxnet"
    ]
   },
   "source": [
    "X, y = mnist_train[:18]\n",
    "\n",
    "print(X.shape)\n",
    "show_images(X.squeeze(axis=-1), 2, 9, titles=get_fashion_mnist_labels(y));"
   ],
   "outputs": []
  },
  {
   "cell_type": "markdown",
   "id": "4d712a4f",
   "metadata": {
    "origin_pos": 26
   },
   "source": [
    "## 读取小批量\n",
    "\n",
    "为了使我们在读取训练集和测试集时更容易，我们使用内置的数据迭代器，而不是从零开始创建。\n",
    "回顾一下，在每次迭代中，数据加载器每次都会[**读取一小批量数据，大小为`batch_size`**]。\n",
    "通过内置数据迭代器，我们可以随机打乱了所有样本，从而无偏见地读取小批量。\n"
   ]
  },
  {
   "cell_type": "code",
   "execution_count": 8,
   "id": "6f466b04",
   "metadata": {
    "execution": {
     "iopub.execute_input": "2023-08-18T07:01:10.770179Z",
     "iopub.status.busy": "2023-08-18T07:01:10.769843Z",
     "iopub.status.idle": "2023-08-18T07:01:10.886789Z",
     "shell.execute_reply": "2023-08-18T07:01:10.885332Z"
    },
    "origin_pos": 27,
    "tab": [
     "mxnet"
    ]
   },
   "source": [
    "batch_size = 256\n",
    "\n",
    "def get_dataloader_workers():  #@save\n",
    "    \"\"\"在非Windows的平台上，使用4个进程来读取数据\"\"\"\n",
    "    return 0 if sys.platform.startswith('win') else 4\n",
    "\n",
    "# 通过ToTensor实例将图像数据从uint8格式变换成32位浮点数格式，并除以255使得所有像素的数值\n",
    "# 均在0～1之间\n",
    "transformer = gluon.data.vision.transforms.ToTensor()\n",
    "train_iter = gluon.data.DataLoader(mnist_train.transform_first(transformer),\n",
    "                                   batch_size, shuffle=True,\n",
    "                                   num_workers=get_dataloader_workers())"
   ],
   "outputs": []
  },
  {
   "cell_type": "markdown",
   "id": "2ba51727",
   "metadata": {
    "origin_pos": 31
   },
   "source": [
    "我们看一下读取训练数据所需的时间。\n"
   ]
  },
  {
   "cell_type": "code",
   "execution_count": 9,
   "id": "35c6f35a",
   "metadata": {
    "execution": {
     "iopub.execute_input": "2023-08-18T07:01:10.892050Z",
     "iopub.status.busy": "2023-08-18T07:01:10.891231Z",
     "iopub.status.idle": "2023-08-18T07:01:12.787486Z",
     "shell.execute_reply": "2023-08-18T07:01:12.786367Z"
    },
    "origin_pos": 32,
    "tab": [
     "mxnet"
    ]
   },
   "source": [
    "timer = d2l.Timer()\n",
    "for X, y in train_iter:\n",
    "    continue\n",
    "f'{timer.stop():.2f} sec'"
   ],
   "outputs": []
  },
  {
   "cell_type": "markdown",
   "id": "b7d684f9",
   "metadata": {
    "origin_pos": 33
   },
   "source": [
    "## 整合所有组件\n",
    "\n",
    "现在我们[**定义`load_data_fashion_mnist`函数**]，用于获取和读取Fashion-MNIST数据集。\n",
    "这个函数返回训练集和验证集的数据迭代器。\n",
    "此外，这个函数还接受一个可选参数`resize`，用来将图像大小调整为另一种形状。\n"
   ]
  },
  {
   "cell_type": "code",
   "execution_count": 10,
   "id": "0e65b8ba",
   "metadata": {
    "execution": {
     "iopub.execute_input": "2023-08-18T07:01:12.792177Z",
     "iopub.status.busy": "2023-08-18T07:01:12.791162Z",
     "iopub.status.idle": "2023-08-18T07:01:12.798230Z",
     "shell.execute_reply": "2023-08-18T07:01:12.797380Z"
    },
    "origin_pos": 34,
    "tab": [
     "mxnet"
    ]
   },
   "source": [
    "def load_data_fashion_mnist(batch_size, resize=None):  #@save\n",
    "    \"\"\"下载Fashion-MNIST数据集，然后将其加载到内存中\"\"\"\n",
    "    dataset = gluon.data.vision\n",
    "    trans = [dataset.transforms.ToTensor()]\n",
    "    if resize:\n",
    "        trans.insert(0, dataset.transforms.Resize(resize))\n",
    "    trans = dataset.transforms.Compose(trans)\n",
    "    mnist_train = dataset.FashionMNIST(train=True).transform_first(trans)\n",
    "    mnist_test = dataset.FashionMNIST(train=False).transform_first(trans)\n",
    "    return (gluon.data.DataLoader(mnist_train, batch_size, shuffle=True,\n",
    "                                  num_workers=get_dataloader_workers()),\n",
    "            gluon.data.DataLoader(mnist_test, batch_size, shuffle=False,\n",
    "                                  num_workers=get_dataloader_workers()))"
   ],
   "outputs": []
  },
  {
   "cell_type": "markdown",
   "id": "aa453797",
   "metadata": {
    "origin_pos": 38
   },
   "source": [
    "下面，我们通过指定`resize`参数来测试`load_data_fashion_mnist`函数的图像大小调整功能。\n"
   ]
  },
  {
   "cell_type": "code",
   "execution_count": 11,
   "id": "404b0806",
   "metadata": {
    "execution": {
     "iopub.execute_input": "2023-08-18T07:01:12.801922Z",
     "iopub.status.busy": "2023-08-18T07:01:12.801153Z",
     "iopub.status.idle": "2023-08-18T07:01:13.654053Z",
     "shell.execute_reply": "2023-08-18T07:01:13.652033Z"
    },
    "origin_pos": 39,
    "tab": [
     "mxnet"
    ]
   },
   "source": [
    "train_iter, test_iter = load_data_fashion_mnist(32, resize=64)\n",
    "for X, y in train_iter:\n",
    "    print(X.shape, X.dtype, y.shape, y.dtype)\n",
    "    break"
   ],
   "outputs": []
  },
  {
   "cell_type": "markdown",
   "id": "a3310e72",
   "metadata": {
    "origin_pos": 40
   },
   "source": [
    "我们现在已经准备好使用Fashion-MNIST数据集，便于下面的章节调用来评估各种分类算法。\n",
    "\n",
    "## 小结\n",
    "\n",
    "* Fashion-MNIST是一个服装分类数据集，由10个类别的图像组成。我们将在后续章节中使用此数据集来评估各种分类算法。\n",
    "* 我们将高度$h$像素，宽度$w$像素图像的形状记为$h \\times w$或（$h$,$w$）。\n",
    "* 数据迭代器是获得更高性能的关键组件。依靠实现良好的数据迭代器，利用高性能计算来避免减慢训练过程。\n",
    "\n",
    "## 练习\n",
    "\n",
    "1. 减少`batch_size`（如减少到1）是否会影响读取性能？\n",
    "1. 数据迭代器的性能非常重要。当前的实现足够快吗？探索各种选择来改进它。\n",
    "1. 查阅框架的在线API文档。还有哪些其他数据集可用？\n"
   ]
  },
  {
   "cell_type": "markdown",
   "id": "0c4057a1",
   "metadata": {
    "origin_pos": 41,
    "tab": [
     "mxnet"
    ]
   },
   "source": [
    "[Discussions](https://discuss.d2l.ai/t/1788)\n"
   ]
  }
 ],
 "metadata": {
  "language_info": {
   "name": "python"
  },
  "required_libs": []
 },
 "nbformat": 4,
 "nbformat_minor": 5
}
