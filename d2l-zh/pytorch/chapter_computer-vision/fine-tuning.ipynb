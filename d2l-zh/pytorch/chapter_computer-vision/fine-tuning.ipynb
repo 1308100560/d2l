{
 "cells": [
  {
   "cell_type": "markdown",
   "id": "07b4b134",
   "metadata": {
    "origin_pos": 0
   },
   "source": [
    "# 微调\n",
    ":label:`sec_fine_tuning`\n",
    "\n",
    "前面的一些章节介绍了如何在只有6万张图像的Fashion-MNIST训练数据集上训练模型。\n",
    "我们还描述了学术界当下使用最广泛的大规模图像数据集ImageNet，它有超过1000万的图像和1000类的物体。\n",
    "然而，我们平常接触到的数据集的规模通常在这两者之间。\n",
    "\n",
    "假如我们想识别图片中不同类型的椅子，然后向用户推荐购买链接。\n",
    "一种可能的方法是首先识别100把普通椅子，为每把椅子拍摄1000张不同角度的图像，然后在收集的图像数据集上训练一个分类模型。\n",
    "尽管这个椅子数据集可能大于Fashion-MNIST数据集，但实例数量仍然不到ImageNet中的十分之一。\n",
    "适合ImageNet的复杂模型可能会在这个椅子数据集上过拟合。\n",
    "此外，由于训练样本数量有限，训练模型的准确性可能无法满足实际要求。\n",
    "\n",
    "为了解决上述问题，一个显而易见的解决方案是收集更多的数据。\n",
    "但是，收集和标记数据可能需要大量的时间和金钱。\n",
    "例如，为了收集ImageNet数据集，研究人员花费了数百万美元的研究资金。\n",
    "尽管目前的数据收集成本已大幅降低，但这一成本仍不能忽视。\n",
    "\n",
    "另一种解决方案是应用*迁移学习*（transfer learning）将从*源数据集*学到的知识迁移到*目标数据集*。\n",
    "例如，尽管ImageNet数据集中的大多数图像与椅子无关，但在此数据集上训练的模型可能会提取更通用的图像特征，这有助于识别边缘、纹理、形状和对象组合。\n",
    "这些类似的特征也可能有效地识别椅子。\n",
    "\n",
    "## 步骤\n",
    "\n",
    "本节将介绍迁移学习中的常见技巧:*微调*（fine-tuning）。如 :numref:`fig_finetune`所示，微调包括以下四个步骤。\n",
    "\n",
    "1. 在源数据集（例如ImageNet数据集）上预训练神经网络模型，即*源模型*。\n",
    "1. 创建一个新的神经网络模型，即*目标模型*。这将复制源模型上的所有模型设计及其参数（输出层除外）。我们假定这些模型参数包含从源数据集中学到的知识，这些知识也将适用于目标数据集。我们还假设源模型的输出层与源数据集的标签密切相关；因此不在目标模型中使用该层。\n",
    "1. 向目标模型添加输出层，其输出数是目标数据集中的类别数。然后随机初始化该层的模型参数。\n",
    "1. 在目标数据集（如椅子数据集）上训练目标模型。输出层将从头开始进行训练，而所有其他层的参数将根据源模型的参数进行微调。\n",
    "\n",
    "![微调。](../img/finetune.svg)\n",
    ":label:`fig_finetune`\n",
    "\n",
    "当目标数据集比源数据集小得多时，微调有助于提高模型的泛化能力。\n",
    "\n",
    "## 热狗识别\n",
    "\n",
    "让我们通过具体案例演示微调：热狗识别。\n",
    "我们将在一个小型数据集上微调ResNet模型。该模型已在ImageNet数据集上进行了预训练。\n",
    "这个小型数据集包含数千张包含热狗和不包含热狗的图像，我们将使用微调模型来识别图像中是否包含热狗。\n"
   ]
  },
  {
   "cell_type": "code",
   "execution_count": 1,
   "id": "a041c0b1",
   "metadata": {
    "execution": {
     "iopub.execute_input": "2023-08-18T07:09:16.255602Z",
     "iopub.status.busy": "2023-08-18T07:09:16.254993Z",
     "iopub.status.idle": "2023-08-18T07:09:19.697997Z",
     "shell.execute_reply": "2023-08-18T07:09:19.697096Z"
    },
    "origin_pos": 2,
    "tab": [
     "pytorch"
    ]
   },
   "source": [
    "%matplotlib inline\n",
    "import os\n",
    "import torch\n",
    "import torchvision\n",
    "from torch import nn\n",
    "from d2l import torch as d2l"
   ],
   "outputs": []
  },
  {
   "cell_type": "markdown",
   "id": "e96e037d",
   "metadata": {
    "origin_pos": 4
   },
   "source": [
    "### 获取数据集\n",
    "\n",
    "我们使用的[**热狗数据集来源于网络**]。\n",
    "该数据集包含1400张热狗的“正类”图像，以及包含尽可能多的其他食物的“负类”图像。\n",
    "含着两个类别的1000张图片用于训练，其余的则用于测试。\n",
    "\n",
    "解压下载的数据集，我们获得了两个文件夹`hotdog/train`和`hotdog/test`。\n",
    "这两个文件夹都有`hotdog`（有热狗）和`not-hotdog`（无热狗）两个子文件夹，\n",
    "子文件夹内都包含相应类的图像。\n"
   ]
  },
  {
   "cell_type": "code",
   "execution_count": 2,
   "id": "60ecdc80",
   "metadata": {
    "execution": {
     "iopub.execute_input": "2023-08-18T07:09:19.743010Z",
     "iopub.status.busy": "2023-08-18T07:09:19.742335Z",
     "iopub.status.idle": "2023-08-18T07:09:27.510104Z",
     "shell.execute_reply": "2023-08-18T07:09:27.509268Z"
    },
    "origin_pos": 5,
    "tab": [
     "pytorch"
    ]
   },
   "source": [
    "#@save\n",
    "d2l.DATA_HUB['hotdog'] = (d2l.DATA_URL + 'hotdog.zip',\n",
    "                         'fba480ffa8aa7e0febbb511d181409f899b9baa5')\n",
    "\n",
    "data_dir = d2l.download_extract('hotdog')"
   ],
   "outputs": []
  },
  {
   "cell_type": "markdown",
   "id": "c72c1b3a",
   "metadata": {
    "origin_pos": 6
   },
   "source": [
    "我们创建两个实例来分别读取训练和测试数据集中的所有图像文件。\n"
   ]
  },
  {
   "cell_type": "code",
   "execution_count": 3,
   "id": "fd208011",
   "metadata": {
    "execution": {
     "iopub.execute_input": "2023-08-18T07:09:27.514182Z",
     "iopub.status.busy": "2023-08-18T07:09:27.513619Z",
     "iopub.status.idle": "2023-08-18T07:09:27.525236Z",
     "shell.execute_reply": "2023-08-18T07:09:27.524465Z"
    },
    "origin_pos": 8,
    "tab": [
     "pytorch"
    ]
   },
   "source": [
    "train_imgs = torchvision.datasets.ImageFolder(os.path.join(data_dir, 'train'))\n",
    "test_imgs = torchvision.datasets.ImageFolder(os.path.join(data_dir, 'test'))"
   ],
   "outputs": []
  },
  {
   "cell_type": "markdown",
   "id": "5a20cf43",
   "metadata": {
    "origin_pos": 10
   },
   "source": [
    "下面显示了前8个正类样本图片和最后8张负类样本图片。正如所看到的，[**图像的大小和纵横比各有不同**]。\n"
   ]
  },
  {
   "cell_type": "code",
   "execution_count": 4,
   "id": "c5db62fb",
   "metadata": {
    "execution": {
     "iopub.execute_input": "2023-08-18T07:09:27.528713Z",
     "iopub.status.busy": "2023-08-18T07:09:27.528116Z",
     "iopub.status.idle": "2023-08-18T07:09:28.207612Z",
     "shell.execute_reply": "2023-08-18T07:09:28.206842Z"
    },
    "origin_pos": 11,
    "tab": [
     "pytorch"
    ]
   },
   "source": [
    "hotdogs = [train_imgs[i][0] for i in range(8)]\n",
    "not_hotdogs = [train_imgs[-i - 1][0] for i in range(8)]\n",
    "d2l.show_images(hotdogs + not_hotdogs, 2, 8, scale=1.4);"
   ],
   "outputs": []
  },
  {
   "cell_type": "markdown",
   "id": "5431c601",
   "metadata": {
    "origin_pos": 12
   },
   "source": [
    "在训练期间，我们首先从图像中裁切随机大小和随机长宽比的区域，然后将该区域缩放为$224 \\times 224$输入图像。\n",
    "在测试过程中，我们将图像的高度和宽度都缩放到256像素，然后裁剪中央$224 \\times 224$区域作为输入。\n",
    "此外，对于RGB（红、绿和蓝）颜色通道，我们分别*标准化*每个通道。\n",
    "具体而言，该通道的每个值减去该通道的平均值，然后将结果除以该通道的标准差。\n",
    "\n",
    "[~~数据增广~~]\n"
   ]
  },
  {
   "cell_type": "code",
   "execution_count": 5,
   "id": "d251b5e9",
   "metadata": {
    "execution": {
     "iopub.execute_input": "2023-08-18T07:09:28.212132Z",
     "iopub.status.busy": "2023-08-18T07:09:28.211616Z",
     "iopub.status.idle": "2023-08-18T07:09:28.217043Z",
     "shell.execute_reply": "2023-08-18T07:09:28.216348Z"
    },
    "origin_pos": 14,
    "tab": [
     "pytorch"
    ]
   },
   "source": [
    "# 使用RGB通道的均值和标准差，以标准化每个通道\n",
    "normalize = torchvision.transforms.Normalize(\n",
    "    [0.485, 0.456, 0.406], [0.229, 0.224, 0.225])\n",
    "\n",
    "train_augs = torchvision.transforms.Compose([\n",
    "    torchvision.transforms.RandomResizedCrop(224),\n",
    "    torchvision.transforms.RandomHorizontalFlip(),\n",
    "    torchvision.transforms.ToTensor(),\n",
    "    normalize])\n",
    "\n",
    "test_augs = torchvision.transforms.Compose([\n",
    "    torchvision.transforms.Resize([256, 256]),\n",
    "    torchvision.transforms.CenterCrop(224),\n",
    "    torchvision.transforms.ToTensor(),\n",
    "    normalize])"
   ],
   "outputs": []
  },
  {
   "cell_type": "markdown",
   "id": "1cc832c2",
   "metadata": {
    "origin_pos": 16
   },
   "source": [
    "### [**定义和初始化模型**]\n",
    "\n",
    "我们使用在ImageNet数据集上预训练的ResNet-18作为源模型。\n",
    "在这里，我们指定`pretrained=True`以自动下载预训练的模型参数。\n",
    "如果首次使用此模型，则需要连接互联网才能下载。\n"
   ]
  },
  {
   "cell_type": "code",
   "execution_count": 6,
   "id": "657aea3e",
   "metadata": {
    "execution": {
     "iopub.execute_input": "2023-08-18T07:09:28.220308Z",
     "iopub.status.busy": "2023-08-18T07:09:28.219814Z",
     "iopub.status.idle": "2023-08-18T07:09:28.558088Z",
     "shell.execute_reply": "2023-08-18T07:09:28.557042Z"
    },
    "origin_pos": 18,
    "tab": [
     "pytorch"
    ]
   },
   "source": [
    "pretrained_net = torchvision.models.resnet18(pretrained=True)"
   ],
   "outputs": []
  },
  {
   "cell_type": "markdown",
   "id": "b51509e0",
   "metadata": {
    "origin_pos": 21,
    "tab": [
     "pytorch"
    ]
   },
   "source": [
    "预训练的源模型实例包含许多特征层和一个输出层`fc`。\n",
    "此划分的主要目的是促进对除输出层以外所有层的模型参数进行微调。\n",
    "下面给出了源模型的成员变量`fc`。\n"
   ]
  },
  {
   "cell_type": "code",
   "execution_count": 7,
   "id": "d622c8fe",
   "metadata": {
    "execution": {
     "iopub.execute_input": "2023-08-18T07:09:28.563119Z",
     "iopub.status.busy": "2023-08-18T07:09:28.562608Z",
     "iopub.status.idle": "2023-08-18T07:09:28.568570Z",
     "shell.execute_reply": "2023-08-18T07:09:28.567682Z"
    },
    "origin_pos": 24,
    "tab": [
     "pytorch"
    ]
   },
   "source": [
    "pretrained_net.fc"
   ],
   "outputs": []
  },
  {
   "cell_type": "markdown",
   "id": "82b1edb2",
   "metadata": {
    "origin_pos": 25
   },
   "source": [
    "在ResNet的全局平均汇聚层后，全连接层转换为ImageNet数据集的1000个类输出。\n",
    "之后，我们构建一个新的神经网络作为目标模型。\n",
    "它的定义方式与预训练源模型的定义方式相同，只是最终层中的输出数量被设置为目标数据集中的类数（而不是1000个）。\n",
    "\n",
    "在下面的代码中，目标模型`finetune_net`中成员变量`features`的参数被初始化为源模型相应层的模型参数。\n",
    "由于模型参数是在ImageNet数据集上预训练的，并且足够好，因此通常只需要较小的学习率即可微调这些参数。\n",
    "\n",
    "成员变量`output`的参数是随机初始化的，通常需要更高的学习率才能从头开始训练。\n",
    "假设`Trainer`实例中的学习率为$\\eta$，我们将成员变量`output`中参数的学习率设置为$10\\eta$。\n"
   ]
  },
  {
   "cell_type": "code",
   "execution_count": 8,
   "id": "18ccccf4",
   "metadata": {
    "execution": {
     "iopub.execute_input": "2023-08-18T07:09:28.572805Z",
     "iopub.status.busy": "2023-08-18T07:09:28.572343Z",
     "iopub.status.idle": "2023-08-18T07:09:28.824724Z",
     "shell.execute_reply": "2023-08-18T07:09:28.823733Z"
    },
    "origin_pos": 27,
    "tab": [
     "pytorch"
    ]
   },
   "source": [
    "finetune_net = torchvision.models.resnet18(pretrained=True)\n",
    "finetune_net.fc = nn.Linear(finetune_net.fc.in_features, 2)\n",
    "nn.init.xavier_uniform_(finetune_net.fc.weight);"
   ],
   "outputs": []
  },
  {
   "cell_type": "markdown",
   "id": "d7f20fdb",
   "metadata": {
    "origin_pos": 29
   },
   "source": [
    "### [**微调模型**]\n",
    "\n",
    "首先，我们定义了一个训练函数`train_fine_tuning`，该函数使用微调，因此可以多次调用。\n"
   ]
  },
  {
   "cell_type": "code",
   "execution_count": 9,
   "id": "bb911459",
   "metadata": {
    "execution": {
     "iopub.execute_input": "2023-08-18T07:09:28.829772Z",
     "iopub.status.busy": "2023-08-18T07:09:28.829267Z",
     "iopub.status.idle": "2023-08-18T07:09:28.837208Z",
     "shell.execute_reply": "2023-08-18T07:09:28.836270Z"
    },
    "origin_pos": 31,
    "tab": [
     "pytorch"
    ]
   },
   "source": [
    "# 如果param_group=True，输出层中的模型参数将使用十倍的学习率\n",
    "def train_fine_tuning(net, learning_rate, batch_size=128, num_epochs=5,\n",
    "                      param_group=True):\n",
    "    train_iter = torch.utils.data.DataLoader(torchvision.datasets.ImageFolder(\n",
    "        os.path.join(data_dir, 'train'), transform=train_augs),\n",
    "        batch_size=batch_size, shuffle=True)\n",
    "    test_iter = torch.utils.data.DataLoader(torchvision.datasets.ImageFolder(\n",
    "        os.path.join(data_dir, 'test'), transform=test_augs),\n",
    "        batch_size=batch_size)\n",
    "    devices = d2l.try_all_gpus()\n",
    "    loss = nn.CrossEntropyLoss(reduction=\"none\")\n",
    "    if param_group:\n",
    "        params_1x = [param for name, param in net.named_parameters()\n",
    "             if name not in [\"fc.weight\", \"fc.bias\"]]\n",
    "        trainer = torch.optim.SGD([{'params': params_1x},\n",
    "                                   {'params': net.fc.parameters(),\n",
    "                                    'lr': learning_rate * 10}],\n",
    "                                lr=learning_rate, weight_decay=0.001)\n",
    "    else:\n",
    "        trainer = torch.optim.SGD(net.parameters(), lr=learning_rate,\n",
    "                                  weight_decay=0.001)\n",
    "    d2l.train_ch13(net, train_iter, test_iter, loss, trainer, num_epochs,\n",
    "                   devices)"
   ],
   "outputs": []
  },
  {
   "cell_type": "markdown",
   "id": "ca08a322",
   "metadata": {
    "origin_pos": 33
   },
   "source": [
    "我们[**使用较小的学习率**]，通过*微调*预训练获得的模型参数。\n"
   ]
  },
  {
   "cell_type": "code",
   "execution_count": 10,
   "id": "955d840b",
   "metadata": {
    "execution": {
     "iopub.execute_input": "2023-08-18T07:09:28.841211Z",
     "iopub.status.busy": "2023-08-18T07:09:28.840900Z",
     "iopub.status.idle": "2023-08-18T07:10:43.619696Z",
     "shell.execute_reply": "2023-08-18T07:10:43.618758Z"
    },
    "origin_pos": 35,
    "tab": [
     "pytorch"
    ]
   },
   "source": [
    "train_fine_tuning(finetune_net, 5e-5)"
   ],
   "outputs": []
  },
  {
   "cell_type": "markdown",
   "id": "292669f8",
   "metadata": {
    "origin_pos": 36
   },
   "source": [
    "[**为了进行比较，**]我们定义了一个相同的模型，但是将其(**所有模型参数初始化为随机值**)。\n",
    "由于整个模型需要从头开始训练，因此我们需要使用更大的学习率。\n"
   ]
  },
  {
   "cell_type": "code",
   "execution_count": 11,
   "id": "4006a8f7",
   "metadata": {
    "execution": {
     "iopub.execute_input": "2023-08-18T07:10:43.623482Z",
     "iopub.status.busy": "2023-08-18T07:10:43.622905Z",
     "iopub.status.idle": "2023-08-18T07:11:54.256773Z",
     "shell.execute_reply": "2023-08-18T07:11:54.255915Z"
    },
    "origin_pos": 38,
    "tab": [
     "pytorch"
    ]
   },
   "source": [
    "scratch_net = torchvision.models.resnet18()\n",
    "scratch_net.fc = nn.Linear(scratch_net.fc.in_features, 2)\n",
    "train_fine_tuning(scratch_net, 5e-4, param_group=False)"
   ],
   "outputs": []
  },
  {
   "cell_type": "markdown",
   "id": "c1c87e63",
   "metadata": {
    "origin_pos": 40
   },
   "source": [
    "意料之中，微调模型往往表现更好，因为它的初始参数值更有效。\n",
    "\n",
    "## 小结\n",
    "\n",
    "* 迁移学习将从源数据集中学到的知识*迁移*到目标数据集，微调是迁移学习的常见技巧。\n",
    "* 除输出层外，目标模型从源模型中复制所有模型设计及其参数，并根据目标数据集对这些参数进行微调。但是，目标模型的输出层需要从头开始训练。\n",
    "* 通常，微调参数使用较小的学习率，而从头开始训练输出层可以使用更大的学习率。\n",
    "\n",
    "## 练习\n",
    "\n",
    "1. 继续提高`finetune_net`的学习率，模型的准确性如何变化？\n",
    "2. 在比较实验中进一步调整`finetune_net`和`scratch_net`的超参数。它们的准确性还有不同吗？\n",
    "3. 将输出层`finetune_net`之前的参数设置为源模型的参数，在训练期间不要更新它们。模型的准确性如何变化？提示：可以使用以下代码。\n"
   ]
  },
  {
   "cell_type": "code",
   "execution_count": 12,
   "id": "83397a47",
   "metadata": {
    "execution": {
     "iopub.execute_input": "2023-08-18T07:11:54.260642Z",
     "iopub.status.busy": "2023-08-18T07:11:54.260057Z",
     "iopub.status.idle": "2023-08-18T07:11:54.264373Z",
     "shell.execute_reply": "2023-08-18T07:11:54.263562Z"
    },
    "origin_pos": 42,
    "tab": [
     "pytorch"
    ]
   },
   "source": [
    "for param in finetune_net.parameters():\n",
    "    param.requires_grad = False"
   ],
   "outputs": []
  },
  {
   "cell_type": "markdown",
   "id": "46fcba55",
   "metadata": {
    "origin_pos": 44
   },
   "source": [
    "4. 事实上，`ImageNet`数据集中有一个“热狗”类别。我们可以通过以下代码获取其输出层中的相应权重参数，但是我们怎样才能利用这个权重参数？\n"
   ]
  },
  {
   "cell_type": "code",
   "execution_count": 13,
   "id": "f2f48879",
   "metadata": {
    "execution": {
     "iopub.execute_input": "2023-08-18T07:11:54.267934Z",
     "iopub.status.busy": "2023-08-18T07:11:54.267262Z",
     "iopub.status.idle": "2023-08-18T07:11:54.274070Z",
     "shell.execute_reply": "2023-08-18T07:11:54.273270Z"
    },
    "origin_pos": 46,
    "tab": [
     "pytorch"
    ]
   },
   "source": [
    "weight = pretrained_net.fc.weight\n",
    "hotdog_w = torch.split(weight.data, 1, dim=0)[934]\n",
    "hotdog_w.shape"
   ],
   "outputs": []
  },
  {
   "cell_type": "markdown",
   "id": "e6efed0c",
   "metadata": {
    "origin_pos": 49,
    "tab": [
     "pytorch"
    ]
   },
   "source": [
    "[Discussions](https://discuss.d2l.ai/t/2894)\n"
   ]
  }
 ],
 "metadata": {
  "language_info": {
   "name": "python"
  },
  "required_libs": []
 },
 "nbformat": 4,
 "nbformat_minor": 5
}
