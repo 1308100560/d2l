{
 "cells": [
  {
   "cell_type": "markdown",
   "id": "34016c45",
   "metadata": {
    "origin_pos": 0
   },
   "source": [
    "# 多层感知机的简洁实现\n",
    ":label:`sec_mlp_concise`\n",
    "\n",
    "本节将介绍(**通过高级API更简洁地实现多层感知机**)。\n"
   ]
  },
  {
   "cell_type": "code",
   "execution_count": 1,
   "id": "ad1b7801",
   "metadata": {
    "execution": {
     "iopub.execute_input": "2023-08-18T07:24:45.837665Z",
     "iopub.status.busy": "2023-08-18T07:24:45.837103Z",
     "iopub.status.idle": "2023-08-18T07:24:48.723451Z",
     "shell.execute_reply": "2023-08-18T07:24:48.722229Z"
    },
    "origin_pos": 3,
    "tab": [
     "tensorflow"
    ]
   },
   "source": [
    "import tensorflow as tf\n",
    "from d2l import tensorflow as d2l"
   ],
   "outputs": []
  },
  {
   "cell_type": "markdown",
   "id": "a578f5fb",
   "metadata": {
    "origin_pos": 5
   },
   "source": [
    "## 模型\n",
    "\n",
    "与softmax回归的简洁实现（ :numref:`sec_softmax_concise`）相比，\n",
    "唯一的区别是我们添加了2个全连接层（之前我们只添加了1个全连接层）。\n",
    "第一层是[**隐藏层**]，它(**包含256个隐藏单元，并使用了ReLU激活函数**)。\n",
    "第二层是输出层。\n"
   ]
  },
  {
   "cell_type": "code",
   "execution_count": 2,
   "id": "95be0d4a",
   "metadata": {
    "execution": {
     "iopub.execute_input": "2023-08-18T07:24:48.831447Z",
     "iopub.status.busy": "2023-08-18T07:24:48.727262Z",
     "iopub.status.idle": "2023-08-18T07:24:49.939833Z",
     "shell.execute_reply": "2023-08-18T07:24:49.938559Z"
    },
    "origin_pos": 8,
    "tab": [
     "tensorflow"
    ]
   },
   "source": [
    "net = tf.keras.models.Sequential([\n",
    "    tf.keras.layers.Flatten(),\n",
    "    tf.keras.layers.Dense(256, activation='relu'),\n",
    "    tf.keras.layers.Dense(10)])"
   ],
   "outputs": []
  },
  {
   "cell_type": "markdown",
   "id": "5805dc05",
   "metadata": {
    "origin_pos": 10
   },
   "source": [
    "[**训练过程**]的实现与我们实现softmax回归时完全相同，\n",
    "这种模块化设计使我们能够将与模型架构有关的内容独立出来。\n"
   ]
  },
  {
   "cell_type": "code",
   "execution_count": 3,
   "id": "3c3e9c1a",
   "metadata": {
    "execution": {
     "iopub.execute_input": "2023-08-18T07:24:49.944344Z",
     "iopub.status.busy": "2023-08-18T07:24:49.943381Z",
     "iopub.status.idle": "2023-08-18T07:24:49.948975Z",
     "shell.execute_reply": "2023-08-18T07:24:49.947865Z"
    },
    "origin_pos": 13,
    "tab": [
     "tensorflow"
    ]
   },
   "source": [
    "batch_size, lr, num_epochs = 256, 0.1, 10\n",
    "loss = tf.keras.losses.SparseCategoricalCrossentropy(from_logits=True)\n",
    "trainer = tf.keras.optimizers.SGD(learning_rate=lr)"
   ],
   "outputs": []
  },
  {
   "cell_type": "code",
   "execution_count": 4,
   "id": "61e1e446",
   "metadata": {
    "execution": {
     "iopub.execute_input": "2023-08-18T07:24:49.952437Z",
     "iopub.status.busy": "2023-08-18T07:24:49.951963Z",
     "iopub.status.idle": "2023-08-18T07:25:16.726286Z",
     "shell.execute_reply": "2023-08-18T07:25:16.725422Z"
    },
    "origin_pos": 15,
    "tab": [
     "tensorflow"
    ]
   },
   "source": [
    "train_iter, test_iter = d2l.load_data_fashion_mnist(batch_size)\n",
    "d2l.train_ch3(net, train_iter, test_iter, loss, num_epochs, trainer)"
   ],
   "outputs": []
  },
  {
   "cell_type": "markdown",
   "id": "32ffcd30",
   "metadata": {
    "origin_pos": 16
   },
   "source": [
    "## 小结\n",
    "\n",
    "* 我们可以使用高级API更简洁地实现多层感知机。\n",
    "* 对于相同的分类问题，多层感知机的实现与softmax回归的实现相同，只是多层感知机的实现里增加了带有激活函数的隐藏层。\n",
    "\n",
    "## 练习\n",
    "\n",
    "1. 尝试添加不同数量的隐藏层（也可以修改学习率），怎么样设置效果最好？\n",
    "1. 尝试不同的激活函数，哪个效果最好？\n",
    "1. 尝试不同的方案来初始化权重，什么方法效果最好？\n"
   ]
  },
  {
   "cell_type": "markdown",
   "id": "397361f7",
   "metadata": {
    "origin_pos": 19,
    "tab": [
     "tensorflow"
    ]
   },
   "source": [
    "[Discussions](https://discuss.d2l.ai/t/1801)\n"
   ]
  }
 ],
 "metadata": {
  "language_info": {
   "name": "python"
  },
  "required_libs": []
 },
 "nbformat": 4,
 "nbformat_minor": 5
}
