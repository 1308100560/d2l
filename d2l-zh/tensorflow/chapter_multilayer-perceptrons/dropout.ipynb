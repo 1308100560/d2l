{
 "cells": [
  {
   "cell_type": "markdown",
   "id": "e58b6f57",
   "metadata": {
    "origin_pos": 0
   },
   "source": [
    "# 暂退法（Dropout）\n",
    ":label:`sec_dropout`\n",
    "\n",
    "在 :numref:`sec_weight_decay` 中，\n",
    "我们介绍了通过惩罚权重的$L_2$范数来正则化统计模型的经典方法。\n",
    "在概率角度看，我们可以通过以下论证来证明这一技术的合理性：\n",
    "我们已经假设了一个先验，即权重的值取自均值为0的高斯分布。\n",
    "更直观的是，我们希望模型深度挖掘特征，即将其权重分散到许多特征中，\n",
    "而不是过于依赖少数潜在的虚假关联。\n",
    "\n",
    "## 重新审视过拟合\n",
    "\n",
    "当面对更多的特征而样本不足时，线性模型往往会过拟合。\n",
    "相反，当给出更多样本而不是特征，通常线性模型不会过拟合。\n",
    "不幸的是，线性模型泛化的可靠性是有代价的。\n",
    "简单地说，线性模型没有考虑到特征之间的交互作用。\n",
    "对于每个特征，线性模型必须指定正的或负的权重，而忽略其他特征。\n",
    "\n",
    "泛化性和灵活性之间的这种基本权衡被描述为*偏差-方差权衡*（bias-variance tradeoff）。\n",
    "线性模型有很高的偏差：它们只能表示一小类函数。\n",
    "然而，这些模型的方差很低：它们在不同的随机数据样本上可以得出相似的结果。\n",
    "\n",
    "深度神经网络位于偏差-方差谱的另一端。\n",
    "与线性模型不同，神经网络并不局限于单独查看每个特征，而是学习特征之间的交互。\n",
    "例如，神经网络可能推断“尼日利亚”和“西联汇款”一起出现在电子邮件中表示垃圾邮件，\n",
    "但单独出现则不表示垃圾邮件。\n",
    "\n",
    "即使我们有比特征多得多的样本，深度神经网络也有可能过拟合。\n",
    "2017年，一组研究人员通过在随机标记的图像上训练深度网络。\n",
    "这展示了神经网络的极大灵活性，因为人类很难将输入和随机标记的输出联系起来，\n",
    "但通过随机梯度下降优化的神经网络可以完美地标记训练集中的每一幅图像。\n",
    "想一想这意味着什么？\n",
    "假设标签是随机均匀分配的，并且有10个类别，那么分类器在测试数据上很难取得高于10%的精度，\n",
    "那么这里的泛化差距就高达90%，如此严重的过拟合。\n",
    "\n",
    "深度网络的泛化性质令人费解，而这种泛化性质的数学基础仍然是悬而未决的研究问题。\n",
    "我们鼓励喜好研究理论的读者更深入地研究这个主题。\n",
    "本节，我们将着重对实际工具的探究，这些工具倾向于改进深层网络的泛化性。\n",
    "\n",
    "## 扰动的稳健性\n",
    "\n",
    "在探究泛化性之前，我们先来定义一下什么是一个“好”的预测模型？\n",
    "我们期待“好”的预测模型能在未知的数据上有很好的表现：\n",
    "经典泛化理论认为，为了缩小训练和测试性能之间的差距，应该以简单的模型为目标。\n",
    "简单性以较小维度的形式展现，\n",
    "我们在 :numref:`sec_model_selection` 讨论线性模型的单项式函数时探讨了这一点。\n",
    "此外，正如我们在 :numref:`sec_weight_decay` 中讨论权重衰减（$L_2$正则化）时看到的那样，\n",
    "参数的范数也代表了一种有用的简单性度量。\n",
    "\n",
    "简单性的另一个角度是平滑性，即函数不应该对其输入的微小变化敏感。\n",
    "例如，当我们对图像进行分类时，我们预计向像素添加一些随机噪声应该是基本无影响的。\n",
    "1995年，克里斯托弗·毕晓普证明了\n",
    "具有输入噪声的训练等价于Tikhonov正则化 :cite:`Bishop.1995`。\n",
    "这项工作用数学证实了“要求函数光滑”和“要求函数对输入的随机噪声具有适应性”之间的联系。\n",
    "\n",
    "然后在2014年，斯里瓦斯塔瓦等人 :cite:`Srivastava.Hinton.Krizhevsky.ea.2014`\n",
    "就如何将毕晓普的想法应用于网络的内部层提出了一个想法：\n",
    "在训练过程中，他们建议在计算后续层之前向网络的每一层注入噪声。\n",
    "因为当训练一个有多层的深层网络时，注入噪声只会在输入-输出映射上增强平滑性。\n",
    "\n",
    "这个想法被称为*暂退法*（dropout）。\n",
    "暂退法在前向传播过程中，计算每一内部层的同时注入噪声，这已经成为训练神经网络的常用技术。\n",
    "这种方法之所以被称为*暂退法*，因为我们从表面上看是在训练过程中丢弃（drop out）一些神经元。\n",
    "在整个训练过程的每一次迭代中，标准暂退法包括在计算下一层之前将当前层中的一些节点置零。\n",
    "\n",
    "需要说明的是，暂退法的原始论文提到了一个关于有性繁殖的类比：\n",
    "神经网络过拟合与每一层都依赖于前一层激活值相关，称这种情况为“共适应性”。\n",
    "作者认为，暂退法会破坏共适应性，就像有性生殖会破坏共适应的基因一样。\n",
    "\n",
    "那么关键的挑战就是如何注入这种噪声。\n",
    "一种想法是以一种*无偏向*（unbiased）的方式注入噪声。\n",
    "这样在固定住其他层时，每一层的期望值等于没有噪音时的值。\n",
    "\n",
    "在毕晓普的工作中，他将高斯噪声添加到线性模型的输入中。\n",
    "在每次训练迭代中，他将从均值为零的分布$\\epsilon \\sim \\mathcal{N}(0,\\sigma^2)$\n",
    "采样噪声添加到输入$\\mathbf{x}$，\n",
    "从而产生扰动点$\\mathbf{x}' = \\mathbf{x} + \\epsilon$，\n",
    "预期是$E[\\mathbf{x}'] = \\mathbf{x}$。\n",
    "\n",
    "在标准暂退法正则化中，通过按保留（未丢弃）的节点的分数进行规范化来消除每一层的偏差。\n",
    "换言之，每个中间活性值$h$以*暂退概率*$p$由随机变量$h'$替换，如下所示：\n",
    "\n",
    "$$\n",
    "\\begin{aligned}\n",
    "h' =\n",
    "\\begin{cases}\n",
    "    0 & \\text{ 概率为 } p \\\\\n",
    "    \\frac{h}{1-p} & \\text{ 其他情况}\n",
    "\\end{cases}\n",
    "\\end{aligned}\n",
    "$$\n",
    "\n",
    "根据此模型的设计，其期望值保持不变，即$E[h'] = h$。\n",
    "\n",
    "## 实践中的暂退法\n",
    "\n",
    "回想一下 :numref:`fig_mlp`中带有1个隐藏层和5个隐藏单元的多层感知机。\n",
    "当我们将暂退法应用到隐藏层，以$p$的概率将隐藏单元置为零时，\n",
    "结果可以看作一个只包含原始神经元子集的网络。\n",
    "比如在 :numref:`fig_dropout2`中，删除了$h_2$和$h_5$，\n",
    "因此输出的计算不再依赖于$h_2$或$h_5$，并且它们各自的梯度在执行反向传播时也会消失。\n",
    "这样，输出层的计算不能过度依赖于$h_1, \\ldots, h_5$的任何一个元素。\n",
    "\n",
    "![dropout前后的多层感知机](../img/dropout2.svg)\n",
    ":label:`fig_dropout2`\n",
    "\n",
    "通常，我们在测试时不用暂退法。\n",
    "给定一个训练好的模型和一个新的样本，我们不会丢弃任何节点，因此不需要标准化。\n",
    "然而也有一些例外：一些研究人员在测试时使用暂退法，\n",
    "用于估计神经网络预测的“不确定性”：\n",
    "如果通过许多不同的暂退法遮盖后得到的预测结果都是一致的，那么我们可以说网络发挥更稳定。\n",
    "\n",
    "## 从零开始实现\n",
    "\n",
    "要实现单层的暂退法函数，\n",
    "我们从均匀分布$U[0, 1]$中抽取样本，样本数与这层神经网络的维度一致。\n",
    "然后我们保留那些对应样本大于$p$的节点，把剩下的丢弃。\n",
    "\n",
    "在下面的代码中，(**我们实现 `dropout_layer` 函数，\n",
    "该函数以`dropout`的概率丢弃张量输入`X`中的元素**)，\n",
    "如上所述重新缩放剩余部分：将剩余部分除以`1.0-dropout`。\n"
   ]
  },
  {
   "cell_type": "code",
   "execution_count": 1,
   "id": "2ca9909f",
   "metadata": {
    "execution": {
     "iopub.execute_input": "2023-08-18T07:34:23.197817Z",
     "iopub.status.busy": "2023-08-18T07:34:23.197047Z",
     "iopub.status.idle": "2023-08-18T07:34:26.104917Z",
     "shell.execute_reply": "2023-08-18T07:34:26.104013Z"
    },
    "origin_pos": 3,
    "tab": [
     "tensorflow"
    ]
   },
   "source": [
    "import tensorflow as tf\n",
    "from d2l import tensorflow as d2l\n",
    "\n",
    "\n",
    "def dropout_layer(X, dropout):\n",
    "    assert 0 <= dropout <= 1\n",
    "    # 在本情况中，所有元素都被丢弃\n",
    "    if dropout == 1:\n",
    "        return tf.zeros_like(X)\n",
    "    # 在本情况中，所有元素都被保留\n",
    "    if dropout == 0:\n",
    "        return X\n",
    "    mask = tf.random.uniform(\n",
    "        shape=tf.shape(X), minval=0, maxval=1) < 1 - dropout\n",
    "    return tf.cast(mask, dtype=tf.float32) * X / (1.0 - dropout)"
   ],
   "outputs": []
  },
  {
   "cell_type": "markdown",
   "id": "57ceb9e6",
   "metadata": {
    "origin_pos": 5
   },
   "source": [
    "我们可以通过下面几个例子来[**测试`dropout_layer`函数**]。\n",
    "我们将输入`X`通过暂退法操作，暂退概率分别为0、0.5和1。\n"
   ]
  },
  {
   "cell_type": "code",
   "execution_count": 2,
   "id": "35c1755f",
   "metadata": {
    "execution": {
     "iopub.execute_input": "2023-08-18T07:34:26.110688Z",
     "iopub.status.busy": "2023-08-18T07:34:26.109950Z",
     "iopub.status.idle": "2023-08-18T07:34:28.310239Z",
     "shell.execute_reply": "2023-08-18T07:34:28.309321Z"
    },
    "origin_pos": 8,
    "tab": [
     "tensorflow"
    ]
   },
   "source": [
    "X = tf.reshape(tf.range(16, dtype=tf.float32), (2, 8))\n",
    "print(X)\n",
    "print(dropout_layer(X, 0.))\n",
    "print(dropout_layer(X, 0.5))\n",
    "print(dropout_layer(X, 1.))"
   ],
   "outputs": []
  },
  {
   "cell_type": "markdown",
   "id": "4c47b6fa",
   "metadata": {
    "origin_pos": 10
   },
   "source": [
    "### 定义模型参数\n",
    "\n",
    "同样，我们使用 :numref:`sec_fashion_mnist`中引入的Fashion-MNIST数据集。\n",
    "我们[**定义具有两个隐藏层的多层感知机，每个隐藏层包含256个单元**]。\n"
   ]
  },
  {
   "cell_type": "code",
   "execution_count": 3,
   "id": "0064cd45",
   "metadata": {
    "execution": {
     "iopub.execute_input": "2023-08-18T07:34:28.314145Z",
     "iopub.status.busy": "2023-08-18T07:34:28.313546Z",
     "iopub.status.idle": "2023-08-18T07:34:28.317935Z",
     "shell.execute_reply": "2023-08-18T07:34:28.316926Z"
    },
    "origin_pos": 13,
    "tab": [
     "tensorflow"
    ]
   },
   "source": [
    "num_outputs, num_hiddens1, num_hiddens2 = 10, 256, 256"
   ],
   "outputs": []
  },
  {
   "cell_type": "markdown",
   "id": "bc0d573b",
   "metadata": {
    "origin_pos": 14
   },
   "source": [
    "### 定义模型\n",
    "\n",
    "我们可以将暂退法应用于每个隐藏层的输出（在激活函数之后），\n",
    "并且可以为每一层分别设置暂退概率：\n",
    "常见的技巧是在靠近输入层的地方设置较低的暂退概率。\n",
    "下面的模型将第一个和第二个隐藏层的暂退概率分别设置为0.2和0.5，\n",
    "并且暂退法只在训练期间有效。\n"
   ]
  },
  {
   "cell_type": "code",
   "execution_count": 4,
   "id": "daf5e9d3",
   "metadata": {
    "execution": {
     "iopub.execute_input": "2023-08-18T07:34:28.321721Z",
     "iopub.status.busy": "2023-08-18T07:34:28.321183Z",
     "iopub.status.idle": "2023-08-18T07:34:28.338014Z",
     "shell.execute_reply": "2023-08-18T07:34:28.337172Z"
    },
    "origin_pos": 17,
    "tab": [
     "tensorflow"
    ]
   },
   "source": [
    "dropout1, dropout2 = 0.2, 0.5\n",
    "\n",
    "class Net(tf.keras.Model):\n",
    "    def __init__(self, num_outputs, num_hiddens1, num_hiddens2):\n",
    "        super().__init__()\n",
    "        self.input_layer = tf.keras.layers.Flatten()\n",
    "        self.hidden1 = tf.keras.layers.Dense(num_hiddens1, activation='relu')\n",
    "        self.hidden2 = tf.keras.layers.Dense(num_hiddens2, activation='relu')\n",
    "        self.output_layer = tf.keras.layers.Dense(num_outputs)\n",
    "\n",
    "    def call(self, inputs, training=None):\n",
    "        x = self.input_layer(inputs)\n",
    "        x = self.hidden1(x)\n",
    "        # 只有在训练模型时才使用dropout\n",
    "        if training:\n",
    "            # 在第一个全连接层之后添加一个dropout层\n",
    "            x = dropout_layer(x, dropout1)\n",
    "        x = self.hidden2(x)\n",
    "        if training:\n",
    "            # 在第二个全连接层之后添加一个dropout层\n",
    "            x = dropout_layer(x, dropout2)\n",
    "        x = self.output_layer(x)\n",
    "        return x\n",
    "\n",
    "net = Net(num_outputs, num_hiddens1, num_hiddens2)"
   ],
   "outputs": []
  },
  {
   "cell_type": "markdown",
   "id": "cfaa03dd",
   "metadata": {
    "origin_pos": 19
   },
   "source": [
    "### [**训练和测试**]\n",
    "\n",
    "这类似于前面描述的多层感知机训练和测试。\n"
   ]
  },
  {
   "cell_type": "code",
   "execution_count": 5,
   "id": "b655aa86",
   "metadata": {
    "execution": {
     "iopub.execute_input": "2023-08-18T07:34:28.341563Z",
     "iopub.status.busy": "2023-08-18T07:34:28.341016Z",
     "iopub.status.idle": "2023-08-18T07:35:00.306670Z",
     "shell.execute_reply": "2023-08-18T07:35:00.305780Z"
    },
    "origin_pos": 22,
    "tab": [
     "tensorflow"
    ]
   },
   "source": [
    "num_epochs, lr, batch_size = 10, 0.5, 256\n",
    "loss = tf.keras.losses.SparseCategoricalCrossentropy(from_logits=True)\n",
    "train_iter, test_iter = d2l.load_data_fashion_mnist(batch_size)\n",
    "trainer = tf.keras.optimizers.SGD(learning_rate=lr)\n",
    "d2l.train_ch3(net, train_iter, test_iter, loss, num_epochs, trainer)"
   ],
   "outputs": []
  },
  {
   "cell_type": "markdown",
   "id": "d6a02220",
   "metadata": {
    "origin_pos": 24
   },
   "source": [
    "## [**简洁实现**]\n",
    "\n",
    "对于深度学习框架的高级API，我们只需在每个全连接层之后添加一个`Dropout`层，\n",
    "将暂退概率作为唯一的参数传递给它的构造函数。\n",
    "在训练时，`Dropout`层将根据指定的暂退概率随机丢弃上一层的输出（相当于下一层的输入）。\n",
    "在测试时，`Dropout`层仅传递数据。\n"
   ]
  },
  {
   "cell_type": "code",
   "execution_count": 6,
   "id": "9e466558",
   "metadata": {
    "execution": {
     "iopub.execute_input": "2023-08-18T07:35:00.310560Z",
     "iopub.status.busy": "2023-08-18T07:35:00.309980Z",
     "iopub.status.idle": "2023-08-18T07:35:00.322926Z",
     "shell.execute_reply": "2023-08-18T07:35:00.322103Z"
    },
    "origin_pos": 27,
    "tab": [
     "tensorflow"
    ]
   },
   "source": [
    "net = tf.keras.models.Sequential([\n",
    "    tf.keras.layers.Flatten(),\n",
    "    tf.keras.layers.Dense(256, activation=tf.nn.relu),\n",
    "    # 在第一个全连接层之后添加一个dropout层\n",
    "    tf.keras.layers.Dropout(dropout1),\n",
    "    tf.keras.layers.Dense(256, activation=tf.nn.relu),\n",
    "    # 在第二个全连接层之后添加一个dropout层\n",
    "    tf.keras.layers.Dropout(dropout2),\n",
    "    tf.keras.layers.Dense(10),\n",
    "])"
   ],
   "outputs": []
  },
  {
   "cell_type": "markdown",
   "id": "f93c75b9",
   "metadata": {
    "origin_pos": 29
   },
   "source": [
    "接下来，我们[**对模型进行训练和测试**]。\n"
   ]
  },
  {
   "cell_type": "code",
   "execution_count": 7,
   "id": "5d1ebadd",
   "metadata": {
    "execution": {
     "iopub.execute_input": "2023-08-18T07:35:00.326611Z",
     "iopub.status.busy": "2023-08-18T07:35:00.326045Z",
     "iopub.status.idle": "2023-08-18T07:35:32.319417Z",
     "shell.execute_reply": "2023-08-18T07:35:32.318580Z"
    },
    "origin_pos": 32,
    "tab": [
     "tensorflow"
    ]
   },
   "source": [
    "trainer = tf.keras.optimizers.SGD(learning_rate=lr)\n",
    "d2l.train_ch3(net, train_iter, test_iter, loss, num_epochs, trainer)"
   ],
   "outputs": []
  },
  {
   "cell_type": "markdown",
   "id": "4629aca1",
   "metadata": {
    "origin_pos": 34
   },
   "source": [
    "## 小结\n",
    "\n",
    "* 暂退法在前向传播过程中，计算每一内部层的同时丢弃一些神经元。\n",
    "* 暂退法可以避免过拟合，它通常与控制权重向量的维数和大小结合使用的。\n",
    "* 暂退法将活性值$h$替换为具有期望值$h$的随机变量。\n",
    "* 暂退法仅在训练期间使用。\n",
    "\n",
    "## 练习\n",
    "\n",
    "1. 如果更改第一层和第二层的暂退法概率，会发生什么情况？具体地说，如果交换这两个层，会发生什么情况？设计一个实验来回答这些问题，定量描述该结果，并总结定性的结论。\n",
    "1. 增加训练轮数，并将使用暂退法和不使用暂退法时获得的结果进行比较。\n",
    "1. 当应用或不应用暂退法时，每个隐藏层中激活值的方差是多少？绘制一个曲线图，以显示这两个模型的每个隐藏层中激活值的方差是如何随时间变化的。\n",
    "1. 为什么在测试时通常不使用暂退法？\n",
    "1. 以本节中的模型为例，比较使用暂退法和权重衰减的效果。如果同时使用暂退法和权重衰减，会发生什么情况？结果是累加的吗？收益是否减少（或者说更糟）？它们互相抵消了吗？\n",
    "1. 如果我们将暂退法应用到权重矩阵的各个权重，而不是激活值，会发生什么？\n",
    "1. 发明另一种用于在每一层注入随机噪声的技术，该技术不同于标准的暂退法技术。尝试开发一种在Fashion-MNIST数据集（对于固定架构）上性能优于暂退法的方法。\n"
   ]
  },
  {
   "cell_type": "markdown",
   "id": "694ee175",
   "metadata": {
    "origin_pos": 37,
    "tab": [
     "tensorflow"
    ]
   },
   "source": [
    "[Discussions](https://discuss.d2l.ai/t/1811)\n"
   ]
  }
 ],
 "metadata": {
  "language_info": {
   "name": "python"
  },
  "required_libs": []
 },
 "nbformat": 4,
 "nbformat_minor": 5
}
