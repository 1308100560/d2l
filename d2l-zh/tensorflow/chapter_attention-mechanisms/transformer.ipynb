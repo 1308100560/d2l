{
 "cells": [
  {
   "cell_type": "markdown",
   "id": "b5b68c59",
   "metadata": {
    "origin_pos": 0
   },
   "source": [
    "# Transformer\n",
    ":label:`sec_transformer`\n",
    "\n",
    " :numref:`subsec_cnn-rnn-self-attention`中比较了卷积神经网络（CNN）、循环神经网络（RNN）和自注意力（self-attention）。值得注意的是，自注意力同时具有并行计算和最短的最大路径长度这两个优势。因此，使用自注意力来设计深度架构是很有吸引力的。对比之前仍然依赖循环神经网络实现输入表示的自注意力模型 :cite:`Cheng.Dong.Lapata.2016,Lin.Feng.Santos.ea.2017,Paulus.Xiong.Socher.2017`，Transformer模型完全基于注意力机制，没有任何卷积层或循环神经网络层 :cite:`Vaswani.Shazeer.Parmar.ea.2017`。尽管Transformer最初是应用于在文本数据上的序列到序列学习，但现在已经推广到各种现代的深度学习中，例如语言、视觉、语音和强化学习领域。\n",
    "\n",
    "## 模型\n",
    "\n",
    "Transformer作为编码器－解码器架构的一个实例，其整体架构图在 :numref:`fig_transformer`中展示。正如所见到的，Transformer是由编码器和解码器组成的。与 :numref:`fig_s2s_attention_details`中基于Bahdanau注意力实现的序列到序列的学习相比，Transformer的编码器和解码器是基于自注意力的模块叠加而成的，源（输入）序列和目标（输出）序列的*嵌入*（embedding）表示将加上*位置编码*（positional encoding），再分别输入到编码器和解码器中。\n",
    "\n",
    "![transformer架构](../img/transformer.svg)\n",
    ":width:`500px`\n",
    ":label:`fig_transformer`\n",
    "\n",
    "图 :numref:`fig_transformer`中概述了Transformer的架构。从宏观角度来看，Transformer的编码器是由多个相同的层叠加而成的，每个层都有两个子层（子层表示为$\\mathrm{sublayer}$）。第一个子层是*多头自注意力*（multi-head self-attention）汇聚；第二个子层是*基于位置的前馈网络*（positionwise feed-forward network）。具体来说，在计算编码器的自注意力时，查询、键和值都来自前一个编码器层的输出。受 :numref:`sec_resnet`中残差网络的启发，每个子层都采用了*残差连接*（residual connection）。在Transformer中，对于序列中任何位置的任何输入$\\mathbf{x} \\in \\mathbb{R}^d$，都要求满足$\\mathrm{sublayer}(\\mathbf{x}) \\in \\mathbb{R}^d$，以便残差连接满足$\\mathbf{x} + \\mathrm{sublayer}(\\mathbf{x}) \\in \\mathbb{R}^d$。在残差连接的加法计算之后，紧接着应用*层规范化*（layer normalization） :cite:`Ba.Kiros.Hinton.2016`。因此，输入序列对应的每个位置，Transformer编码器都将输出一个$d$维表示向量。\n",
    "\n",
    "Transformer解码器也是由多个相同的层叠加而成的，并且层中使用了残差连接和层规范化。除了编码器中描述的两个子层之外，解码器还在这两个子层之间插入了第三个子层，称为*编码器－解码器注意力*（encoder-decoder attention）层。在编码器－解码器注意力中，查询来自前一个解码器层的输出，而键和值来自整个编码器的输出。在解码器自注意力中，查询、键和值都来自上一个解码器层的输出。但是，解码器中的每个位置只能考虑该位置之前的所有位置。这种*掩蔽*（masked）注意力保留了*自回归*（auto-regressive）属性，确保预测仅依赖于已生成的输出词元。\n",
    "\n",
    "在此之前已经描述并实现了基于缩放点积多头注意力 :numref:`sec_multihead-attention`和位置编码 :numref:`subsec_positional-encoding`。接下来将实现Transformer模型的剩余部分。\n"
   ]
  },
  {
   "cell_type": "code",
   "execution_count": 1,
   "id": "1e9f171b",
   "metadata": {
    "execution": {
     "iopub.execute_input": "2023-08-18T06:58:56.037923Z",
     "iopub.status.busy": "2023-08-18T06:58:56.036977Z",
     "iopub.status.idle": "2023-08-18T06:58:59.232254Z",
     "shell.execute_reply": "2023-08-18T06:58:59.231328Z"
    },
    "origin_pos": 3,
    "tab": [
     "tensorflow"
    ]
   },
   "source": [
    "import numpy as np\n",
    "import pandas as pd\n",
    "import tensorflow as tf\n",
    "from d2l import tensorflow as d2l"
   ],
   "outputs": []
  },
  {
   "cell_type": "markdown",
   "id": "e9e4e63b",
   "metadata": {
    "origin_pos": 5
   },
   "source": [
    "## [**基于位置的前馈网络**]\n",
    "\n",
    "基于位置的前馈网络对序列中的所有位置的表示进行变换时使用的是同一个多层感知机（MLP），这就是称前馈网络是*基于位置的*（positionwise）的原因。在下面的实现中，输入`X`的形状（批量大小，时间步数或序列长度，隐单元数或特征维度）将被一个两层的感知机转换成形状为（批量大小，时间步数，`ffn_num_outputs`）的输出张量。\n"
   ]
  },
  {
   "cell_type": "code",
   "execution_count": 2,
   "id": "db218bab",
   "metadata": {
    "execution": {
     "iopub.execute_input": "2023-08-18T06:58:59.236955Z",
     "iopub.status.busy": "2023-08-18T06:58:59.236056Z",
     "iopub.status.idle": "2023-08-18T06:58:59.242047Z",
     "shell.execute_reply": "2023-08-18T06:58:59.241269Z"
    },
    "origin_pos": 8,
    "tab": [
     "tensorflow"
    ]
   },
   "source": [
    "#@save\n",
    "class PositionWiseFFN(tf.keras.layers.Layer):\n",
    "    \"\"\"基于位置的前馈网络\"\"\"\n",
    "    def __init__(self, ffn_num_hiddens, ffn_num_outputs, **kwargs):\n",
    "        super().__init__(*kwargs)\n",
    "        self.dense1 = tf.keras.layers.Dense(ffn_num_hiddens)\n",
    "        self.relu = tf.keras.layers.ReLU()\n",
    "        self.dense2 = tf.keras.layers.Dense(ffn_num_outputs)\n",
    "\n",
    "    def call(self, X):\n",
    "        return self.dense2(self.relu(self.dense1(X)))"
   ],
   "outputs": []
  },
  {
   "cell_type": "markdown",
   "id": "6cf18ad4",
   "metadata": {
    "origin_pos": 10
   },
   "source": [
    "下面的例子显示，[**改变张量的最里层维度的尺寸**]，会改变成基于位置的前馈网络的输出尺寸。因为用同一个多层感知机对所有位置上的输入进行变换，所以当所有这些位置的输入相同时，它们的输出也是相同的。\n"
   ]
  },
  {
   "cell_type": "code",
   "execution_count": 3,
   "id": "420fb2b6",
   "metadata": {
    "execution": {
     "iopub.execute_input": "2023-08-18T06:58:59.245628Z",
     "iopub.status.busy": "2023-08-18T06:58:59.245093Z",
     "iopub.status.idle": "2023-08-18T06:59:03.043038Z",
     "shell.execute_reply": "2023-08-18T06:59:03.042067Z"
    },
    "origin_pos": 13,
    "tab": [
     "tensorflow"
    ]
   },
   "source": [
    "ffn = PositionWiseFFN(4, 8)\n",
    "ffn(tf.ones((2, 3, 4)))[0]"
   ],
   "outputs": []
  },
  {
   "cell_type": "markdown",
   "id": "3f3558d3",
   "metadata": {
    "origin_pos": 15
   },
   "source": [
    "## 残差连接和层规范化\n",
    "\n",
    "现在让我们关注 :numref:`fig_transformer`中的*加法和规范化*（add&norm）组件。正如在本节开头所述，这是由残差连接和紧随其后的层规范化组成的。两者都是构建有效的深度架构的关键。\n",
    "\n",
    " :numref:`sec_batch_norm`中解释了在一个小批量的样本内基于批量规范化对数据进行重新中心化和重新缩放的调整。层规范化和批量规范化的目标相同，但层规范化是基于特征维度进行规范化。尽管批量规范化在计算机视觉中被广泛应用，但在自然语言处理任务中（输入通常是变长序列）批量规范化通常不如层规范化的效果好。\n",
    "\n",
    "以下代码[**对比不同维度的层规范化和批量规范化的效果**]。\n"
   ]
  },
  {
   "cell_type": "code",
   "execution_count": 4,
   "id": "83088c0c",
   "metadata": {
    "execution": {
     "iopub.execute_input": "2023-08-18T06:59:03.047357Z",
     "iopub.status.busy": "2023-08-18T06:59:03.046766Z",
     "iopub.status.idle": "2023-08-18T06:59:03.339945Z",
     "shell.execute_reply": "2023-08-18T06:59:03.339079Z"
    },
    "origin_pos": 18,
    "tab": [
     "tensorflow"
    ]
   },
   "source": [
    "ln = tf.keras.layers.LayerNormalization()\n",
    "bn = tf.keras.layers.BatchNormalization()\n",
    "X = tf.constant([[1, 2], [2, 3]], dtype=tf.float32)\n",
    "print('layer norm:', ln(X), '\\nbatch norm:', bn(X, training=True))"
   ],
   "outputs": []
  },
  {
   "cell_type": "markdown",
   "id": "2f1c2e5b",
   "metadata": {
    "origin_pos": 20
   },
   "source": [
    "现在可以[**使用残差连接和层规范化**]来实现`AddNorm`类。暂退法也被作为正则化方法使用。\n"
   ]
  },
  {
   "cell_type": "code",
   "execution_count": 5,
   "id": "96126cc1",
   "metadata": {
    "execution": {
     "iopub.execute_input": "2023-08-18T06:59:03.343486Z",
     "iopub.status.busy": "2023-08-18T06:59:03.343200Z",
     "iopub.status.idle": "2023-08-18T06:59:03.348769Z",
     "shell.execute_reply": "2023-08-18T06:59:03.347976Z"
    },
    "origin_pos": 23,
    "tab": [
     "tensorflow"
    ]
   },
   "source": [
    "#@save\n",
    "class AddNorm(tf.keras.layers.Layer):\n",
    "    \"\"\"残差连接后进行层规范化\"\"\"\n",
    "    def __init__(self, normalized_shape, dropout, **kwargs):\n",
    "        super().__init__(**kwargs)\n",
    "        self.dropout = tf.keras.layers.Dropout(dropout)\n",
    "        self.ln = tf.keras.layers.LayerNormalization(normalized_shape)\n",
    "\n",
    "    def call(self, X, Y, **kwargs):\n",
    "        return self.ln(self.dropout(Y, **kwargs) + X)"
   ],
   "outputs": []
  },
  {
   "cell_type": "markdown",
   "id": "14c469d0",
   "metadata": {
    "origin_pos": 25
   },
   "source": [
    "残差连接要求两个输入的形状相同，以便[**加法操作后输出张量的形状相同**]。\n"
   ]
  },
  {
   "cell_type": "code",
   "execution_count": 6,
   "id": "a53145e0",
   "metadata": {
    "execution": {
     "iopub.execute_input": "2023-08-18T06:59:03.352032Z",
     "iopub.status.busy": "2023-08-18T06:59:03.351755Z",
     "iopub.status.idle": "2023-08-18T06:59:03.367047Z",
     "shell.execute_reply": "2023-08-18T06:59:03.366217Z"
    },
    "origin_pos": 28,
    "tab": [
     "tensorflow"
    ]
   },
   "source": [
    "add_norm = AddNorm([1, 2], 0.5)\n",
    "add_norm(tf.ones((2, 3, 4)), tf.ones((2, 3, 4)), training=False).shape"
   ],
   "outputs": []
  },
  {
   "cell_type": "markdown",
   "id": "0dd99505",
   "metadata": {
    "origin_pos": 29
   },
   "source": [
    "## 编码器\n",
    "\n",
    "有了组成Transformer编码器的基础组件，现在可以先[**实现编码器中的一个层**]。下面的`EncoderBlock`类包含两个子层：多头自注意力和基于位置的前馈网络，这两个子层都使用了残差连接和紧随的层规范化。\n"
   ]
  },
  {
   "cell_type": "code",
   "execution_count": 7,
   "id": "d7e03d97",
   "metadata": {
    "execution": {
     "iopub.execute_input": "2023-08-18T06:59:03.370540Z",
     "iopub.status.busy": "2023-08-18T06:59:03.370257Z",
     "iopub.status.idle": "2023-08-18T06:59:03.376634Z",
     "shell.execute_reply": "2023-08-18T06:59:03.375793Z"
    },
    "origin_pos": 32,
    "tab": [
     "tensorflow"
    ]
   },
   "source": [
    "#@save\n",
    "class EncoderBlock(tf.keras.layers.Layer):\n",
    "    \"\"\"Transformer编码器块\"\"\"\n",
    "    def __init__(self, key_size, query_size, value_size, num_hiddens,\n",
    "                 norm_shape, ffn_num_hiddens, num_heads, dropout, bias=False, **kwargs):\n",
    "        super().__init__(**kwargs)\n",
    "        self.attention = d2l.MultiHeadAttention(key_size, query_size, value_size, num_hiddens,\n",
    "                                                num_heads, dropout, bias)\n",
    "        self.addnorm1 = AddNorm(norm_shape, dropout)\n",
    "        self.ffn = PositionWiseFFN(ffn_num_hiddens, num_hiddens)\n",
    "        self.addnorm2 = AddNorm(norm_shape, dropout)\n",
    "\n",
    "    def call(self, X, valid_lens, **kwargs):\n",
    "        Y = self.addnorm1(X, self.attention(X, X, X, valid_lens, **kwargs), **kwargs)\n",
    "        return self.addnorm2(Y, self.ffn(Y), **kwargs)"
   ],
   "outputs": []
  },
  {
   "cell_type": "markdown",
   "id": "9f02bea8",
   "metadata": {
    "origin_pos": 34
   },
   "source": [
    "正如从代码中所看到的，[**Transformer编码器中的任何层都不会改变其输入的形状**]。\n"
   ]
  },
  {
   "cell_type": "code",
   "execution_count": 8,
   "id": "f6015d6d",
   "metadata": {
    "execution": {
     "iopub.execute_input": "2023-08-18T06:59:03.379893Z",
     "iopub.status.busy": "2023-08-18T06:59:03.379589Z",
     "iopub.status.idle": "2023-08-18T06:59:03.439348Z",
     "shell.execute_reply": "2023-08-18T06:59:03.438495Z"
    },
    "origin_pos": 37,
    "tab": [
     "tensorflow"
    ]
   },
   "source": [
    "X = tf.ones((2, 100, 24))\n",
    "valid_lens = tf.constant([3, 2])\n",
    "norm_shape = [i for i in range(len(X.shape))][1:]\n",
    "encoder_blk = EncoderBlock(24, 24, 24, 24, norm_shape, 48, 8, 0.5)\n",
    "encoder_blk(X, valid_lens, training=False).shape"
   ],
   "outputs": []
  },
  {
   "cell_type": "markdown",
   "id": "510ba379",
   "metadata": {
    "origin_pos": 38
   },
   "source": [
    "下面实现的[**Transformer编码器**]的代码中，堆叠了`num_layers`个`EncoderBlock`类的实例。由于这里使用的是值范围在$-1$和$1$之间的固定位置编码，因此通过学习得到的输入的嵌入表示的值需要先乘以嵌入维度的平方根进行重新缩放，然后再与位置编码相加。\n"
   ]
  },
  {
   "cell_type": "code",
   "execution_count": 9,
   "id": "a8385086",
   "metadata": {
    "execution": {
     "iopub.execute_input": "2023-08-18T06:59:03.442916Z",
     "iopub.status.busy": "2023-08-18T06:59:03.442630Z",
     "iopub.status.idle": "2023-08-18T06:59:03.450352Z",
     "shell.execute_reply": "2023-08-18T06:59:03.449555Z"
    },
    "origin_pos": 41,
    "tab": [
     "tensorflow"
    ]
   },
   "source": [
    "#@save\n",
    "class TransformerEncoder(d2l.Encoder):\n",
    "    \"\"\"Transformer编码器\"\"\"\n",
    "    def __init__(self, vocab_size, key_size, query_size, value_size,\n",
    "                 num_hiddens, norm_shape, ffn_num_hiddens, num_heads,\n",
    "                 num_layers, dropout, bias=False, **kwargs):\n",
    "        super().__init__(**kwargs)\n",
    "        self.num_hiddens = num_hiddens\n",
    "        self.embedding = tf.keras.layers.Embedding(vocab_size, num_hiddens)\n",
    "        self.pos_encoding = d2l.PositionalEncoding(num_hiddens, dropout)\n",
    "        self.blks = [EncoderBlock(\n",
    "            key_size, query_size, value_size, num_hiddens, norm_shape,\n",
    "            ffn_num_hiddens, num_heads, dropout, bias) for _ in range(\n",
    "            num_layers)]\n",
    "\n",
    "    def call(self, X, valid_lens, **kwargs):\n",
    "        # 因为位置编码值在-1和1之间，\n",
    "        # 因此嵌入值乘以嵌入维度的平方根进行缩放，\n",
    "        # 然后再与位置编码相加。\n",
    "        X = self.pos_encoding(self.embedding(X) * tf.math.sqrt(\n",
    "            tf.cast(self.num_hiddens, dtype=tf.float32)), **kwargs)\n",
    "        self.attention_weights = [None] * len(self.blks)\n",
    "        for i, blk in enumerate(self.blks):\n",
    "            X = blk(X, valid_lens, **kwargs)\n",
    "            self.attention_weights[\n",
    "                i] = blk.attention.attention.attention_weights\n",
    "        return X"
   ],
   "outputs": []
  },
  {
   "cell_type": "markdown",
   "id": "f2e95032",
   "metadata": {
    "origin_pos": 43
   },
   "source": [
    "下面我们指定了超参数来[**创建一个两层的Transformer编码器**]。\n",
    "Transformer编码器输出的形状是（批量大小，时间步数目，`num_hiddens`）。\n"
   ]
  },
  {
   "cell_type": "code",
   "execution_count": 10,
   "id": "2dcf2c47",
   "metadata": {
    "execution": {
     "iopub.execute_input": "2023-08-18T06:59:03.453713Z",
     "iopub.status.busy": "2023-08-18T06:59:03.453433Z",
     "iopub.status.idle": "2023-08-18T06:59:03.557044Z",
     "shell.execute_reply": "2023-08-18T06:59:03.556170Z"
    },
    "origin_pos": 46,
    "tab": [
     "tensorflow"
    ]
   },
   "source": [
    "encoder = TransformerEncoder(200, 24, 24, 24, 24, [1, 2], 48, 8, 2, 0.5)\n",
    "encoder(tf.ones((2, 100)), valid_lens, training=False).shape"
   ],
   "outputs": []
  },
  {
   "cell_type": "markdown",
   "id": "297c4cf2",
   "metadata": {
    "origin_pos": 48
   },
   "source": [
    "## 解码器\n",
    "\n",
    "如 :numref:`fig_transformer`所示，[**Transformer解码器也是由多个相同的层组成**]。在`DecoderBlock`类中实现的每个层包含了三个子层：解码器自注意力、“编码器-解码器”注意力和基于位置的前馈网络。这些子层也都被残差连接和紧随的层规范化围绕。\n",
    "\n",
    "正如在本节前面所述，在掩蔽多头解码器自注意力层（第一个子层）中，查询、键和值都来自上一个解码器层的输出。关于*序列到序列模型*（sequence-to-sequence model），在训练阶段，其输出序列的所有位置（时间步）的词元都是已知的；然而，在预测阶段，其输出序列的词元是逐个生成的。因此，在任何解码器时间步中，只有生成的词元才能用于解码器的自注意力计算中。为了在解码器中保留自回归的属性，其掩蔽自注意力设定了参数`dec_valid_lens`，以便任何查询都只会与解码器中所有已经生成词元的位置（即直到该查询位置为止）进行注意力计算。\n"
   ]
  },
  {
   "cell_type": "code",
   "execution_count": 11,
   "id": "8757eb54",
   "metadata": {
    "execution": {
     "iopub.execute_input": "2023-08-18T06:59:03.560968Z",
     "iopub.status.busy": "2023-08-18T06:59:03.560677Z",
     "iopub.status.idle": "2023-08-18T06:59:03.570383Z",
     "shell.execute_reply": "2023-08-18T06:59:03.569593Z"
    },
    "origin_pos": 51,
    "tab": [
     "tensorflow"
    ]
   },
   "source": [
    "class DecoderBlock(tf.keras.layers.Layer):\n",
    "    \"\"\"解码器中第i个块\"\"\"\n",
    "    def __init__(self, key_size, query_size, value_size, num_hiddens,\n",
    "                 norm_shape, ffn_num_hiddens, num_heads, dropout, i, **kwargs):\n",
    "        super().__init__(**kwargs)\n",
    "        self.i = i\n",
    "        self.attention1 = d2l.MultiHeadAttention(key_size, query_size, value_size, num_hiddens, num_heads, dropout)\n",
    "        self.addnorm1 = AddNorm(norm_shape, dropout)\n",
    "        self.attention2 = d2l.MultiHeadAttention(key_size, query_size, value_size, num_hiddens, num_heads, dropout)\n",
    "        self.addnorm2 = AddNorm(norm_shape, dropout)\n",
    "        self.ffn = PositionWiseFFN(ffn_num_hiddens, num_hiddens)\n",
    "        self.addnorm3 = AddNorm(norm_shape, dropout)\n",
    "\n",
    "    def call(self, X, state, **kwargs):\n",
    "        enc_outputs, enc_valid_lens = state[0], state[1]\n",
    "        # 训练阶段，输出序列的所有词元都在同一时间处理，\n",
    "        # 因此state[2][self.i]初始化为None。\n",
    "        # 预测阶段，输出序列是通过词元一个接着一个解码的，\n",
    "        # 因此state[2][self.i]包含着直到当前时间步第i个块解码的输出表示\n",
    "        if state[2][self.i] is None:\n",
    "            key_values = X\n",
    "        else:\n",
    "            key_values = tf.concat((state[2][self.i], X), axis=1)\n",
    "        state[2][self.i] = key_values\n",
    "        if kwargs[\"training\"]:\n",
    "            batch_size, num_steps, _ = X.shape\n",
    "           # dec_valid_lens的开头:(batch_size,num_steps),\n",
    "            # 其中每一行是[1,2,...,num_steps]\n",
    "            dec_valid_lens = tf.repeat(tf.reshape(tf.range(1, num_steps + 1),\n",
    "                                                 shape=(-1, num_steps)), repeats=batch_size, axis=0)\n",
    "\n",
    "        else:\n",
    "            dec_valid_lens = None\n",
    "\n",
    "        # 自注意力\n",
    "        X2 = self.attention1(X, key_values, key_values, dec_valid_lens, **kwargs)\n",
    "        Y = self.addnorm1(X, X2, **kwargs)\n",
    "        # 编码器－解码器注意力。\n",
    "        # enc_outputs的开头:(batch_size,num_steps,num_hiddens)\n",
    "        Y2 = self.attention2(Y, enc_outputs, enc_outputs, enc_valid_lens, **kwargs)\n",
    "        Z = self.addnorm2(Y, Y2, **kwargs)\n",
    "        return self.addnorm3(Z, self.ffn(Z), **kwargs), state"
   ],
   "outputs": []
  },
  {
   "cell_type": "markdown",
   "id": "89e5a7f9",
   "metadata": {
    "origin_pos": 53
   },
   "source": [
    "为了便于在“编码器－解码器”注意力中进行缩放点积计算和残差连接中进行加法计算，[**编码器和解码器的特征维度都是`num_hiddens`。**]\n"
   ]
  },
  {
   "cell_type": "code",
   "execution_count": 12,
   "id": "8ce16f2d",
   "metadata": {
    "execution": {
     "iopub.execute_input": "2023-08-18T06:59:03.574149Z",
     "iopub.status.busy": "2023-08-18T06:59:03.573588Z",
     "iopub.status.idle": "2023-08-18T06:59:03.668639Z",
     "shell.execute_reply": "2023-08-18T06:59:03.667791Z"
    },
    "origin_pos": 56,
    "tab": [
     "tensorflow"
    ]
   },
   "source": [
    "decoder_blk = DecoderBlock(24, 24, 24, 24, [1, 2], 48, 8, 0.5, 0)\n",
    "X = tf.ones((2, 100, 24))\n",
    "state = [encoder_blk(X, valid_lens), valid_lens, [None]]\n",
    "decoder_blk(X, state, training=False)[0].shape"
   ],
   "outputs": []
  },
  {
   "cell_type": "markdown",
   "id": "75bf0d1b",
   "metadata": {
    "origin_pos": 57
   },
   "source": [
    "现在我们构建了由`num_layers`个`DecoderBlock`实例组成的完整的[**Transformer解码器**]。最后，通过一个全连接层计算所有`vocab_size`个可能的输出词元的预测值。解码器的自注意力权重和编码器解码器注意力权重都被存储下来，方便日后可视化的需要。\n"
   ]
  },
  {
   "cell_type": "code",
   "execution_count": 13,
   "id": "cdf6423e",
   "metadata": {
    "execution": {
     "iopub.execute_input": "2023-08-18T06:59:03.672562Z",
     "iopub.status.busy": "2023-08-18T06:59:03.672011Z",
     "iopub.status.idle": "2023-08-18T06:59:03.680860Z",
     "shell.execute_reply": "2023-08-18T06:59:03.680083Z"
    },
    "origin_pos": 60,
    "tab": [
     "tensorflow"
    ]
   },
   "source": [
    "class TransformerDecoder(d2l.AttentionDecoder):\n",
    "    def __init__(self, vocab_size, key_size, query_size, value_size,\n",
    "                 num_hiddens, norm_shape, ffn_num_hidens, num_heads, num_layers, dropout, **kwargs):\n",
    "        super().__init__(**kwargs)\n",
    "        self.num_hiddens = num_hiddens\n",
    "        self.num_layers = num_layers\n",
    "        self.embedding = tf.keras.layers.Embedding(vocab_size, num_hiddens)\n",
    "        self.pos_encoding = d2l.PositionalEncoding(num_hiddens, dropout)\n",
    "        self.blks = [DecoderBlock(key_size, query_size, value_size, num_hiddens, norm_shape,\n",
    "                                  ffn_num_hiddens, num_heads, dropout, i) for i in range(num_layers)]\n",
    "        self.dense = tf.keras.layers.Dense(vocab_size)\n",
    "\n",
    "    def init_state(self, enc_outputs, enc_valid_lens, *args):\n",
    "        return [enc_outputs, enc_valid_lens, [None] * self.num_layers]\n",
    "\n",
    "    def call(self, X, state, **kwargs):\n",
    "        X = self.pos_encoding(self.embedding(X) * tf.math.sqrt(tf.cast(self.num_hiddens, dtype=tf.float32)), **kwargs)\n",
    "        self._attention_weights = [[None] * len(self.blks) for _ in range(2)]  # 解码器中2个注意力层\n",
    "        for i, blk in enumerate(self.blks):\n",
    "            X, state = blk(X, state, **kwargs)\n",
    "            # 解码器自注意力权重\n",
    "            self._attention_weights[0][i] = blk.attention1.attention.attention_weights\n",
    "            # “编码器－解码器”自注意力权重\n",
    "            self._attention_weights[1][i] = blk.attention2.attention.attention_weights\n",
    "        return self.dense(X), state\n",
    "\n",
    "    @property\n",
    "    def attention_weights(self):\n",
    "        return self._attention_weights"
   ],
   "outputs": []
  },
  {
   "cell_type": "markdown",
   "id": "4fa6a321",
   "metadata": {
    "origin_pos": 62
   },
   "source": [
    "## [**训练**]\n",
    "\n",
    "依照Transformer架构来实例化编码器－解码器模型。在这里，指定Transformer的编码器和解码器都是2层，都使用4头注意力。与 :numref:`sec_seq2seq_training`类似，为了进行序列到序列的学习，下面在“英语－法语”机器翻译数据集上训练Transformer模型。\n"
   ]
  },
  {
   "cell_type": "code",
   "execution_count": 14,
   "id": "448b67ad",
   "metadata": {
    "execution": {
     "iopub.execute_input": "2023-08-18T06:59:03.684431Z",
     "iopub.status.busy": "2023-08-18T06:59:03.683804Z",
     "iopub.status.idle": "2023-08-18T07:07:07.384479Z",
     "shell.execute_reply": "2023-08-18T07:07:07.383597Z"
    },
    "origin_pos": 65,
    "tab": [
     "tensorflow"
    ]
   },
   "source": [
    "num_hiddens, num_layers, dropout, batch_size, num_steps = 32, 2, 0.1, 64, 10\n",
    "lr, num_epochs, device = 0.005, 200, d2l.try_gpu()\n",
    "ffn_num_hiddens, num_heads = 64, 4\n",
    "key_size, query_size, value_size = 32, 32, 32\n",
    "norm_shape = [2]\n",
    "\n",
    "train_iter, src_vocab, tgt_vocab = d2l.load_data_nmt(batch_size, num_steps)\n",
    "encoder = TransformerEncoder(\n",
    "    len(src_vocab), key_size, query_size, value_size, num_hiddens, norm_shape,\n",
    "    ffn_num_hiddens, num_heads, num_layers, dropout)\n",
    "decoder = TransformerDecoder(\n",
    "    len(tgt_vocab), key_size, query_size, value_size, num_hiddens, norm_shape,\n",
    "    ffn_num_hiddens, num_heads, num_layers, dropout)\n",
    "net = d2l.EncoderDecoder(encoder, decoder)\n",
    "d2l.train_seq2seq(net, train_iter, lr, num_epochs, tgt_vocab, device)"
   ],
   "outputs": []
  },
  {
   "cell_type": "markdown",
   "id": "b663b6e8",
   "metadata": {
    "origin_pos": 67
   },
   "source": [
    "训练结束后，使用Transformer模型[**将一些英语句子翻译成法语**]，并且计算它们的BLEU分数。\n"
   ]
  },
  {
   "cell_type": "code",
   "execution_count": 15,
   "id": "820b4764",
   "metadata": {
    "execution": {
     "iopub.execute_input": "2023-08-18T07:07:07.388114Z",
     "iopub.status.busy": "2023-08-18T07:07:07.387832Z",
     "iopub.status.idle": "2023-08-18T07:07:08.647489Z",
     "shell.execute_reply": "2023-08-18T07:07:08.646620Z"
    },
    "origin_pos": 69,
    "tab": [
     "tensorflow"
    ]
   },
   "source": [
    "engs = ['go .', \"i lost .\", 'he\\'s calm .', 'i\\'m home .']\n",
    "fras = ['va !', 'j\\'ai perdu .', 'il est calme .', 'je suis chez moi .']\n",
    "for eng, fra in zip(engs, fras):\n",
    "    translation, dec_attention_weight_seq = d2l.predict_seq2seq(\n",
    "        net, eng, src_vocab, tgt_vocab, num_steps, True)\n",
    "    print(f'{eng} => {translation}, ',\n",
    "          f'bleu {d2l.bleu(translation, fra, k=2):.3f}')"
   ],
   "outputs": []
  },
  {
   "cell_type": "markdown",
   "id": "4268452c",
   "metadata": {
    "origin_pos": 70
   },
   "source": [
    "当进行最后一个英语到法语的句子翻译工作时，让我们[**可视化Transformer的注意力权重**]。编码器自注意力权重的形状为（编码器层数，注意力头数，`num_steps`或查询的数目，`num_steps`或“键－值”对的数目）。\n"
   ]
  },
  {
   "cell_type": "code",
   "execution_count": 16,
   "id": "79240fa1",
   "metadata": {
    "execution": {
     "iopub.execute_input": "2023-08-18T07:07:08.651022Z",
     "iopub.status.busy": "2023-08-18T07:07:08.650741Z",
     "iopub.status.idle": "2023-08-18T07:07:08.657424Z",
     "shell.execute_reply": "2023-08-18T07:07:08.656610Z"
    },
    "origin_pos": 71,
    "tab": [
     "tensorflow"
    ]
   },
   "source": [
    "enc_attention_weights = tf.reshape(\n",
    "    tf.concat(net.encoder.attention_weights, 0),\n",
    "    (num_layers, num_heads, -1, num_steps))\n",
    "enc_attention_weights.shape"
   ],
   "outputs": []
  },
  {
   "cell_type": "markdown",
   "id": "042e58bf",
   "metadata": {
    "origin_pos": 72
   },
   "source": [
    "在编码器的自注意力中，查询和键都来自相同的输入序列。因为填充词元是不携带信息的，因此通过指定输入序列的有效长度可以避免查询与使用填充词元的位置计算注意力。接下来，将逐行呈现两层多头注意力的权重。每个注意力头都根据查询、键和值的不同的表示子空间来表示不同的注意力。\n"
   ]
  },
  {
   "cell_type": "code",
   "execution_count": 17,
   "id": "a1a46250",
   "metadata": {
    "execution": {
     "iopub.execute_input": "2023-08-18T07:07:08.660624Z",
     "iopub.status.busy": "2023-08-18T07:07:08.660349Z",
     "iopub.status.idle": "2023-08-18T07:07:09.381837Z",
     "shell.execute_reply": "2023-08-18T07:07:09.381002Z"
    },
    "origin_pos": 73,
    "tab": [
     "tensorflow"
    ]
   },
   "source": [
    "d2l.show_heatmaps(\n",
    "    enc_attention_weights, xlabel='Key positions', ylabel='Query positions',\n",
    "    titles=['Head %d' % i for i in range(1, 5)], figsize=(7, 3.5))"
   ],
   "outputs": []
  },
  {
   "cell_type": "markdown",
   "id": "c4f38cbd",
   "metadata": {
    "origin_pos": 75
   },
   "source": [
    "[**为了可视化解码器的自注意力权重和“编码器－解码器”的注意力权重，我们需要完成更多的数据操作工作。**]例如用零填充被掩蔽住的注意力权重。值得注意的是，解码器的自注意力权重和“编码器－解码器”的注意力权重都有相同的查询：即以*序列开始词元*（beginning-of-sequence,BOS）打头，再与后续输出的词元共同组成序列。\n"
   ]
  },
  {
   "cell_type": "code",
   "execution_count": 18,
   "id": "88b21500",
   "metadata": {
    "execution": {
     "iopub.execute_input": "2023-08-18T07:07:09.385846Z",
     "iopub.status.busy": "2023-08-18T07:07:09.385248Z",
     "iopub.status.idle": "2023-08-18T07:07:09.628927Z",
     "shell.execute_reply": "2023-08-18T07:07:09.628039Z"
    },
    "origin_pos": 78,
    "tab": [
     "tensorflow"
    ]
   },
   "source": [
    "dec_attention_weights_2d = [head[0] for step in dec_attention_weight_seq\n",
    "                            for attn in step\n",
    "                            for blk in attn for head in blk]\n",
    "dec_attention_weights_filled = tf.convert_to_tensor(\n",
    "    np.asarray(pd.DataFrame(dec_attention_weights_2d).fillna(\n",
    "        0.0).values).astype(np.float32))\n",
    "dec_attention_weights = tf.reshape(dec_attention_weights_filled, shape=(\n",
    "    -1, 2, num_layers, num_heads, num_steps))\n",
    "dec_self_attention_weights, dec_inter_attention_weights = tf.transpose(\n",
    "    dec_attention_weights, perm=(1, 2, 3, 0, 4))\n",
    "print(dec_self_attention_weights.shape, dec_inter_attention_weights.shape)"
   ],
   "outputs": []
  },
  {
   "cell_type": "markdown",
   "id": "65799c94",
   "metadata": {
    "origin_pos": 80
   },
   "source": [
    "由于解码器自注意力的自回归属性，查询不会对当前位置之后的“键－值”对进行注意力计算。\n"
   ]
  },
  {
   "cell_type": "code",
   "execution_count": 19,
   "id": "c7fac192",
   "metadata": {
    "execution": {
     "iopub.execute_input": "2023-08-18T07:07:09.632635Z",
     "iopub.status.busy": "2023-08-18T07:07:09.632063Z",
     "iopub.status.idle": "2023-08-18T07:07:10.499134Z",
     "shell.execute_reply": "2023-08-18T07:07:10.498301Z"
    },
    "origin_pos": 81,
    "tab": [
     "tensorflow"
    ]
   },
   "source": [
    "# Plusonetoincludethebeginning-of-sequencetoken\n",
    "d2l.show_heatmaps(\n",
    "    dec_self_attention_weights[:, :, :, :len(translation.split()) + 1],\n",
    "    xlabel='Key positions', ylabel='Query positions',\n",
    "    titles=['Head %d' % i for i in range(1, 5)], figsize=(7, 3.5))"
   ],
   "outputs": []
  },
  {
   "cell_type": "markdown",
   "id": "b2928e9d",
   "metadata": {
    "origin_pos": 82
   },
   "source": [
    "与编码器的自注意力的情况类似，通过指定输入序列的有效长度，[**输出序列的查询不会与输入序列中填充位置的词元进行注意力计算**]。\n"
   ]
  },
  {
   "cell_type": "code",
   "execution_count": 20,
   "id": "a9676147",
   "metadata": {
    "execution": {
     "iopub.execute_input": "2023-08-18T07:07:10.503279Z",
     "iopub.status.busy": "2023-08-18T07:07:10.502688Z",
     "iopub.status.idle": "2023-08-18T07:07:11.164415Z",
     "shell.execute_reply": "2023-08-18T07:07:11.163499Z"
    },
    "origin_pos": 83,
    "tab": [
     "tensorflow"
    ]
   },
   "source": [
    "d2l.show_heatmaps(\n",
    "    dec_inter_attention_weights, xlabel='Key positions',\n",
    "    ylabel='Query positions', titles=['Head %d' % i for i in range(1, 5)],\n",
    "    figsize=(7, 3.5))"
   ],
   "outputs": []
  },
  {
   "cell_type": "markdown",
   "id": "e8145d7e",
   "metadata": {
    "origin_pos": 84
   },
   "source": [
    "尽管Transformer架构是为了*序列到序列*的学习而提出的，但正如本书后面将提及的那样，Transformer编码器或Transformer解码器通常被单独用于不同的深度学习任务中。\n",
    "\n",
    "## 小结\n",
    "\n",
    "* Transformer是编码器－解码器架构的一个实践，尽管在实际情况中编码器或解码器可以单独使用。\n",
    "* 在Transformer中，多头自注意力用于表示输入序列和输出序列，不过解码器必须通过掩蔽机制来保留自回归属性。\n",
    "* Transformer中的残差连接和层规范化是训练非常深度模型的重要工具。\n",
    "* Transformer模型中基于位置的前馈网络使用同一个多层感知机，作用是对所有序列位置的表示进行转换。\n",
    "\n",
    "## 练习\n",
    "\n",
    "1. 在实验中训练更深的Transformer将如何影响训练速度和翻译效果？\n",
    "1. 在Transformer中使用加性注意力取代缩放点积注意力是不是个好办法？为什么？\n",
    "1. 对于语言模型，应该使用Transformer的编码器还是解码器，或者两者都用？如何设计？\n",
    "1. 如果输入序列很长，Transformer会面临什么挑战？为什么？\n",
    "1. 如何提高Transformer的计算速度和内存使用效率？提示：可以参考论文 :cite:`Tay.Dehghani.Bahri.ea.2020`。\n",
    "1. 如果不使用卷积神经网络，如何设计基于Transformer模型的图像分类任务？提示：可以参考Vision Transformer :cite:`Dosovitskiy.Beyer.Kolesnikov.ea.2021`。\n"
   ]
  }
 ],
 "metadata": {
  "language_info": {
   "name": "python"
  },
  "required_libs": []
 },
 "nbformat": 4,
 "nbformat_minor": 5
}
