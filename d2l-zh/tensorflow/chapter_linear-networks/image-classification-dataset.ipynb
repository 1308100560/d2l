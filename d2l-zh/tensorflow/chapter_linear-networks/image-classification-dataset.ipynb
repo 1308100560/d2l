{
 "cells": [
  {
   "cell_type": "markdown",
   "id": "0f0d7a73",
   "metadata": {
    "origin_pos": 0
   },
   "source": [
    "# 图像分类数据集\n",
    ":label:`sec_fashion_mnist`\n",
    "\n",
    "(**MNIST数据集**) :cite:`LeCun.Bottou.Bengio.ea.1998`\n",
    "(**是图像分类中广泛使用的数据集之一，但作为基准数据集过于简单。\n",
    "我们将使用类似但更复杂的Fashion-MNIST数据集**) :cite:`Xiao.Rasul.Vollgraf.2017`。\n"
   ]
  },
  {
   "cell_type": "code",
   "execution_count": 1,
   "id": "5c1760f0",
   "metadata": {
    "execution": {
     "iopub.execute_input": "2023-08-18T07:31:59.261745Z",
     "iopub.status.busy": "2023-08-18T07:31:59.261048Z",
     "iopub.status.idle": "2023-08-18T07:32:02.262250Z",
     "shell.execute_reply": "2023-08-18T07:32:02.260661Z"
    },
    "origin_pos": 3,
    "tab": [
     "tensorflow"
    ]
   },
   "source": [
    "%matplotlib inline\n",
    "import tensorflow as tf\n",
    "from d2l import tensorflow as d2l\n",
    "\n",
    "d2l.use_svg_display()"
   ],
   "outputs": []
  },
  {
   "cell_type": "markdown",
   "id": "05d7fc88",
   "metadata": {
    "origin_pos": 5
   },
   "source": [
    "## 读取数据集\n",
    "\n",
    "我们可以[**通过框架中的内置函数将Fashion-MNIST数据集下载并读取到内存中**]。\n"
   ]
  },
  {
   "cell_type": "code",
   "execution_count": 2,
   "id": "66629985",
   "metadata": {
    "execution": {
     "iopub.execute_input": "2023-08-18T07:32:02.269271Z",
     "iopub.status.busy": "2023-08-18T07:32:02.268557Z",
     "iopub.status.idle": "2023-08-18T07:32:02.749900Z",
     "shell.execute_reply": "2023-08-18T07:32:02.748636Z"
    },
    "origin_pos": 8,
    "tab": [
     "tensorflow"
    ]
   },
   "source": [
    "mnist_train, mnist_test = tf.keras.datasets.fashion_mnist.load_data()"
   ],
   "outputs": []
  },
  {
   "cell_type": "markdown",
   "id": "f310f57a",
   "metadata": {
    "origin_pos": 10
   },
   "source": [
    "Fashion-MNIST由10个类别的图像组成，\n",
    "每个类别由*训练数据集*（train dataset）中的6000张图像\n",
    "和*测试数据集*（test dataset）中的1000张图像组成。\n",
    "因此，训练集和测试集分别包含60000和10000张图像。\n",
    "测试数据集不会用于训练，只用于评估模型性能。\n"
   ]
  },
  {
   "cell_type": "code",
   "execution_count": 3,
   "id": "3f979b9c",
   "metadata": {
    "execution": {
     "iopub.execute_input": "2023-08-18T07:32:02.753987Z",
     "iopub.status.busy": "2023-08-18T07:32:02.753697Z",
     "iopub.status.idle": "2023-08-18T07:32:02.762576Z",
     "shell.execute_reply": "2023-08-18T07:32:02.761467Z"
    },
    "origin_pos": 12,
    "tab": [
     "tensorflow"
    ]
   },
   "source": [
    "len(mnist_train[0]), len(mnist_test[0])"
   ],
   "outputs": []
  },
  {
   "cell_type": "markdown",
   "id": "c659aebf",
   "metadata": {
    "origin_pos": 13
   },
   "source": [
    "每个输入图像的高度和宽度均为28像素。\n",
    "数据集由灰度图像组成，其通道数为1。\n",
    "为了简洁起见，本书将高度$h$像素、宽度$w$像素图像的形状记为$h \\times w$或（$h$,$w$）。\n"
   ]
  },
  {
   "cell_type": "code",
   "execution_count": 4,
   "id": "c3aac098",
   "metadata": {
    "execution": {
     "iopub.execute_input": "2023-08-18T07:32:02.765908Z",
     "iopub.status.busy": "2023-08-18T07:32:02.765635Z",
     "iopub.status.idle": "2023-08-18T07:32:02.772427Z",
     "shell.execute_reply": "2023-08-18T07:32:02.771245Z"
    },
    "origin_pos": 14,
    "tab": [
     "tensorflow"
    ]
   },
   "source": [
    "mnist_train[0][0].shape"
   ],
   "outputs": []
  },
  {
   "cell_type": "markdown",
   "id": "49f796a8",
   "metadata": {
    "origin_pos": 15
   },
   "source": [
    "[~~两个可视化数据集的函数~~]\n",
    "\n",
    "Fashion-MNIST中包含的10个类别，分别为t-shirt（T恤）、trouser（裤子）、pullover（套衫）、dress（连衣裙）、coat（外套）、sandal（凉鞋）、shirt（衬衫）、sneaker（运动鞋）、bag（包）和ankle boot（短靴）。\n",
    "以下函数用于在数字标签索引及其文本名称之间进行转换。\n"
   ]
  },
  {
   "cell_type": "code",
   "execution_count": 5,
   "id": "cbee6a78",
   "metadata": {
    "execution": {
     "iopub.execute_input": "2023-08-18T07:32:02.775822Z",
     "iopub.status.busy": "2023-08-18T07:32:02.775516Z",
     "iopub.status.idle": "2023-08-18T07:32:02.781498Z",
     "shell.execute_reply": "2023-08-18T07:32:02.780342Z"
    },
    "origin_pos": 16,
    "tab": [
     "tensorflow"
    ]
   },
   "source": [
    "def get_fashion_mnist_labels(labels):  #@save\n",
    "    \"\"\"返回Fashion-MNIST数据集的文本标签\"\"\"\n",
    "    text_labels = ['t-shirt', 'trouser', 'pullover', 'dress', 'coat',\n",
    "                   'sandal', 'shirt', 'sneaker', 'bag', 'ankle boot']\n",
    "    return [text_labels[int(i)] for i in labels]"
   ],
   "outputs": []
  },
  {
   "cell_type": "markdown",
   "id": "9ad6cc12",
   "metadata": {
    "origin_pos": 17
   },
   "source": [
    "我们现在可以创建一个函数来可视化这些样本。\n"
   ]
  },
  {
   "cell_type": "code",
   "execution_count": 6,
   "id": "7dbbb7b3",
   "metadata": {
    "execution": {
     "iopub.execute_input": "2023-08-18T07:32:02.784942Z",
     "iopub.status.busy": "2023-08-18T07:32:02.784668Z",
     "iopub.status.idle": "2023-08-18T07:32:02.791586Z",
     "shell.execute_reply": "2023-08-18T07:32:02.790426Z"
    },
    "origin_pos": 18,
    "tab": [
     "tensorflow"
    ]
   },
   "source": [
    "def show_images(imgs, num_rows, num_cols, titles=None, scale=1.5):  #@save\n",
    "    \"\"\"绘制图像列表\"\"\"\n",
    "    figsize = (num_cols * scale, num_rows * scale)\n",
    "    _, axes = d2l.plt.subplots(num_rows, num_cols, figsize=figsize)\n",
    "    axes = axes.flatten()\n",
    "    for i, (ax, img) in enumerate(zip(axes, imgs)):\n",
    "        ax.imshow(img.numpy())\n",
    "        ax.axes.get_xaxis().set_visible(False)\n",
    "        ax.axes.get_yaxis().set_visible(False)\n",
    "        if titles:\n",
    "            ax.set_title(titles[i])\n",
    "    return axes"
   ],
   "outputs": []
  },
  {
   "cell_type": "markdown",
   "id": "ae0530cb",
   "metadata": {
    "origin_pos": 21
   },
   "source": [
    "以下是训练数据集中前[**几个样本的图像及其相应的标签**]。\n"
   ]
  },
  {
   "cell_type": "code",
   "execution_count": 7,
   "id": "d16dc883",
   "metadata": {
    "execution": {
     "iopub.execute_input": "2023-08-18T07:32:02.794999Z",
     "iopub.status.busy": "2023-08-18T07:32:02.794728Z",
     "iopub.status.idle": "2023-08-18T07:32:05.540684Z",
     "shell.execute_reply": "2023-08-18T07:32:05.539796Z"
    },
    "origin_pos": 24,
    "tab": [
     "tensorflow"
    ]
   },
   "source": [
    "X = tf.constant(mnist_train[0][:18])\n",
    "y = tf.constant(mnist_train[1][:18])\n",
    "show_images(X, 2, 9, titles=get_fashion_mnist_labels(y));"
   ],
   "outputs": []
  },
  {
   "cell_type": "markdown",
   "id": "75544f10",
   "metadata": {
    "origin_pos": 26
   },
   "source": [
    "## 读取小批量\n",
    "\n",
    "为了使我们在读取训练集和测试集时更容易，我们使用内置的数据迭代器，而不是从零开始创建。\n",
    "回顾一下，在每次迭代中，数据加载器每次都会[**读取一小批量数据，大小为`batch_size`**]。\n",
    "通过内置数据迭代器，我们可以随机打乱了所有样本，从而无偏见地读取小批量。\n"
   ]
  },
  {
   "cell_type": "code",
   "execution_count": 8,
   "id": "9b264c1e",
   "metadata": {
    "execution": {
     "iopub.execute_input": "2023-08-18T07:32:05.544958Z",
     "iopub.status.busy": "2023-08-18T07:32:05.544381Z",
     "iopub.status.idle": "2023-08-18T07:32:05.551868Z",
     "shell.execute_reply": "2023-08-18T07:32:05.551071Z"
    },
    "origin_pos": 29,
    "tab": [
     "tensorflow"
    ]
   },
   "source": [
    "batch_size = 256\n",
    "train_iter = tf.data.Dataset.from_tensor_slices(\n",
    "    mnist_train).batch(batch_size).shuffle(len(mnist_train[0]))"
   ],
   "outputs": []
  },
  {
   "cell_type": "markdown",
   "id": "c995aa70",
   "metadata": {
    "origin_pos": 31
   },
   "source": [
    "我们看一下读取训练数据所需的时间。\n"
   ]
  },
  {
   "cell_type": "code",
   "execution_count": 9,
   "id": "1f705263",
   "metadata": {
    "execution": {
     "iopub.execute_input": "2023-08-18T07:32:05.555403Z",
     "iopub.status.busy": "2023-08-18T07:32:05.554894Z",
     "iopub.status.idle": "2023-08-18T07:32:05.868721Z",
     "shell.execute_reply": "2023-08-18T07:32:05.867862Z"
    },
    "origin_pos": 32,
    "tab": [
     "tensorflow"
    ]
   },
   "source": [
    "timer = d2l.Timer()\n",
    "for X, y in train_iter:\n",
    "    continue\n",
    "f'{timer.stop():.2f} sec'"
   ],
   "outputs": []
  },
  {
   "cell_type": "markdown",
   "id": "18208f75",
   "metadata": {
    "origin_pos": 33
   },
   "source": [
    "## 整合所有组件\n",
    "\n",
    "现在我们[**定义`load_data_fashion_mnist`函数**]，用于获取和读取Fashion-MNIST数据集。\n",
    "这个函数返回训练集和验证集的数据迭代器。\n",
    "此外，这个函数还接受一个可选参数`resize`，用来将图像大小调整为另一种形状。\n"
   ]
  },
  {
   "cell_type": "code",
   "execution_count": 10,
   "id": "759570c0",
   "metadata": {
    "execution": {
     "iopub.execute_input": "2023-08-18T07:32:05.872580Z",
     "iopub.status.busy": "2023-08-18T07:32:05.872022Z",
     "iopub.status.idle": "2023-08-18T07:32:05.878342Z",
     "shell.execute_reply": "2023-08-18T07:32:05.877512Z"
    },
    "origin_pos": 36,
    "tab": [
     "tensorflow"
    ]
   },
   "source": [
    "def load_data_fashion_mnist(batch_size, resize=None):   #@save\n",
    "    \"\"\"下载Fashion-MNIST数据集，然后将其加载到内存中\"\"\"\n",
    "    mnist_train, mnist_test = tf.keras.datasets.fashion_mnist.load_data()\n",
    "    # 将所有数字除以255，使所有像素值介于0和1之间，在最后添加一个批处理维度，\n",
    "    # 并将标签转换为int32。\n",
    "    process = lambda X, y: (tf.expand_dims(X, axis=3) / 255,\n",
    "                            tf.cast(y, dtype='int32'))\n",
    "    resize_fn = lambda X, y: (\n",
    "        tf.image.resize_with_pad(X, resize, resize) if resize else X, y)\n",
    "    return (\n",
    "        tf.data.Dataset.from_tensor_slices(process(*mnist_train)).batch(\n",
    "            batch_size).shuffle(len(mnist_train[0])).map(resize_fn),\n",
    "        tf.data.Dataset.from_tensor_slices(process(*mnist_test)).batch(\n",
    "            batch_size).map(resize_fn))"
   ],
   "outputs": []
  },
  {
   "cell_type": "markdown",
   "id": "3108e37d",
   "metadata": {
    "origin_pos": 38
   },
   "source": [
    "下面，我们通过指定`resize`参数来测试`load_data_fashion_mnist`函数的图像大小调整功能。\n"
   ]
  },
  {
   "cell_type": "code",
   "execution_count": 11,
   "id": "462083a9",
   "metadata": {
    "execution": {
     "iopub.execute_input": "2023-08-18T07:32:05.881910Z",
     "iopub.status.busy": "2023-08-18T07:32:05.881398Z",
     "iopub.status.idle": "2023-08-18T07:32:07.056124Z",
     "shell.execute_reply": "2023-08-18T07:32:07.055177Z"
    },
    "origin_pos": 39,
    "tab": [
     "tensorflow"
    ]
   },
   "source": [
    "train_iter, test_iter = load_data_fashion_mnist(32, resize=64)\n",
    "for X, y in train_iter:\n",
    "    print(X.shape, X.dtype, y.shape, y.dtype)\n",
    "    break"
   ],
   "outputs": []
  },
  {
   "cell_type": "markdown",
   "id": "c40b7ba2",
   "metadata": {
    "origin_pos": 40
   },
   "source": [
    "我们现在已经准备好使用Fashion-MNIST数据集，便于下面的章节调用来评估各种分类算法。\n",
    "\n",
    "## 小结\n",
    "\n",
    "* Fashion-MNIST是一个服装分类数据集，由10个类别的图像组成。我们将在后续章节中使用此数据集来评估各种分类算法。\n",
    "* 我们将高度$h$像素，宽度$w$像素图像的形状记为$h \\times w$或（$h$,$w$）。\n",
    "* 数据迭代器是获得更高性能的关键组件。依靠实现良好的数据迭代器，利用高性能计算来避免减慢训练过程。\n",
    "\n",
    "## 练习\n",
    "\n",
    "1. 减少`batch_size`（如减少到1）是否会影响读取性能？\n",
    "1. 数据迭代器的性能非常重要。当前的实现足够快吗？探索各种选择来改进它。\n",
    "1. 查阅框架的在线API文档。还有哪些其他数据集可用？\n"
   ]
  },
  {
   "cell_type": "markdown",
   "id": "ae5908ba",
   "metadata": {
    "origin_pos": 43,
    "tab": [
     "tensorflow"
    ]
   },
   "source": [
    "[Discussions](https://discuss.d2l.ai/t/1786)\n"
   ]
  }
 ],
 "metadata": {
  "language_info": {
   "name": "python"
  },
  "required_libs": []
 },
 "nbformat": 4,
 "nbformat_minor": 5
}
